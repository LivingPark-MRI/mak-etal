{
 "cells": [
  {
   "cell_type": "code",
   "execution_count": 1,
   "id": "2b2dbab0-b535-4fe2-9d3f-d29d3bc93363",
   "metadata": {},
   "outputs": [
    {
     "name": "stdout",
     "output_type": "stream",
     "text": [
      "removing link inputs\n",
      "removing link outputs\n",
      "Installing notebook dependencies (see log in install.log)... \n",
      "This notebook was run on 2022-10-05 17:52:16 UTC +0000\n"
     ]
    },
    {
     "data": {
      "text/html": [
       "<script>\n",
       "    code_show = true;\n",
       "    function code_toggle() {\n",
       "        if (code_show) {\n",
       "            $(\"div.input\").hide();\n",
       "        } else {\n",
       "            $(\"div.input\").show();\n",
       "        }\n",
       "        code_show = !code_show\n",
       "    }\n",
       "    $(document).ready(code_toggle);\n",
       "</script>\n",
       "<form action=\"javascript:code_toggle()\">\n",
       "    <input type=\"submit\" value=\"Click here to toggle on/off the Python code.\">\n",
       "</form>\n"
      ],
      "text/plain": [
       "<IPython.core.display.HTML object>"
      ]
     },
     "execution_count": 1,
     "metadata": {},
     "output_type": "execute_result"
    }
   ],
   "source": [
    "import os\n",
    "\n",
    "import livingpark_utils\n",
    "\n",
    "\n",
    "os.environ[\"PIP_REQUIRE_VIRTUALENV\"] = \"False\"\n",
    "utils = livingpark_utils.LivingParkUtils()\n",
    "utils.notebook_init()"
   ]
  },
  {
   "cell_type": "code",
   "execution_count": 2,
   "id": "18681358-11e3-426e-948e-9feadd49f168",
   "metadata": {},
   "outputs": [
    {
     "name": "stdout",
     "output_type": "stream",
     "text": [
      "Download skipped: No missing files!\n"
     ]
    }
   ],
   "source": [
    "required_files = [\n",
    "    \"Participant_Status.csv\",\n",
    "    \"Primary_Clinical_Diagnosis.csv\",\n",
    "]\n",
    "\n",
    "utils.download_ppmi_metadata(required_files, headless=False)"
   ]
  },
  {
   "cell_type": "code",
   "execution_count": 3,
   "id": "1d7609d1-3cdb-4c1c-8092-33e36ae40a41",
   "metadata": {},
   "outputs": [
    {
     "name": "stdout",
     "output_type": "stream",
     "text": [
      "Status participants: 2374\n",
      "Primary diagnosis participants: 2022\n",
      "Number of common patients: 2022\n"
     ]
    }
   ],
   "source": [
    "import numpy as np\n",
    "import pandas as pd\n",
    "\n",
    "status = pd.read_csv(os.path.join(utils.study_files_dir, \"Participant_Status.csv\"))[[\"PATNO\", \"STATUS_DATE\", \"COHORT\"]]\n",
    "prim_diag = pd.read_csv(os.path.join(utils.study_files_dir, \"Primary_Clinical_Diagnosis.csv\"))[[\"PATNO\", \"EVENT_ID\", \"PRIMDIAG\"]]\n",
    "\n",
    "common_patno = np.intersect1d(status[\"PATNO\"].unique(), prim_diag[\"PATNO\"].unique())\n",
    "print(f\"Status participants: {status['PATNO'].nunique()}\")\n",
    "print(f\"Primary diagnosis participants: {prim_diag['PATNO'].nunique()}\")\n",
    "print(f\"Number of common patients: {common_patno.size}\")"
   ]
  },
  {
   "cell_type": "code",
   "execution_count": 4,
   "id": "9a411757-c6bb-40c9-8b1a-170937cf154e",
   "metadata": {},
   "outputs": [
    {
     "data": {
      "text/plain": [
       "0"
      ]
     },
     "execution_count": 4,
     "metadata": {},
     "output_type": "execute_result"
    }
   ],
   "source": [
    "status.groupby(\"PATNO\").filter(lambda g: g[\"COHORT\"].nunique() > 1)[\"PATNO\"].nunique()"
   ]
  },
  {
   "cell_type": "code",
   "execution_count": 5,
   "id": "4d46b545-e7c4-4750-bba0-0cf4a1075263",
   "metadata": {},
   "outputs": [
    {
     "data": {
      "text/plain": [
       "334"
      ]
     },
     "execution_count": 5,
     "metadata": {},
     "output_type": "execute_result"
    }
   ],
   "source": [
    "prim_diag.groupby(\"PATNO\").filter(lambda g: g[\"PRIMDIAG\"].nunique() > 1)[\"PATNO\"].nunique()"
   ]
  },
  {
   "cell_type": "markdown",
   "id": "97b4655d-a49c-4221-a97a-0fc99b8fa6ba",
   "metadata": {},
   "source": [
    "All patients have a single cohort definition, but some have multiple primary diagnosis."
   ]
  },
  {
   "cell_type": "code",
   "execution_count": 6,
   "id": "5cf631fc-6bcf-4deb-8a1b-9916086e8418",
   "metadata": {},
   "outputs": [
    {
     "data": {
      "text/plain": [
       "COHORT\n",
       "1    1164\n",
       "2     311\n",
       "3      81\n",
       "4     799\n",
       "9      19\n",
       "dtype: int64"
      ]
     },
     "execution_count": 6,
     "metadata": {},
     "output_type": "execute_result"
    }
   ],
   "source": [
    "status_HC = status[status[\"COHORT\"] == 2][\"PATNO\"].unique()\n",
    "status.groupby(\"COHORT\").size()"
   ]
  },
  {
   "cell_type": "markdown",
   "id": "82a75787-68b0-4594-acfd-beae250acdcf",
   "metadata": {},
   "source": [
    "# Unique diagnosis"
   ]
  },
  {
   "cell_type": "markdown",
   "id": "e11f8a68-ff93-4594-a5bc-71648cfaa233",
   "metadata": {
    "tags": []
   },
   "source": [
    "## Get mismatch"
   ]
  },
  {
   "cell_type": "code",
   "execution_count": 7,
   "id": "44daf176-4de9-4123-91d9-d9c119004e7d",
   "metadata": {
    "collapsed": true,
    "jupyter": {
     "outputs_hidden": true,
     "source_hidden": true
    },
    "tags": []
   },
   "outputs": [
    {
     "data": {
      "text/plain": [
       "1688"
      ]
     },
     "execution_count": 7,
     "metadata": {},
     "output_type": "execute_result"
    }
   ],
   "source": [
    "single_diag = prim_diag.groupby(\"PATNO\").filter(lambda g: g[\"PRIMDIAG\"].nunique() == 1)\n",
    "single_diag[\"PATNO\"].nunique()"
   ]
  },
  {
   "cell_type": "code",
   "execution_count": 8,
   "id": "fc8e952a-5e22-4257-aecd-fc6ca51ad7a6",
   "metadata": {
    "collapsed": true,
    "jupyter": {
     "outputs_hidden": true,
     "source_hidden": true
    },
    "tags": []
   },
   "outputs": [
    {
     "data": {
      "text/plain": [
       "PRIMDIAG\n",
       "1     968\n",
       "5       2\n",
       "7       5\n",
       "8       1\n",
       "15      1\n",
       "16      1\n",
       "17    593\n",
       "23     77\n",
       "24      1\n",
       "25     33\n",
       "97      6\n",
       "dtype: int64"
      ]
     },
     "execution_count": 8,
     "metadata": {},
     "output_type": "execute_result"
    }
   ],
   "source": [
    "single_diag_HC = single_diag[single_diag[\"PRIMDIAG\"] == 17][\"PATNO\"].unique()\n",
    "single_diag.drop_duplicates(subset=[\"PATNO\", \"PRIMDIAG\"]).groupby(\"PRIMDIAG\").size()"
   ]
  },
  {
   "cell_type": "code",
   "execution_count": 9,
   "id": "ab36eb67-747e-4ec5-8020-25463ea3e0e5",
   "metadata": {
    "jupyter": {
     "source_hidden": true
    },
    "tags": []
   },
   "outputs": [
    {
     "name": "stdout",
     "output_type": "stream",
     "text": [
      "Number of mismatch: 356\n"
     ]
    }
   ],
   "source": [
    "mismatch = np.intersect1d(\n",
    "    np.setxor1d(status_HC, single_diag_HC),\n",
    "    np.intersect1d(status[\"PATNO\"].unique(), single_diag[\"PATNO\"].unique())\n",
    ")\n",
    "print(f\"Number of mismatch: {mismatch.size}\")\n",
    "\n",
    "status[status[\"PATNO\"].isin(mismatch)].groupby(\"COHORT\")[\"PATNO\"].nunique();"
   ]
  },
  {
   "cell_type": "code",
   "execution_count": 10,
   "id": "429fa7d2-8b22-4c0a-ba2f-a477320777f1",
   "metadata": {
    "jupyter": {
     "source_hidden": true
    },
    "tags": []
   },
   "outputs": [],
   "source": [
    "prim_diag[prim_diag[\"PATNO\"].isin(mismatch)].groupby(\"PRIMDIAG\")[\"PATNO\"].nunique();"
   ]
  },
  {
   "cell_type": "markdown",
   "id": "72f9c490-9b38-4c1d-b13a-026f93fc9cde",
   "metadata": {},
   "source": [
    "## Results"
   ]
  },
  {
   "cell_type": "code",
   "execution_count": 11,
   "id": "b18218f2-a5ad-4d6e-a957-67411ba4f7af",
   "metadata": {
    "jupyter": {
     "source_hidden": true
    },
    "tags": []
   },
   "outputs": [
    {
     "data": {
      "text/plain": [
       "COHORT  PRIMDIAG\n",
       "4       17          354\n",
       "2       97            1\n",
       "3       17            1\n",
       "Name: PATNO, dtype: int64"
      ]
     },
     "execution_count": 11,
     "metadata": {},
     "output_type": "execute_result"
    }
   ],
   "source": [
    "(\n",
    "    status[status[\"PATNO\"].isin(mismatch)].merge(\n",
    "        prim_diag[prim_diag[\"PATNO\"].isin(mismatch)], on=[\"PATNO\"]\n",
    "    )\n",
    "    .drop_duplicates(subset=[\"PATNO\", \"COHORT\", \"PRIMDIAG\"])\n",
    "    .groupby([\"COHORT\", \"PRIMDIAG\"])\n",
    "    [\"PATNO\"].nunique().sort_values(ascending=False)\n",
    ")"
   ]
  },
  {
   "cell_type": "markdown",
   "id": "4f977cc9-f052-43e4-8c22-4d17e4f680b8",
   "metadata": {},
   "source": [
    "Lots of mismatch bewteen COHORT=Promodal and PRIMDIAG=HC"
   ]
  },
  {
   "cell_type": "markdown",
   "id": "1f424c11-16e3-48c4-b712-1d9183637d35",
   "metadata": {
    "tags": []
   },
   "source": [
    "# Multiple diagnosis"
   ]
  },
  {
   "cell_type": "markdown",
   "id": "abf724d0-c8ce-423b-9037-03ee7ffce489",
   "metadata": {
    "jp-MarkdownHeadingCollapsed": true,
    "jupyter": {
     "source_hidden": true
    },
    "tags": []
   },
   "source": [
    "## Get mismatch"
   ]
  },
  {
   "cell_type": "code",
   "execution_count": 12,
   "id": "53a56408-acb6-4155-b72f-44d7c5521ccd",
   "metadata": {
    "tags": []
   },
   "outputs": [
    {
     "data": {
      "text/plain": [
       "334"
      ]
     },
     "execution_count": 12,
     "metadata": {},
     "output_type": "execute_result"
    }
   ],
   "source": [
    "multi_diag = prim_diag.groupby(\"PATNO\").filter(lambda g: g[\"PRIMDIAG\"].nunique() > 1)\n",
    "multi_diag[\"PATNO\"].nunique()"
   ]
  },
  {
   "cell_type": "code",
   "execution_count": 13,
   "id": "06425fc2-5e5d-432b-a618-73b19fac9b6b",
   "metadata": {
    "tags": []
   },
   "outputs": [
    {
     "data": {
      "text/plain": [
       "PRIMDIAG\n",
       "1     144\n",
       "2       2\n",
       "4       2\n",
       "5       9\n",
       "6       1\n",
       "7      54\n",
       "9       1\n",
       "10      1\n",
       "11     13\n",
       "12      2\n",
       "14      2\n",
       "15     15\n",
       "16      3\n",
       "17    229\n",
       "18      3\n",
       "23     60\n",
       "24     72\n",
       "25     74\n",
       "97     96\n",
       "dtype: int64"
      ]
     },
     "execution_count": 13,
     "metadata": {},
     "output_type": "execute_result"
    }
   ],
   "source": [
    "multi_diag_HC = multi_diag[multi_diag[\"PRIMDIAG\"] == 17][\"PATNO\"].unique()\n",
    "multi_diag.drop_duplicates(subset=[\"PATNO\", \"PRIMDIAG\"]).groupby(\"PRIMDIAG\").size()"
   ]
  },
  {
   "cell_type": "code",
   "execution_count": 14,
   "id": "85a548c4-8096-4780-ad9c-f783d6e05b51",
   "metadata": {
    "jupyter": {
     "source_hidden": true
    },
    "tags": []
   },
   "outputs": [
    {
     "name": "stdout",
     "output_type": "stream",
     "text": [
      "Number of mismatch: 193\n"
     ]
    }
   ],
   "source": [
    "mismatch_ = np.intersect1d(\n",
    "    np.setxor1d(status_HC, multi_diag_HC),\n",
    "    np.intersect1d(status[\"PATNO\"].unique(), multi_diag[\"PATNO\"].unique())\n",
    ")\n",
    "print(f\"Number of mismatch: {mismatch_.size}\")\n",
    "\n",
    "status[status[\"PATNO\"].isin(mismatch_)].groupby(\"COHORT\")[\"PATNO\"].nunique();"
   ]
  },
  {
   "cell_type": "code",
   "execution_count": 15,
   "id": "e1f689c2-f873-44b6-bbca-211e62f344f1",
   "metadata": {
    "tags": []
   },
   "outputs": [],
   "source": [
    "prim_diag[prim_diag[\"PATNO\"].isin(mismatch_)].groupby(\"PRIMDIAG\")[\"PATNO\"].nunique();"
   ]
  },
  {
   "cell_type": "markdown",
   "id": "2ee56dbb-50ca-4189-b888-2e473753c629",
   "metadata": {
    "jupyter": {
     "source_hidden": true
    },
    "tags": []
   },
   "source": [
    "## Results"
   ]
  },
  {
   "cell_type": "code",
   "execution_count": 16,
   "id": "7c45e4a9-e055-4dc6-a48c-56d810dce111",
   "metadata": {
    "jupyter": {
     "source_hidden": true
    },
    "tags": []
   },
   "outputs": [
    {
     "data": {
      "text/plain": [
       "COHORT  PRIMDIAG\n",
       "4       17          172\n",
       "        25           65\n",
       "        24           47\n",
       "        1            31\n",
       "        97           28\n",
       "        23           27\n",
       "        7            22\n",
       "3       17           16\n",
       "        1            16\n",
       "1       17            5\n",
       "3       97            5\n",
       "1       1             4\n",
       "3       15            3\n",
       "4       14            2\n",
       "        15            2\n",
       "        12            2\n",
       "        11            2\n",
       "        16            1\n",
       "1       25            1\n",
       "        15            1\n",
       "        24            1\n",
       "3       7             1\n",
       "1       97            1\n",
       "Name: PATNO, dtype: int64"
      ]
     },
     "execution_count": 16,
     "metadata": {},
     "output_type": "execute_result"
    }
   ],
   "source": [
    "(\n",
    "    status[status[\"PATNO\"].isin(mismatch_)].merge(\n",
    "        prim_diag[prim_diag[\"PATNO\"].isin(mismatch_)], on=[\"PATNO\"]\n",
    "    )\n",
    "    .drop_duplicates(subset=[\"PATNO\", \"COHORT\", \"PRIMDIAG\"])\n",
    "    .groupby([\"COHORT\", \"PRIMDIAG\"])\n",
    "    [\"PATNO\"].nunique().sort_values(ascending=False)\n",
    ")"
   ]
  }
 ],
 "metadata": {
  "kernelspec": {
   "display_name": "Python 3 (ipykernel)",
   "language": "python",
   "name": "python3"
  },
  "language_info": {
   "codemirror_mode": {
    "name": "ipython",
    "version": 3
   },
   "file_extension": ".py",
   "mimetype": "text/x-python",
   "name": "python",
   "nbconvert_exporter": "python",
   "pygments_lexer": "ipython3",
   "version": "3.10.4"
  }
 },
 "nbformat": 4,
 "nbformat_minor": 5
}
