{
 "cells": [
  {
   "cell_type": "code",
   "execution_count": 1,
   "id": "71f30f74-025f-4732-b651-b8e3209e2e79",
   "metadata": {},
   "outputs": [],
   "source": [
    "%%capture null\n",
    "!PIP_REQUIRE_VIRTUALENV=0  pip install -r requirements.txt"
   ]
  },
  {
   "cell_type": "code",
   "execution_count": 2,
   "id": "c2181029-e886-4c0a-8752-7435069f5fca",
   "metadata": {},
   "outputs": [],
   "source": [
    "import warnings\n",
    "\n",
    "warnings.filterwarnings(\"ignore\")"
   ]
  },
  {
   "cell_type": "markdown",
   "id": "a1a063ee-98b6-470c-b277-ca75b5495516",
   "metadata": {},
   "source": [
    "# Initial Study\n",
    "\n",
    "This notebook identifies PPMI subjects to reproduce the following paper:\n",
    "\n",
    "<div class=\"alert alert-block alert-success\">\n",
    "   \tE. Mak et al., <a href=\"https://www.sciencedirect.com/science/article/pii/S0197458017300830\"> “Longitudinal whole-brain atrophy and ventricular enlargement in nondemented Parkinson’s disease”</a>, Neurobiology of aging, vol. 55, pp. 78–90, 2017.\n",
    "</div>\n",
    "\n",
    "This study included PD subjects ($n=104$) and healthy controls ($n=38$) who completed a baseline and and follow-up T1 MRI at 18 months.\n",
    "The demographic of the studied population was as follow (table extracted from the paper).\n",
    "\n",
    "<div><img src=\"figures/table1.png\" width=\"1200px\"></div>\n",
    "\n"
   ]
  },
  {
   "cell_type": "code",
   "execution_count": 3,
   "id": "16f8d6a0-8848-4e15-a7b0-51e997f3ef30",
   "metadata": {},
   "outputs": [],
   "source": [
    "# TODO\n",
    "# - Brief summary of image analysis to be reproduced\n",
    "# - Key results to be reproduced"
   ]
  },
  {
   "cell_type": "code",
   "execution_count": 4,
   "id": "c3ae6d5f-84e5-4d12-aef3-279689ed0d0e",
   "metadata": {},
   "outputs": [
    {
     "data": {
      "text/html": [
       "<script>\n",
       "code_show=true; \n",
       "function code_toggle() {\n",
       " if (code_show){\n",
       " $('div.input').hide();\n",
       " } else {\n",
       " $('div.input').show();\n",
       " }\n",
       " code_show = !code_show\n",
       "} \n",
       "$( document ).ready(code_toggle);\n",
       "</script>\n",
       "<form action=\"javascript:code_toggle()\"><input type=\"submit\" value=\"Click here to toggle on/off the Python code.\"></form>"
      ],
      "text/plain": [
       "<IPython.core.display.HTML object>"
      ]
     },
     "execution_count": 4,
     "metadata": {},
     "output_type": "execute_result"
    }
   ],
   "source": [
    "from IPython.display import HTML\n",
    "\n",
    "HTML(\n",
    "    \"\"\"<script>\n",
    "code_show=true; \n",
    "function code_toggle() {\n",
    " if (code_show){\n",
    " $('div.input').hide();\n",
    " } else {\n",
    " $('div.input').show();\n",
    " }\n",
    " code_show = !code_show\n",
    "} \n",
    "$( document ).ready(code_toggle);\n",
    "</script>\n",
    "<form action=\"javascript:code_toggle()\"><input type=\"submit\" value=\"Click here to toggle on/off the Python code.\"></form>\"\"\"\n",
    ")"
   ]
  },
  {
   "cell_type": "code",
   "execution_count": 5,
   "id": "f8f7ea94-837e-498d-94a9-c5b49e8f455c",
   "metadata": {},
   "outputs": [
    {
     "name": "stdout",
     "output_type": "stream",
     "text": [
      "This notebook was run on 2022-07-07 19:45:37 UTC +0000\n"
     ]
    }
   ],
   "source": [
    "import datetime\n",
    "\n",
    "import pytz\n",
    "\n",
    "now = datetime.datetime.now(pytz.utc).strftime(\"%Y-%m-%d %H:%M:%S %Z %z\")\n",
    "print(f\"This notebook was run on {now}\")"
   ]
  },
  {
   "cell_type": "markdown",
   "id": "c069f91f-a631-4385-b84f-9f547fe71ec0",
   "metadata": {
    "tags": []
   },
   "source": [
    "# PPMI Metadata Download\n",
    "\n",
    "We download metadata file from the PPMI database, using [`ppmi-downloader`](https://pypi.org/project/ppmi-downloader/) available on PyPi.\n",
    "</br>Your PPMI credentials will be asked before download."
   ]
  },
  {
   "cell_type": "code",
   "execution_count": 6,
   "id": "cf682ba5-893d-4077-9766-5bbe121dd982",
   "metadata": {},
   "outputs": [],
   "source": [
    "import os\n",
    "\n",
    "import ppmi_downloader\n",
    "\n",
    "\n",
    "ppmi = ppmi_downloader.PPMIDownloader()\n",
    "\n",
    "data_dir = os.path.join(os.getcwd(), \"data\")\n",
    "\n",
    "if not os.path.exists(data_dir):\n",
    "    os.makedirs(data_dir, mode=0o755, exist_ok=True)\n",
    "\n",
    "required_files = [\n",
    "    \"Demographics.csv\",\n",
    "    \"Age_at_visit.csv\",\n",
    "    \"MDS_UPDRS_Part_III.csv\",\n",
    "    \"Socio-Economics.csv\",\n",
    "    \"Montreal_Cognitive_Assessment__MoCA_.csv\",\n",
    "    \"PD_Diagnosis_History.csv\",\n",
    "    \"Cognitive_Categorization.csv\",\n",
    "]\n",
    "\n",
    "missing_metadata = [\n",
    "    filename\n",
    "    for filename in required_files\n",
    "    if not os.path.exists(os.path.join(data_dir, filename))\n",
    "]\n",
    "\n",
    "if missing_metadata:\n",
    "    ppmi.download_metadata(\n",
    "        missing_metadata,\n",
    "        destination_dir=data_dir,\n",
    "        headless=True,\n",
    "        timeout=600,\n",
    "    )"
   ]
  },
  {
   "cell_type": "markdown",
   "id": "d73a67da-ab98-4ec2-8f56-3a5ea6ea1be2",
   "metadata": {},
   "source": [
    "## Download LivingPark utility notebook\n",
    "\n",
    "Here below, we download and execute utility notebook from the LivingPark project.\n",
    "</br>These notebook will create cleaned up metadate file needed throughout this notebook."
   ]
  },
  {
   "cell_type": "code",
   "execution_count": 7,
   "id": "fd04f4be-8e59-4edd-ab73-167c0ee7a6ea",
   "metadata": {},
   "outputs": [],
   "source": [
    "%%capture null\n",
    "import httpx\n",
    "\n",
    "livingPark_notebooks = {\n",
    "    \"clean_pdstate.ipynb\": \"https://raw.githubusercontent.com/LivingPark-MRI/ppmi-treatment-and-on-off-status/main/PPMI%20medication%20and%20ON-OFF%20status.ipynb\",\n",
    "    \"clean_mri_metadata.ipynb\": \"https://raw.githubusercontent.com/LivingPark-MRI/ppmi-MRI-metadata/main/MRI%20metadata.ipynb\",\n",
    "}\n",
    "\n",
    "if not os.path.exists(\"utils\"):\n",
    "    os.makedirs(\"utils\", mode=0o755, exist_ok=True)\n",
    "\n",
    "for filename, url in livingPark_notebooks.items():\n",
    "\n",
    "    filepath = os.path.join(\"utils\", filename)\n",
    "    if not os.path.exists(filepath):\n",
    "        r = httpx.get(url)\n",
    "        with open(filepath, \"wb\") as fout:\n",
    "            fout.write(r.content)\n",
    "\n",
    "        %run \"{filepath}\""
   ]
  },
  {
   "cell_type": "markdown",
   "id": "df8a6c2d-7dde-475c-bacf-c16fcc00872d",
   "metadata": {
    "tags": []
   },
   "source": [
    "# Cohort Matching"
   ]
  },
  {
   "cell_type": "markdown",
   "id": "c07e6006-a4e6-4f64-9d5f-e442fef0046b",
   "metadata": {
    "tags": []
   },
   "source": [
    "## Utils"
   ]
  },
  {
   "cell_type": "code",
   "execution_count": 8,
   "id": "54cf6946-6b36-4b46-be7c-5c82b8d15771",
   "metadata": {},
   "outputs": [],
   "source": [
    "from collections import defaultdict\n",
    "from itertools import combinations\n",
    "import math\n",
    "\n",
    "import matplotlib.pyplot as plt\n",
    "import numpy as np\n",
    "import pandas as pd\n",
    "\n",
    "plt.rcParams[\"figure.figsize\"] = (16, 8)"
   ]
  },
  {
   "cell_type": "code",
   "execution_count": 9,
   "id": "66886f7d-368e-4515-9640-2adf6ac98dd7",
   "metadata": {},
   "outputs": [],
   "source": [
    "visit2month = {\n",
    "    \"BL\": 0,\n",
    "    \"V01\": 3,\n",
    "    \"V02\": 6,\n",
    "    \"V03\": 9,\n",
    "    \"V04\": 12,\n",
    "    \"V05\": 18,\n",
    "    \"V06\": 24,\n",
    "    \"V07\": 30,\n",
    "    \"V08\": 36,\n",
    "    \"V09\": 42,\n",
    "    \"V10\": 48,\n",
    "    \"V11\": 54,\n",
    "    \"V12\": 60,\n",
    "    \"V13\": 72,\n",
    "    \"V14\": 84,\n",
    "    \"V15\": 96,\n",
    "    \"V16\": 108,\n",
    "    \"V17\": 120,\n",
    "    \"V18\": 132,\n",
    "    \"V19\": 144,\n",
    "    \"V20\": 156,\n",
    "}\n",
    "\n",
    "\n",
    "def find_visit_pairs(months: int) -> int:\n",
    "    \"\"\"Return the pairs of visits closest to each other, given a target time difference in months.\"\"\"\n",
    "\n",
    "    diff = float(\"inf\")\n",
    "    diff_hist = defaultdict(dict)\n",
    "\n",
    "    for (k, v), (k_, v_) in combinations(visit2month.items(), 2):\n",
    "        if (diff_ := abs(abs(v - v_) - months)) <= diff:\n",
    "            diff = diff_\n",
    "            diff_hist[diff][k] = k_\n",
    "\n",
    "    return diff_hist[diff]"
   ]
  },
  {
   "cell_type": "code",
   "execution_count": 10,
   "id": "c637d4d0-ee97-4871-8ca3-b449641cef95",
   "metadata": {},
   "outputs": [],
   "source": [
    "def reformat_plot_labels(dist, ax, freq):\n",
    "    ax.set_xticklabels([x.removesuffix(\".0\") for x in dist.index.astype(str)])\n",
    "    for label in ax.xaxis.get_ticklabels():\n",
    "        try:\n",
    "            if int(label.get_text()) % freq != 0:\n",
    "                label.set_visible(False)\n",
    "        except:\n",
    "            pass"
   ]
  },
  {
   "cell_type": "code",
   "execution_count": 11,
   "id": "bfab704c-4fa6-48e5-8f44-a62f79d9f1f9",
   "metadata": {},
   "outputs": [],
   "source": [
    "def moca2mmse(moca_score):\n",
    "    \"\"\"Return a MMSE score given a MoCA score.\"\"\"\n",
    "    mapping = {\n",
    "        1: 6,\n",
    "        2: 9,\n",
    "        3: 11,\n",
    "        4: 12,\n",
    "        5: 13,\n",
    "        6: 14,\n",
    "        7: 15,\n",
    "        8: 15,\n",
    "        9: 16,\n",
    "        10: 17,\n",
    "        11: 18,\n",
    "        12: 18,\n",
    "        13: 19,\n",
    "        14: 20,\n",
    "        15: 21,\n",
    "        16: 22,\n",
    "        17: 22,\n",
    "        18: 23,\n",
    "        19: 24,\n",
    "        20: 25,\n",
    "        21: 26,\n",
    "        22: 26,\n",
    "        23: 27,\n",
    "        24: 28,\n",
    "        25: 28,\n",
    "        26: 29,\n",
    "        27: 29,\n",
    "        28: 30,\n",
    "        29: 30,\n",
    "        30: 30,\n",
    "    }\n",
    "\n",
    "    try:\n",
    "        if math.isnan(moca_score):\n",
    "            return np.nan\n",
    "        else:\n",
    "            return mapping[moca_score]\n",
    "    except:\n",
    "        return moca_score"
   ]
  },
  {
   "cell_type": "markdown",
   "id": "519c55d5-5387-4b38-9087-21fbac3f011d",
   "metadata": {
    "tags": []
   },
   "source": [
    "## Data preparation"
   ]
  },
  {
   "cell_type": "markdown",
   "id": "c5d81a25-a6f8-4220-ab6f-f1ec40ce1241",
   "metadata": {},
   "source": [
    "### Cognitive state"
   ]
  },
  {
   "cell_type": "code",
   "execution_count": 12,
   "id": "b58aa119-97ea-494a-854d-50e9e9b7f25b",
   "metadata": {},
   "outputs": [
    {
     "data": {
      "image/png": "[encoded data removed]",
      "text/plain": [
       "<Figure size 432x288 with 1 Axes>"
      ]
     },
     "metadata": {
      "needs_background": "light"
     },
     "output_type": "display_data"
    }
   ],
   "source": [
    "cog_state = pd.read_csv(os.path.join(data_dir, \"Cognitive_Categorization.csv\"))[\n",
    "    [\"PATNO\", \"EVENT_ID\", \"COGSTATE\"]\n",
    "]\n",
    "cog_state = cog_state[cog_state[\"COGSTATE\"] != 3]  # Drop all cases of PDD\n",
    "\n",
    "fig, ax = plt.subplots()\n",
    "dist = cog_state.groupby([\"COGSTATE\"]).size()\n",
    "plt.bar(dist.index.astype(str), dist.values)\n",
    "plt.title(\"Distribution of Cognitive state\")\n",
    "\n",
    "reformat_plot_labels(dist, ax, 1)\n",
    "ax.set_xticklabels([\"NC\", \"MCI\"]);"
   ]
  },
  {
   "cell_type": "markdown",
   "id": "63ce5ad6-0ddd-4fbd-b7c5-77e83fad2521",
   "metadata": {},
   "source": [
    "We observe that NC subjects account for a majority of the PPMI cohort.\n",
    "</br>Therefore, in our following steps, we will focus on obtaining MCI subjects before NC ones."
   ]
  },
  {
   "cell_type": "markdown",
   "id": "342be8ca-f8cb-4f28-9c15-c244ec9e74bd",
   "metadata": {
    "tags": []
   },
   "source": [
    "### Diseases duration"
   ]
  },
  {
   "cell_type": "code",
   "execution_count": 13,
   "id": "a3f6f032-3517-48b5-b852-984b2a75cbb2",
   "metadata": {},
   "outputs": [
    {
     "data": {
      "text/plain": [
       "EVENT_ID\n",
       "BL        4\n",
       "SC     1182\n",
       "V04       1\n",
       "dtype: int64"
      ]
     },
     "execution_count": 13,
     "metadata": {},
     "output_type": "execute_result"
    }
   ],
   "source": [
    "pddxdt = pd.read_csv(os.path.join(data_dir, \"PD_Diagnosis_History.csv\"))[\n",
    "    [\"PATNO\", \"EVENT_ID\", \"PDDXDT\"]\n",
    "]\n",
    "pddxdt.groupby(\"EVENT_ID\").size()"
   ]
  },
  {
   "cell_type": "markdown",
   "id": "a4e9f083-87d5-4a7a-8544-d188a898f287",
   "metadata": {},
   "source": [
    "We will only use the PD diagnosis duration taken at screening since it is by far the most frequent."
   ]
  },
  {
   "cell_type": "code",
   "execution_count": 14,
   "id": "07af690f-b7ad-4e6a-abc0-63a9d4881755",
   "metadata": {},
   "outputs": [],
   "source": [
    "from dateutil.parser import parse\n",
    "from dateutil.relativedelta import relativedelta\n",
    "\n",
    "pddxdt = pddxdt[(pddxdt[\"EVENT_ID\"] == \"SC\") & pddxdt[\"PDDXDT\"].notna()]\n",
    "\n",
    "pdxdur = pd.read_csv(\n",
    "    os.path.join(data_dir, \"MDS_UPDRS_Part_III.csv\"), low_memory=False\n",
    ")[[\"PATNO\", \"EVENT_ID\", \"INFODT\"]]\n",
    "\n",
    "PDDXDT_map = dict(zip(pddxdt[\"PATNO\"].values, pddxdt[\"PDDXDT\"].values))\n",
    "pdxdur[\"PDDXDT\"] = pdxdur[\"PATNO\"].map(PDDXDT_map)\n",
    "\n",
    "pdxdur[\"PDXDUR\"] = pdxdur.apply(\n",
    "    lambda row: relativedelta(parse(row[\"INFODT\"]), parse(row[\"PDDXDT\"])).months\n",
    "    if row[\"PDDXDT\"] is not np.nan\n",
    "    else np.nan,\n",
    "    axis=1,\n",
    ")\n",
    "pdxdur.drop(labels=[\"INFODT\", \"PDDXDT\"], inplace=True, axis=1);"
   ]
  },
  {
   "cell_type": "markdown",
   "id": "34167184-4b7c-43ea-ac92-108ecbb1bc11",
   "metadata": {},
   "source": [
    "### MRI availability"
   ]
  },
  {
   "cell_type": "code",
   "execution_count": 15,
   "id": "ba104c42-1aaf-47c8-8a56-1889b9bd43ab",
   "metadata": {},
   "outputs": [
    {
     "data": {
      "text/plain": [
       "EVENT_ID\n",
       "BL     1148\n",
       "V10     355\n",
       "V06     324\n",
       "V04     274\n",
       "ST       10\n",
       "dtype: int64"
      ]
     },
     "execution_count": 15,
     "metadata": {},
     "output_type": "execute_result"
    }
   ],
   "source": [
    "mri = pd.read_csv(os.path.join(data_dir, \"MRI_info.csv\"))\n",
    "mri[\"EVENT_ID\"] = mri[\"Visit code\"]\n",
    "mri[\"PATNO\"] = mri[\"Subject ID\"]\n",
    "mri[\"Sex\"] = mri[\"Sex\"].map({\"F\": 0, \"M\": 1})\n",
    "mri = mri.drop(\n",
    "    [\"Subject ID\", \"Visit code\", \"Visit\", \"Age\", \"Sex\", \"Description\"], axis=1\n",
    ")\n",
    "mri.groupby(\"EVENT_ID\").size().sort_values(ascending=False).head(5)"
   ]
  },
  {
   "cell_type": "markdown",
   "id": "368bdf63-f0c9-42eb-b250-143bcde64e2f",
   "metadata": {},
   "source": [
    "The only visits with enough MRI available to replicate the study are: BL (baseline), V04, V06, and V10. Therefore we will only consider these visits."
   ]
  },
  {
   "cell_type": "markdown",
   "id": "db3b6656-23f3-43dc-9841-d604490274db",
   "metadata": {
    "tags": []
   },
   "source": [
    "### Examination scores"
   ]
  },
  {
   "cell_type": "markdown",
   "id": "619cd19d-4168-4a1c-abfb-8652483bf41a",
   "metadata": {},
   "source": [
    "#### Hoehn and Yahr (H&Y)"
   ]
  },
  {
   "cell_type": "code",
   "execution_count": 16,
   "id": "f705f5f8-b543-4420-bcd4-112d831be732",
   "metadata": {},
   "outputs": [
    {
     "data": {
      "image/png": "[encoded data removed]",
      "text/plain": [
       "<Figure size 432x288 with 1 Axes>"
      ]
     },
     "metadata": {
      "needs_background": "light"
     },
     "output_type": "display_data"
    }
   ],
   "source": [
    "updrs3 = pd.read_csv(os.path.join(data_dir, \"MDS_UPDRS_Part_III_clean.csv\"))[\n",
    "    [\"PATNO\", \"EVENT_ID\", \"PDSTATE\", \"PDTRTMNT\", \"NP3TOT\", \"NHY\"]\n",
    "]\n",
    "dist = updrs3.groupby([\"NHY\"], dropna=False).size()\n",
    "\n",
    "plt.bar(dist.index.astype(str), dist.values)\n",
    "plt.title(\"Distribution of H&Y scores\");"
   ]
  },
  {
   "cell_type": "markdown",
   "id": "8ac7a502-19ca-4d0c-b132-1dc48fd55609",
   "metadata": {},
   "source": [
    "We remove the subjects which clinicians were unable to rate the H&Y score (UR)"
   ]
  },
  {
   "cell_type": "code",
   "execution_count": 17,
   "id": "8d3c8aca-b6ae-4b51-b672-9d4465732678",
   "metadata": {},
   "outputs": [],
   "source": [
    "updrs3 = updrs3[updrs3[\"NHY\"] != \"UR\"]\n",
    "updrs3[\"NHY\"] = pd.to_numeric(updrs3[\"NHY\"])"
   ]
  },
  {
   "cell_type": "markdown",
   "id": "b57e5b59-c054-4c43-89e3-2cbd915c45ee",
   "metadata": {},
   "source": [
    "#### Unified Parkinso's Disease Rating Scale, Part III (UDPRS III)"
   ]
  },
  {
   "cell_type": "code",
   "execution_count": 18,
   "id": "6b616b20-3d4e-4470-a153-aeb0afbf4ed6",
   "metadata": {},
   "outputs": [
    {
     "data": {
      "image/png": "[encoded data removed]",
      "text/plain": [
       "<Figure size 432x288 with 1 Axes>"
      ]
     },
     "metadata": {
      "needs_background": "light"
     },
     "output_type": "display_data"
    }
   ],
   "source": [
    "fig, ax = plt.subplots()\n",
    "dist = updrs3.groupby([\"NP3TOT\"], dropna=False).size()\n",
    "plt.bar(dist.index.astype(str), dist.values)\n",
    "plt.title(\"Distribution of UDPRS3 scores\")\n",
    "\n",
    "reformat_plot_labels(dist, ax, 10)"
   ]
  },
  {
   "cell_type": "markdown",
   "id": "de757168-1d42-44c8-994a-a075f0fcdb23",
   "metadata": {
    "tags": []
   },
   "source": [
    "#### Montreal Cognitive Assessment (MoCA)\n",
    "\n",
    "Due to the low amount of MRI availability at baseline, we consider the MoCA scores at screening as substitute for baseline."
   ]
  },
  {
   "cell_type": "code",
   "execution_count": 19,
   "id": "aeb8f900-cc93-4dea-8eab-d0577f4550cc",
   "metadata": {},
   "outputs": [
    {
     "data": {
      "image/png": "[encoded data removed]",
      "text/plain": [
       "<Figure size 432x288 with 1 Axes>"
      ]
     },
     "metadata": {
      "needs_background": "light"
     },
     "output_type": "display_data"
    }
   ],
   "source": [
    "moca = pd.read_csv(os.path.join(data_dir, \"Montreal_Cognitive_Assessment__MoCA_.csv\"))[\n",
    "    [\"PATNO\", \"EVENT_ID\", \"MCATOT\"]\n",
    "]\n",
    "\n",
    "# Use screening instead of baseline.\n",
    "moca = moca[moca[\"EVENT_ID\"] != \"BL\"]\n",
    "moca[\"EVENT_ID\"].mask(moca[\"EVENT_ID\"] == \"SC\", \"BL\", inplace=True)\n",
    "\n",
    "fig, ax = plt.subplots()\n",
    "dist = moca.groupby([\"MCATOT\"], dropna=False).size()\n",
    "plt.bar(dist.index.astype(str), dist.values)\n",
    "plt.title(\"Distribution of MoCA scores\")\n",
    "\n",
    "reformat_plot_labels(dist, ax, 5)"
   ]
  },
  {
   "cell_type": "code",
   "execution_count": 20,
   "id": "7a225cbe-70e5-4179-abf0-770ecc8c8dd4",
   "metadata": {},
   "outputs": [
    {
     "data": {
      "image/png": "[encoded data removed]",
      "text/plain": [
       "<Figure size 432x288 with 1 Axes>"
      ]
     },
     "metadata": {
      "needs_background": "light"
     },
     "output_type": "display_data"
    }
   ],
   "source": [
    "moca[\"MMSETOT\"] = moca[\"MCATOT\"].apply(moca2mmse)\n",
    "\n",
    "fig, ax = plt.subplots()\n",
    "dist = moca.groupby([\"MMSETOT\"], dropna=False).size()\n",
    "plt.bar(dist.index.astype(str), dist.values)\n",
    "plt.title(\"Distribution of MMSE scores\")\n",
    "\n",
    "reformat_plot_labels(dist, ax, 1)"
   ]
  },
  {
   "cell_type": "markdown",
   "id": "e8a56fbd-042b-4ec7-94b8-fcfe3bae9590",
   "metadata": {
    "tags": []
   },
   "source": [
    "### Demographics"
   ]
  },
  {
   "cell_type": "markdown",
   "id": "759da88c-22b0-40b7-a234-9435eefcc7c3",
   "metadata": {},
   "source": [
    "#### Sex"
   ]
  },
  {
   "cell_type": "code",
   "execution_count": 21,
   "id": "a69bc7f6-b13e-4df0-9c1a-498e32e48b51",
   "metadata": {},
   "outputs": [
    {
     "name": "stdout",
     "output_type": "stream",
     "text": [
      "Distribution of Sex\n"
     ]
    },
    {
     "data": {
      "text/plain": [
       "SEX\n",
       "Female     964\n",
       "Male      1306\n",
       "dtype: int64"
      ]
     },
     "execution_count": 21,
     "metadata": {},
     "output_type": "execute_result"
    }
   ],
   "source": [
    "demo = pd.read_csv(os.path.join(data_dir, \"Demographics.csv\"))[[\"PATNO\", \"SEX\"]]\n",
    "demo[\"SEX\"] = demo[\"SEX\"].astype(int)\n",
    "print(\"Distribution of Sex\")\n",
    "demo.groupby(\"SEX\").size().rename({0: \"Female\", 1: \"Male\"})"
   ]
  },
  {
   "cell_type": "markdown",
   "id": "6c3c8e5d-f570-4bf4-a929-a4f95ae30fcc",
   "metadata": {},
   "source": [
    "#### Age at visit\n",
    "\n",
    "We consider the age at specific visits. However for simplicity, we only plot the age distribution at baseline."
   ]
  },
  {
   "cell_type": "code",
   "execution_count": 22,
   "id": "c99c4fb8-a5c4-45d7-87d4-c239aac09ff4",
   "metadata": {},
   "outputs": [
    {
     "data": {
      "image/png": "[encoded data removed]",
      "text/plain": [
       "<Figure size 432x288 with 1 Axes>"
      ]
     },
     "metadata": {
      "needs_background": "light"
     },
     "output_type": "display_data"
    }
   ],
   "source": [
    "age = pd.read_csv(os.path.join(data_dir, \"Age_at_visit.csv\"))[\n",
    "    [\"PATNO\", \"EVENT_ID\", \"AGE_AT_VISIT\"]\n",
    "]\n",
    "\n",
    "age[age[\"EVENT_ID\"] == \"BL\"][\"AGE_AT_VISIT\"].plot.hist(\n",
    "    bins=25, title=\"Distribution of Age at Baseline\"\n",
    ");"
   ]
  },
  {
   "cell_type": "markdown",
   "id": "e4f7c36e-4c64-4782-b232-fffc200afde2",
   "metadata": {},
   "source": [
    "#### Education"
   ]
  },
  {
   "cell_type": "markdown",
   "id": "b98d8683-0ce6-4c87-9f44-df3af7651806",
   "metadata": {},
   "source": [
    "We only use the education years at screening since most of the other visits do not have records of it and most likely did not change.\n",
    "</br>Moreover, when present, the education years at further visits showed incositency limiting the possibility to perform data imputation."
   ]
  },
  {
   "cell_type": "code",
   "execution_count": 23,
   "id": "aac93886-4f11-4660-b6b2-cf98254d3a2e",
   "metadata": {},
   "outputs": [
    {
     "data": {
      "image/png": "[encoded data removed]",
      "text/plain": [
       "<Figure size 432x288 with 1 Axes>"
      ]
     },
     "metadata": {
      "needs_background": "light"
     },
     "output_type": "display_data"
    }
   ],
   "source": [
    "socio = pd.read_csv(os.path.join(data_dir, \"Socio-Economics.csv\"))[\n",
    "    [\"PATNO\", \"EVENT_ID\", \"EDUCYRS\"]\n",
    "]\n",
    "\n",
    "socio = socio[socio[\"EVENT_ID\"] == \"SC\"]\n",
    "socio = socio.drop([\"EVENT_ID\"], axis=1)\n",
    "\n",
    "\n",
    "fig, ax = plt.subplots()\n",
    "dist = socio.groupby([\"EDUCYRS\"], dropna=False).size()\n",
    "plt.bar(dist.index.astype(str), dist.values)\n",
    "plt.title(\"Distribution of Education years at Baseline\")\n",
    "\n",
    "reformat_plot_labels(dist, ax, 5)"
   ]
  },
  {
   "cell_type": "markdown",
   "id": "25e7606a-44df-42e1-a1ee-142ed2951f40",
   "metadata": {
    "tags": []
   },
   "source": [
    "## Data aggregation\n",
    "\n",
    "We merge the data ingested above to obtain a set of data with available\n",
    "- MRI image\n",
    "- Disease duration\n",
    "- Cognitive and PD State\n",
    "- UPDRS III, MoCA, and MMSE scores\n",
    "- Socio-economic and demographic data"
   ]
  },
  {
   "cell_type": "code",
   "execution_count": 24,
   "id": "8717c293-c70e-47a5-900c-c4ef3e16e376",
   "metadata": {},
   "outputs": [],
   "source": [
    "keys = [\"PATNO\", \"EVENT_ID\"]\n",
    "df = (\n",
    "    mri.merge(cog_state, on=keys)\n",
    "    .merge(age, on=keys)\n",
    "    .merge(demo, on=[\"PATNO\"])\n",
    "    .merge(socio, on=[\"PATNO\"])\n",
    "    .merge(updrs3, on=keys)\n",
    "    .merge(moca, on=keys)\n",
    "    .merge(pdxdur, on=keys)\n",
    "    .drop_duplicates()\n",
    "    .groupby(\"PATNO\")\n",
    "    .filter(lambda g: g[\"EVENT_ID\"].nunique() > 1)\n",
    ")\n",
    "\n",
    "nc_patno = df[df[\"COGSTATE\"] == 1][\"PATNO\"]\n",
    "mci_patno = df[df[\"COGSTATE\"] == 2][\"PATNO\"]"
   ]
  },
  {
   "cell_type": "markdown",
   "id": "fc6a466a-47e6-4161-ad5d-50de1e295797",
   "metadata": {},
   "source": [
    "<div class=\"alert alert-block alert-warning\">\n",
    "    <span style=\"font-weight: bold\">Note:</span> Patients can transition from NC to MCI between visits.\n",
    "</div>"
   ]
  },
  {
   "cell_type": "code",
   "execution_count": 25,
   "id": "abb926de-a733-4dc8-924e-39bf24acea8e",
   "metadata": {},
   "outputs": [
    {
     "name": "stdout",
     "output_type": "stream",
     "text": [
      "Unique number of patients: 251\n",
      "Unique number of NC patients: 235\n",
      "Unique number of MCI patients: 65\n"
     ]
    },
    {
     "data": {
      "text/plain": [
       "COGSTATE  EVENT_ID\n",
       "NC        BL          133\n",
       "          ST            7\n",
       "          V04         123\n",
       "          V06         163\n",
       "          V08           1\n",
       "          V10         114\n",
       "MCI       BL            7\n",
       "          ST            2\n",
       "          V04          24\n",
       "          V06          39\n",
       "          V08           1\n",
       "          V10          27\n",
       "Name: PATNO, dtype: int64"
      ]
     },
     "execution_count": 25,
     "metadata": {},
     "output_type": "execute_result"
    }
   ],
   "source": [
    "print(f\"Unique number of patients: {df['PATNO'].nunique()}\")\n",
    "print(f\"Unique number of NC patients: {nc_patno.nunique()}\")\n",
    "print(f\"Unique number of MCI patients: {mci_patno.nunique()}\")\n",
    "\n",
    "df.groupby([\"COGSTATE\", \"EVENT_ID\"])[\"PATNO\"].nunique().rename({1: \"NC\", 2: \"MCI\"})"
   ]
  },
  {
   "cell_type": "markdown",
   "id": "6ce4cd4d-8fdc-4057-a396-d518452df9bc",
   "metadata": {},
   "source": [
    "<div class=\"alert alert-block alert-danger\">\n",
    "    <span style=\"font-weight: bold\">Issue:</span> At any visit, the amount of patients with MCI is lower than in the initial study (36).\n",
    "</div>"
   ]
  },
  {
   "cell_type": "markdown",
   "id": "a8c90411-4758-46b4-b1b4-1c9709384ae9",
   "metadata": {
    "tags": []
   },
   "source": [
    "## Find acceptable visit pairs\n",
    "The inital study assess subjects at baseline and a follow-up visit at 18 month.\n",
    "</br>Here below, we find the pairs of visits with the largest amount of MCI subject."
   ]
  },
  {
   "cell_type": "code",
   "execution_count": 26,
   "id": "db8223bb-884b-4e9f-ab47-ff98f9e056e7",
   "metadata": {},
   "outputs": [
    {
     "name": "stdout",
     "output_type": "stream",
     "text": [
      "Unique MCI subjects per visit pairs:\n",
      "BL  & V04 =   4 | Month difference: 12\n",
      "BL  & V06 =   4 | Month difference: 24\n",
      "BL  & V10 =   3 | Month difference: 48\n",
      "V04 & V06 =  22 | Month difference: 12\n",
      "V04 & V10 =   9 | Month difference: 36\n",
      "V06 & V10 =  17 | Month difference: 24\n"
     ]
    }
   ],
   "source": [
    "from itertools import combinations\n",
    "\n",
    "events = [\"BL\", \"V04\", \"V06\", \"V08\", \"V10\"]\n",
    "\n",
    "print(\"Unique MCI subjects per visit pairs:\")\n",
    "for c in combinations(events, 2):\n",
    "    v0 = set(df[(df[\"EVENT_ID\"] == c[0]) & (df[\"COGSTATE\"] == 2)][\"PATNO\"].values)\n",
    "    v1 = set(df[(df[\"EVENT_ID\"] == c[1])][\"PATNO\"].values)\n",
    "    if len(v0 & v1):\n",
    "        print(\n",
    "            f\"{c[0]:3} & {c[1]:3} = {len(v0 & v1):>3}\"\n",
    "            f\" | Month difference: {visit2month[c[1]] - visit2month[c[0]]}\"\n",
    "        )"
   ]
  },
  {
   "cell_type": "markdown",
   "id": "379331d2-e7ef-4bd5-9474-926f6c4c6c60",
   "metadata": {},
   "source": [
    "The pairs of visit with 12 or 24 months of interval have the most amount of MCI patients.\n",
    "</br>We will explore the possibility of using those time interval for our replication cohort."
   ]
  },
  {
   "cell_type": "markdown",
   "id": "0596ed30-019a-4966-abd4-3166f78ba492",
   "metadata": {},
   "source": [
    "## Cohort with follow-up after 12 months"
   ]
  },
  {
   "cell_type": "code",
   "execution_count": 27,
   "id": "e9960d0e-5cca-49cf-a1bd-ef777efb652c",
   "metadata": {},
   "outputs": [],
   "source": [
    "def sample_cohort(df, /, *, n):\n",
    "    _df = df.drop_duplicates(subset=[\"PATNO\"])\n",
    "    n = min(_df.index.size, n)\n",
    "    return _df.sample(n=n, replace=False, random_state=1)\n",
    "    return _df[_df.index.isin(sample)]"
   ]
  },
  {
   "cell_type": "code",
   "execution_count": 28,
   "id": "89795938-f44b-4b39-8e17-e51d3d10eb4f",
   "metadata": {},
   "outputs": [
    {
     "name": "stdout",
     "output_type": "stream",
     "text": [
      "Total number of subjects: 143\n",
      "\n",
      "Unique number of:\n",
      "  - HC subjects:     37 (/37)\n",
      "  - PD-NC subjects:  59 (/64)\n",
      "  - PD-MCI subjects: 24 (/36)\n",
      "\n"
     ]
    }
   ],
   "source": [
    "visit_pairs = find_visit_pairs(12)\n",
    "visit_df = df.copy()\n",
    "visit_df[\"NEXT_VISIT\"] = visit_df[\"EVENT_ID\"].map(visit_pairs)\n",
    "\n",
    "visit_df = visit_df.merge(\n",
    "    visit_df.drop(\n",
    "        [\"AGE_AT_VISIT\", \"SEX\", \"NEXT_VISIT\", \"EDUCYRS\"],\n",
    "        axis=1,\n",
    "    ),\n",
    "    left_on=[\n",
    "        \"PATNO\",\n",
    "        \"NEXT_VISIT\",\n",
    "    ],\n",
    "    right_on=[\n",
    "        \"PATNO\",\n",
    "        \"EVENT_ID\",\n",
    "    ],\n",
    "    suffixes=(None, \"_NX\"),\n",
    ").drop_duplicates()\n",
    "\n",
    "mci = sample_cohort(visit_df[visit_df[\"COGSTATE\"] == 2], n=36)\n",
    "nc_df = visit_df[\n",
    "    (visit_df[\"COGSTATE\"] == 1) & ~visit_df[\"PATNO\"].isin(mci[\"PATNO\"].unique())\n",
    "]\n",
    "nc = sample_cohort(nc_df[nc_df[\"PDTRTMNT\"] == 1], n=64)\n",
    "hc = sample_cohort(\n",
    "    nc_df[(nc_df[\"PDTRTMNT\"] == 0) & ~nc_df[\"PATNO\"].isin(nc[\"PATNO\"].unique())], n=37\n",
    ")\n",
    "\n",
    "print(\n",
    "    f\"\"\"Total number of subjects: {visit_df['PATNO'].nunique()}\n",
    "\n",
    "Unique number of:\n",
    "  - HC subjects:     {hc['PATNO'].unique().size} (/37)\n",
    "  - PD-NC subjects:  {nc['PATNO'].unique().size} (/64)\n",
    "  - PD-MCI subjects: {mci['PATNO'].unique().size} (/36)\n",
    "\"\"\"\n",
    ")"
   ]
  },
  {
   "cell_type": "markdown",
   "id": "83529679-fdbf-4fe8-af7b-fd0c04fdcd4a",
   "metadata": {},
   "source": [
    "<div class=\"alert alert-block alert-danger\">\n",
    "    <span style=\"font-weight: bold\">Issue:</span> With a follow-up after 12 months, the replication cohort is missing both PD-NC and PD-MCI patients.\n",
    "</div>"
   ]
  },
  {
   "cell_type": "markdown",
   "id": "c3650aba-623c-466b-831c-bf0ad2c5f210",
   "metadata": {},
   "source": [
    "## Cohort with follow-up after 24 months"
   ]
  },
  {
   "cell_type": "code",
   "execution_count": 29,
   "id": "295d94c5-8fc8-4790-b70c-629b821ec44d",
   "metadata": {},
   "outputs": [
    {
     "name": "stdout",
     "output_type": "stream",
     "text": [
      "Total number of subjects: 176\n",
      "\n",
      "Unique number of:\n",
      "  - HC subjects:     37 (/37)\n",
      "  - PD-NC subjects:  64 (/64)\n",
      "  - PD-MCI subjects: 20 (/36)\n",
      "\n"
     ]
    }
   ],
   "source": [
    "visit_pairs = find_visit_pairs(24)\n",
    "visit_df = df.copy()\n",
    "visit_df[\"NEXT_VISIT\"] = visit_df[\"EVENT_ID\"].map(visit_pairs)\n",
    "\n",
    "visit_df = visit_df.merge(\n",
    "    visit_df.drop(\n",
    "        [\"AGE_AT_VISIT\", \"SEX\", \"NEXT_VISIT\", \"EDUCYRS\"],\n",
    "        axis=1,\n",
    "    ),\n",
    "    left_on=[\n",
    "        \"PATNO\",\n",
    "        \"NEXT_VISIT\",\n",
    "    ],\n",
    "    right_on=[\n",
    "        \"PATNO\",\n",
    "        \"EVENT_ID\",\n",
    "    ],\n",
    "    suffixes=(None, \"_NX\"),\n",
    ").drop_duplicates()\n",
    "\n",
    "mci_ = sample_cohort(visit_df[visit_df[\"COGSTATE\"] == 2], n=36)\n",
    "nc_df = visit_df[\n",
    "    (visit_df[\"COGSTATE\"] == 1) & ~visit_df[\"PATNO\"].isin(mci[\"PATNO\"].unique())\n",
    "]\n",
    "nc_ = sample_cohort(nc_df[nc_df[\"PDTRTMNT\"] == 1], n=64)\n",
    "hc_ = sample_cohort(\n",
    "    nc_df[(nc_df[\"PDTRTMNT\"] == 0) & ~nc_df[\"PATNO\"].isin(nc[\"PATNO\"].unique())], n=37\n",
    ")\n",
    "\n",
    "print(\n",
    "    f\"\"\"Total number of subjects: {visit_df['PATNO'].nunique()}\n",
    "\n",
    "Unique number of:\n",
    "  - HC subjects:     {hc_['PATNO'].unique().size} (/37)\n",
    "  - PD-NC subjects:  {nc_['PATNO'].unique().size} (/64)\n",
    "  - PD-MCI subjects: {mci_['PATNO'].unique().size} (/36)\n",
    "\"\"\"\n",
    ")"
   ]
  },
  {
   "cell_type": "markdown",
   "id": "7bcbfd8a-92bc-49eb-b1c8-0175acc85d8e",
   "metadata": {},
   "source": [
    "<div class=\"alert alert-block alert-danger\">\n",
    "    <span style=\"font-weight: bold\">Issue:</span> With a follow-up after 24 months, the replication cohort is missing both PD-NC and PD-MCI patients.\n",
    "</div>"
   ]
  },
  {
   "cell_type": "markdown",
   "id": "c828fbb9-090a-40d3-8b05-cd2baff82add",
   "metadata": {},
   "source": [
    "<div class=\"alert alert-block alert-success\">\n",
    "    <span style=\"font-weight: bold\">Solution:</span> The duration between baseline and the follow-up visit is important. Therefore, this rules out the option of combining patient from both potential cohort.\n",
    "    Instead, we will perform data analysis on both cohort seperately for comparison with the inital study.\n",
    "</div>"
   ]
  },
  {
   "cell_type": "markdown",
   "id": "2272f456-b16f-4808-832e-c1f0e13daa32",
   "metadata": {},
   "source": [
    "## Cohort Summary\n",
    "\n",
    "We replicate the table from the initial study with the PPMI data for both of our replication cohorts."
   ]
  },
  {
   "cell_type": "code",
   "execution_count": 30,
   "id": "b5204e93-b508-467b-94ef-8b104e3db65d",
   "metadata": {
    "tags": []
   },
   "outputs": [],
   "source": [
    "from collections.abc import Iterable\n",
    "\n",
    "import rich\n",
    "from rich.console import Console\n",
    "from rich.table import Table\n",
    "\n",
    "\n",
    "def cohort_summary(*, hc, nc, mci, title):\n",
    "    def gen_row(D, *, agg, col, f=\"4.1f\", sep=\" ± \"):\n",
    "        if not isinstance(agg, str) and isinstance(agg, Iterable):\n",
    "            return [f\"{sep}\".join([f\"{d.loc[a][col]:{f}}\" for a in agg]) for d in D]\n",
    "        else:\n",
    "            return [f\"{d.loc[agg][col]:{f}}\" for d in D]\n",
    "\n",
    "    def gender_ratio(df):\n",
    "        male_count = df[df[\"SEX\"] == 1][\"PATNO\"].nunique()\n",
    "        return f\"{male_count:.0f}, {male_count / df['PATNO'].nunique() * 100:.1f}%\"\n",
    "\n",
    "    D = [hc.describe(), nc.describe(), mci.describe()]\n",
    "\n",
    "    table = Table(title=title, box=rich.box.SIMPLE_HEAVY, show_footer=True)\n",
    "\n",
    "    table.add_column(\"Subject groups\", footer=\"Values expressed as mean ± SD.\")\n",
    "    table.add_column(\"HC\")\n",
    "    table.add_column(\"PD-NC\")\n",
    "    table.add_column(\"PD-MCI\")\n",
    "    # table.add_column(\"[italic]p\")  # TODO\n",
    "\n",
    "    table.add_row(\"n\", *gen_row(D, agg=\"count\", col=\"PATNO\", f=\".0f\"))\n",
    "    table.add_row(\"Age (y)\", *gen_row(D, agg=[\"mean\", \"std\"], col=\"AGE_AT_VISIT\"))\n",
    "    table.add_row(\n",
    "        \"Age range\", *gen_row(D, agg=[\"min\", \"max\"], col=\"AGE_AT_VISIT\", sep=\" - \")\n",
    "    )\n",
    "    table.add_row(\n",
    "        \"Gender (male, %)\", gender_ratio(hc), gender_ratio(nc), gender_ratio(mci)\n",
    "    )\n",
    "    table.add_row(\"Education (y)\", *gen_row(D, agg=[\"mean\", \"std\"], col=\"EDUCYRS\"))\n",
    "    table.add_row(\n",
    "        \"Disease duration (mo)\", *gen_row(D, agg=[\"mean\", \"std\"], col=\"PDXDUR\")\n",
    "    )\n",
    "    # table.add_row(\"LEDD (mg/d) baseline\", )  # TODO\n",
    "    table.add_row(\"H&Y baseline\", *gen_row(D, agg=[\"mean\", \"std\"], col=\"NHY\"))\n",
    "    table.add_row(\"H&Y follow-up\", *gen_row(D, agg=[\"mean\", \"std\"], col=\"NHY_NX\"))\n",
    "    table.add_row(\"UPDRS III baseline\", *gen_row(D, agg=[\"mean\", \"std\"], col=\"NP3TOT\"))\n",
    "    table.add_row(\n",
    "        \"UPDRS III follow-up\", *gen_row(D, agg=[\"mean\", \"std\"], col=\"NP3TOT_NX\")\n",
    "    )\n",
    "    table.add_row(\"MMSE baseline\", *gen_row(D, agg=[\"mean\", \"std\"], col=\"MMSETOT\"))\n",
    "    table.add_row(\"MMSE follow-up\", *gen_row(D, agg=[\"mean\", \"std\"], col=\"MMSETOT_NX\"))\n",
    "    table.add_row(\"MoCA baseline\", *gen_row(D, agg=[\"mean\", \"std\"], col=\"MCATOT\"))\n",
    "    table.add_row(\"MoCA follow-up\", *gen_row(D, agg=[\"mean\", \"std\"], col=\"MCATOT_NX\"))\n",
    "\n",
    "    console = Console()\n",
    "    console.print(table)"
   ]
  },
  {
   "cell_type": "code",
   "execution_count": 31,
   "id": "dc113b2e-3e37-4b35-8cb6-cd1150d9aede",
   "metadata": {
    "tags": []
   },
   "outputs": [
    {
     "data": {
      "text/html": [
       "<pre style=\"white-space:pre;overflow-x:auto;line-height:normal;font-family:Menlo,'DejaVu Sans Mono',consolas,'Courier New',monospace\"><span style=\"font-style: italic\">                  Demographic and clinical characteristics                  </span>\n",
       "<span style=\"font-style: italic\">                             (12 months cohort)                             </span>\n",
       "                                                                            \n",
       " <span style=\"font-weight: bold\"> Subject groups                 </span> <span style=\"font-weight: bold\"> HC          </span> <span style=\"font-weight: bold\"> PD-NC       </span> <span style=\"font-weight: bold\"> PD-MCI      </span> \n",
       " ━━━━━━━━━━━━━━━━━━━━━━━━━━━━━━━━━━━━━━━━━━━━━━━━━━━━━━━━━━━━━━━━━━━━━━━━━━ \n",
       "  n                                37            59            24           \n",
       "  Age (y)                          61.0 ± 10.9   61.8 ±  9.0   67.9 ±  7.8  \n",
       "  Age range                        41.5 - 82.3   39.6 - 78.3   50.4 - 83.0  \n",
       "  Gender (male, %)                 23, 62.2%     36, 61.0%     20, 83.3%    \n",
       "  Education (y)                    15.5 ±  3.6   14.8 ±  3.0   14.5 ±  3.6  \n",
       "  Disease duration (mo)             3.6 ±  2.6    4.1 ±  2.6    4.1 ±  3.6  \n",
       "  H&amp;Y baseline                      0.8 ±  1.0    1.7 ±  0.5    1.4 ±  0.9  \n",
       "  H&amp;Y follow-up                     1.0 ±  0.9    1.7 ±  0.6    1.3 ±  1.0  \n",
       "  UPDRS III baseline               10.7 ± 11.7   20.3 ±  9.3   15.7 ± 11.8  \n",
       "  UPDRS III follow-up              13.6 ± 13.2   20.9 ±  9.9   19.1 ± 15.1  \n",
       "  MMSE baseline                    29.4 ±  0.7   29.3 ±  1.0   28.0 ±  1.2  \n",
       "  MMSE follow-up                   29.1 ±  1.3   29.3 ±  0.9   28.2 ±  1.5  \n",
       "  MoCA baseline                    27.6 ±  1.7   27.4 ±  2.1   24.9 ±  2.2  \n",
       "  MoCA follow-up                   27.2 ±  2.6   27.4 ±  2.1   25.5 ±  2.9  \n",
       " ━━━━━━━━━━━━━━━━━━━━━━━━━━━━━━━━━━━━━━━━━━━━━━━━━━━━━━━━━━━━━━━━━━━━━━━━━━ \n",
       " <span style=\"font-weight: bold\"> Values expressed as mean ± SD. </span> <span style=\"font-weight: bold\">             </span> <span style=\"font-weight: bold\">             </span> <span style=\"font-weight: bold\">             </span> \n",
       "                                                                            \n",
       "</pre>\n"
      ],
      "text/plain": [
       "\u001b[3m                  Demographic and clinical characteristics                  \u001b[0m\n",
       "\u001b[3m                             (12 months cohort)                             \u001b[0m\n",
       "                                                                            \n",
       " \u001b[1m \u001b[0m\u001b[1mSubject groups                \u001b[0m\u001b[1m \u001b[0m \u001b[1m \u001b[0m\u001b[1mHC         \u001b[0m\u001b[1m \u001b[0m \u001b[1m \u001b[0m\u001b[1mPD-NC      \u001b[0m\u001b[1m \u001b[0m \u001b[1m \u001b[0m\u001b[1mPD-MCI     \u001b[0m\u001b[1m \u001b[0m \n",
       " ━━━━━━━━━━━━━━━━━━━━━━━━━━━━━━━━━━━━━━━━━━━━━━━━━━━━━━━━━━━━━━━━━━━━━━━━━━ \n",
       "  n                                37            59            24           \n",
       "  Age (y)                          61.0 ± 10.9   61.8 ±  9.0   67.9 ±  7.8  \n",
       "  Age range                        41.5 - 82.3   39.6 - 78.3   50.4 - 83.0  \n",
       "  Gender (male, %)                 23, 62.2%     36, 61.0%     20, 83.3%    \n",
       "  Education (y)                    15.5 ±  3.6   14.8 ±  3.0   14.5 ±  3.6  \n",
       "  Disease duration (mo)             3.6 ±  2.6    4.1 ±  2.6    4.1 ±  3.6  \n",
       "  H&Y baseline                      0.8 ±  1.0    1.7 ±  0.5    1.4 ±  0.9  \n",
       "  H&Y follow-up                     1.0 ±  0.9    1.7 ±  0.6    1.3 ±  1.0  \n",
       "  UPDRS III baseline               10.7 ± 11.7   20.3 ±  9.3   15.7 ± 11.8  \n",
       "  UPDRS III follow-up              13.6 ± 13.2   20.9 ±  9.9   19.1 ± 15.1  \n",
       "  MMSE baseline                    29.4 ±  0.7   29.3 ±  1.0   28.0 ±  1.2  \n",
       "  MMSE follow-up                   29.1 ±  1.3   29.3 ±  0.9   28.2 ±  1.5  \n",
       "  MoCA baseline                    27.6 ±  1.7   27.4 ±  2.1   24.9 ±  2.2  \n",
       "  MoCA follow-up                   27.2 ±  2.6   27.4 ±  2.1   25.5 ±  2.9  \n",
       " ━━━━━━━━━━━━━━━━━━━━━━━━━━━━━━━━━━━━━━━━━━━━━━━━━━━━━━━━━━━━━━━━━━━━━━━━━━ \n",
       " \u001b[1m \u001b[0m\u001b[1mValues expressed as mean ± SD.\u001b[0m\u001b[1m \u001b[0m \u001b[1m \u001b[0m\u001b[1m           \u001b[0m\u001b[1m \u001b[0m \u001b[1m \u001b[0m\u001b[1m           \u001b[0m\u001b[1m \u001b[0m \u001b[1m \u001b[0m\u001b[1m           \u001b[0m\u001b[1m \u001b[0m \n",
       "                                                                            \n"
      ]
     },
     "metadata": {},
     "output_type": "display_data"
    }
   ],
   "source": [
    "cohort_summary(\n",
    "    hc=hc,\n",
    "    nc=nc,\n",
    "    mci=mci,\n",
    "    title=\"Demographic and clinical characteristics\\n(12 months cohort)\",\n",
    ")"
   ]
  },
  {
   "cell_type": "code",
   "execution_count": 32,
   "id": "319774cc-97bd-4e28-b368-f67a9c74e029",
   "metadata": {
    "tags": []
   },
   "outputs": [
    {
     "data": {
      "text/html": [
       "<pre style=\"white-space:pre;overflow-x:auto;line-height:normal;font-family:Menlo,'DejaVu Sans Mono',consolas,'Courier New',monospace\"><span style=\"font-style: italic\">                  Demographic and clinical characteristics                  </span>\n",
       "<span style=\"font-style: italic\">                             (24 months cohort)                             </span>\n",
       "                                                                            \n",
       " <span style=\"font-weight: bold\"> Subject groups                 </span> <span style=\"font-weight: bold\"> HC          </span> <span style=\"font-weight: bold\"> PD-NC       </span> <span style=\"font-weight: bold\"> PD-MCI      </span> \n",
       " ━━━━━━━━━━━━━━━━━━━━━━━━━━━━━━━━━━━━━━━━━━━━━━━━━━━━━━━━━━━━━━━━━━━━━━━━━━ \n",
       "  n                                37            64            20           \n",
       "  Age (y)                          62.1 ±  8.6   62.8 ±  8.7   66.1 ±  8.4  \n",
       "  Age range                        45.9 - 84.3   40.4 - 77.5   49.9 - 79.2  \n",
       "  Gender (male, %)                 21, 56.8%     38, 59.4%     17, 85.0%    \n",
       "  Education (y)                    16.8 ±  4.3   15.7 ±  3.1   15.0 ±  3.0  \n",
       "  Disease duration (mo)             5.4 ±  3.6    4.5 ±  2.7    5.1 ±  3.1  \n",
       "  H&amp;Y baseline                      0.5 ±  0.8    1.8 ±  0.5    1.9 ±  0.5  \n",
       "  H&amp;Y follow-up                     0.6 ±  0.8    2.0 ±  0.6    1.9 ±  0.8  \n",
       "  UPDRS III baseline                8.5 ± 12.2   22.7 ± 10.3   25.2 ± 11.4  \n",
       "  UPDRS III follow-up               9.0 ± 13.1   25.0 ± 13.1   26.2 ± 14.5  \n",
       "  MMSE baseline                    29.4 ±  0.7   29.5 ±  0.8   28.5 ±  0.7  \n",
       "  MMSE follow-up                   29.3 ±  1.1   29.5 ±  0.9   28.3 ±  1.4  \n",
       "  MoCA baseline                    27.6 ±  1.7   27.7 ±  1.9   25.6 ±  1.6  \n",
       "  MoCA follow-up                   27.4 ±  2.3   27.8 ±  1.9   25.2 ±  2.6  \n",
       " ━━━━━━━━━━━━━━━━━━━━━━━━━━━━━━━━━━━━━━━━━━━━━━━━━━━━━━━━━━━━━━━━━━━━━━━━━━ \n",
       " <span style=\"font-weight: bold\"> Values expressed as mean ± SD. </span> <span style=\"font-weight: bold\">             </span> <span style=\"font-weight: bold\">             </span> <span style=\"font-weight: bold\">             </span> \n",
       "                                                                            \n",
       "</pre>\n"
      ],
      "text/plain": [
       "\u001b[3m                  Demographic and clinical characteristics                  \u001b[0m\n",
       "\u001b[3m                             (24 months cohort)                             \u001b[0m\n",
       "                                                                            \n",
       " \u001b[1m \u001b[0m\u001b[1mSubject groups                \u001b[0m\u001b[1m \u001b[0m \u001b[1m \u001b[0m\u001b[1mHC         \u001b[0m\u001b[1m \u001b[0m \u001b[1m \u001b[0m\u001b[1mPD-NC      \u001b[0m\u001b[1m \u001b[0m \u001b[1m \u001b[0m\u001b[1mPD-MCI     \u001b[0m\u001b[1m \u001b[0m \n",
       " ━━━━━━━━━━━━━━━━━━━━━━━━━━━━━━━━━━━━━━━━━━━━━━━━━━━━━━━━━━━━━━━━━━━━━━━━━━ \n",
       "  n                                37            64            20           \n",
       "  Age (y)                          62.1 ±  8.6   62.8 ±  8.7   66.1 ±  8.4  \n",
       "  Age range                        45.9 - 84.3   40.4 - 77.5   49.9 - 79.2  \n",
       "  Gender (male, %)                 21, 56.8%     38, 59.4%     17, 85.0%    \n",
       "  Education (y)                    16.8 ±  4.3   15.7 ±  3.1   15.0 ±  3.0  \n",
       "  Disease duration (mo)             5.4 ±  3.6    4.5 ±  2.7    5.1 ±  3.1  \n",
       "  H&Y baseline                      0.5 ±  0.8    1.8 ±  0.5    1.9 ±  0.5  \n",
       "  H&Y follow-up                     0.6 ±  0.8    2.0 ±  0.6    1.9 ±  0.8  \n",
       "  UPDRS III baseline                8.5 ± 12.2   22.7 ± 10.3   25.2 ± 11.4  \n",
       "  UPDRS III follow-up               9.0 ± 13.1   25.0 ± 13.1   26.2 ± 14.5  \n",
       "  MMSE baseline                    29.4 ±  0.7   29.5 ±  0.8   28.5 ±  0.7  \n",
       "  MMSE follow-up                   29.3 ±  1.1   29.5 ±  0.9   28.3 ±  1.4  \n",
       "  MoCA baseline                    27.6 ±  1.7   27.7 ±  1.9   25.6 ±  1.6  \n",
       "  MoCA follow-up                   27.4 ±  2.3   27.8 ±  1.9   25.2 ±  2.6  \n",
       " ━━━━━━━━━━━━━━━━━━━━━━━━━━━━━━━━━━━━━━━━━━━━━━━━━━━━━━━━━━━━━━━━━━━━━━━━━━ \n",
       " \u001b[1m \u001b[0m\u001b[1mValues expressed as mean ± SD.\u001b[0m\u001b[1m \u001b[0m \u001b[1m \u001b[0m\u001b[1m           \u001b[0m\u001b[1m \u001b[0m \u001b[1m \u001b[0m\u001b[1m           \u001b[0m\u001b[1m \u001b[0m \u001b[1m \u001b[0m\u001b[1m           \u001b[0m\u001b[1m \u001b[0m \n",
       "                                                                            \n"
      ]
     },
     "metadata": {},
     "output_type": "display_data"
    }
   ],
   "source": [
    "cohort_summary(\n",
    "    hc=hc_,\n",
    "    nc=nc_,\n",
    "    mci=mci_,\n",
    "    title=\"Demographic and clinical characteristics\\n(24 months cohort)\",\n",
    ")"
   ]
  },
  {
   "cell_type": "code",
   "execution_count": null,
   "id": "7a39d71b-6681-488a-819c-cdf832fac67b",
   "metadata": {},
   "outputs": [],
   "source": []
  }
 ],
 "metadata": {
  "kernelspec": {
   "display_name": "Python 3 (ipykernel)",
   "language": "python",
   "name": "python3"
  },
  "language_info": {
   "codemirror_mode": {
    "name": "ipython",
    "version": 3
   },
   "file_extension": ".py",
   "mimetype": "text/x-python",
   "name": "python",
   "nbconvert_exporter": "python",
   "pygments_lexer": "ipython3",
   "version": "3.10.4"
  }
 },
 "nbformat": 4,
 "nbformat_minor": 5
}
