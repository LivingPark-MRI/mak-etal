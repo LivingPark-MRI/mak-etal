{
 "cells": [
  {
   "cell_type": "markdown",
   "id": "a1a063ee-98b6-470c-b277-ca75b5495516",
   "metadata": {
    "tags": []
   },
   "source": [
    "# Replication: Mak et al., 2017\n",
    "\n",
    "This notebook attempts to replicate the following paper, using the [PPMI](http://ppmi-info.org/) dataset:\n",
    "\n",
    "<div class=\"alert alert-block alert-success\">\n",
    "   \tE. Mak et al., <a href=\"https://www.sciencedirect.com/science/article/pii/S0197458017300830\"> “Longitudinal whole-brain atrophy and ventricular enlargement in nondemented Parkinson’s disease”</a>, Neurobiology of aging, vol. 55, pp. 78–90, 2017.\n",
    "</div>\n",
    "\n",
    "This study included PD subjects ($n=104$) and healthy controls ($n=38$) who completed a baseline and and follow-up T1 MRI at 18 months.\n",
    "The demographic of the studied population was as follow (table extracted from the paper).\n",
    "\n",
    "<div><img src=\"figures/table1.png\" width=\"1200px\"></div>\n",
    "\n"
   ]
  },
  {
   "cell_type": "code",
   "execution_count": 1,
   "id": "16f8d6a0-8848-4e15-a7b0-51e997f3ef30",
   "metadata": {},
   "outputs": [],
   "source": [
    "# TODO\n",
    "# - Brief summary of image analysis to be reproduced\n",
    "# - Key results to be reproduced"
   ]
  },
  {
   "cell_type": "code",
   "execution_count": 2,
   "id": "f8f7ea94-837e-498d-94a9-c5b49e8f455c",
   "metadata": {},
   "outputs": [
    {
     "name": "stdout",
     "output_type": "stream",
     "text": [
      "removing link inputs\n",
      "removing link outputs\n",
      "This notebook was run on 2022-11-10 15:17:45 UTC +0000\n"
     ]
    },
    {
     "data": {
      "text/html": [
       "<script>\n",
       "    code_show = true;\n",
       "    function code_toggle() {\n",
       "        if (code_show) {\n",
       "            $(\"div.input\").hide();\n",
       "        } else {\n",
       "            $(\"div.input\").show();\n",
       "        }\n",
       "        code_show = !code_show\n",
       "    }\n",
       "    $(document).ready(code_toggle);\n",
       "</script>\n",
       "<form action=\"javascript:code_toggle()\">\n",
       "    <input type=\"submit\" value=\"Click here to toggle on/off the Python code.\">\n",
       "</form>\n"
      ],
      "text/plain": [
       "<IPython.core.display.HTML object>"
      ]
     },
     "execution_count": 2,
     "metadata": {},
     "output_type": "execute_result"
    }
   ],
   "source": [
    "import os\n",
    "\n",
    "import livingpark_utils\n",
    "\n",
    "os.environ[\"PIP_REQUIRE_VIRTUALENV\"] = \"False\"\n",
    "utils = livingpark_utils.LivingParkUtils()\n",
    "utils.notebook_init()"
   ]
  },
  {
   "cell_type": "markdown",
   "id": "c069f91f-a631-4385-b84f-9f547fe71ec0",
   "metadata": {
    "tags": []
   },
   "source": [
    "# PPMI Metadata Download\n",
    "\n",
    "We download metadata file from the PPMI database, using [`ppmi-downloader`](https://pypi.org/project/ppmi-downloader/) available on PyPi.\n",
    "</br>Your PPMI credentials will be asked before download."
   ]
  },
  {
   "cell_type": "code",
   "execution_count": 3,
   "id": "cf682ba5-893d-4077-9766-5bbe121dd982",
   "metadata": {},
   "outputs": [
    {
     "name": "stdout",
     "output_type": "stream",
     "text": [
      "(\"Downloading files: ['SocioEconomics.csv', \"\n",
      " \"'Montreal_Cognitive_Assessment_MoCA.csv']\")\n"
     ]
    },
    {
     "name": "stderr",
     "output_type": "stream",
     "text": [
      "LivingPark-utils|DEBUG|ppmi_downloader.py:68 in __init__()\n",
      "                       self.config_file: '.ppmi_config'\n",
      "                       config_file: '.ppmi_config'\n",
      "100%|███████████████████████████████████████████████████████████████████████████████| 2/2 [00:00<00:00, 938.53it/s]\n",
      "LivingPark-utils|DEBUG|ppmi_navigator.py:61 in click_button()\n",
      "                       'Click button': 'Click button'\n",
      "                       field: 'ida-cookie-policy-accept'\n",
      "                       debug_name: 'Cookie Policy'\n",
      "LivingPark-utils|DEBUG|ppmi_navigator.py:46 in enter_data()\n",
      "                       'Enter data': 'Enter data'\n",
      "                       field: 'userEmail'\n",
      "                       debug_name: 'Email'\n",
      "LivingPark-utils|DEBUG|ppmi_navigator.py:46 in enter_data()\n",
      "                       'Enter data': 'Enter data'\n",
      "                       field: 'userPassword'\n",
      "                       debug_name: 'Password'\n",
      "LivingPark-utils|DEBUG|ppmi_navigator.py:61 in click_button()\n",
      "                       'Click button': 'Click button'\n",
      "                       field: 'button'\n",
      "                       debug_name: 'Login button'\n",
      "LivingPark-utils|INFO|'Login Successful'\n",
      "LivingPark-utils|DEBUG|ppmi_navigator.py:61 in click_button()\n",
      "                       'Click button': 'Click button'\n",
      "                       field: 'ida-menu-option.sub-menu.download'\n",
      "                       debug_name: 'Download'\n",
      "LivingPark-utils|DEBUG|ppmi_navigator.py:61 in click_button()\n",
      "                       'Click button': 'Click button'\n",
      "                       field: \"//*[text()='Study Data']\"\n",
      "                       debug_name: 'Study Data'\n",
      "LivingPark-utils|DEBUG|ppmi_navigator.py:61 in click_button()\n",
      "                       'Click button': 'Click button'\n",
      "                       field: 'ygtvlabelel71'\n",
      "                       debug_name: 'ALL'\n",
      "LivingPark-utils|DEBUG|ppmi_navigator.py:61 in click_button()\n",
      "                       'Click button': 'Click button'\n",
      "                       field: 'downloadBtn'\n",
      "                       debug_name: ''\n",
      "LivingPark-utils|INFO|f\"Successfully downloaded files {filesname}...\": (\"Successfully downloaded files ['Socio-Economics.csv', \"\n",
      "                                                                        \"'Montreal_Cognitive_Assessment__MoCA_.csv']...\")\n"
     ]
    },
    {
     "name": "stdout",
     "output_type": "stream",
     "text": [
      "Download completed\n"
     ]
    }
   ],
   "source": [
    "from livingpark_utils.download import ppmi\n",
    "ppmi_downloader = ppmi.Downloader(utils.study_files_dir)\n",
    "\n",
    "required_files = [\n",
    "    \"Demographics.csv\",\n",
    "    \"Age_at_visit.csv\",\n",
    "    \"MDS_UPDRS_Part_III.csv\",\n",
    "    \"SocioEconomics.csv\",\n",
    "    \"Montreal_Cognitive_Assessment_MoCA.csv\",\n",
    "    \"PD_Diagnosis_History.csv\",\n",
    "    \"Cognitive_Categorization.csv\",\n",
    "    \"Participant_Status.csv\",\n",
    "]\n",
    "\n",
    "utils.get_study_files(required_files, default=ppmi_downloader)"
   ]
  },
  {
   "cell_type": "markdown",
   "id": "d73a67da-ab98-4ec2-8f56-3a5ea6ea1be2",
   "metadata": {},
   "source": [
    "## Download LivingPark utility notebook\n",
    "\n",
    "Here below, we download and execute utility notebook from the LivingPark project.\n",
    "</br>These notebook will create cleaned up metadate file needed throughout this notebook."
   ]
  },
  {
   "cell_type": "code",
   "execution_count": 4,
   "id": "fd04f4be-8e59-4edd-ab73-167c0ee7a6ea",
   "metadata": {},
   "outputs": [],
   "source": [
    "%%capture\n",
    "from livingpark_utils.scripts import (\n",
    "    mri_metadata,\n",
    "    pd_status,\n",
    ")"
   ]
  },
  {
   "cell_type": "markdown",
   "id": "df8a6c2d-7dde-475c-bacf-c16fcc00872d",
   "metadata": {
    "tags": []
   },
   "source": [
    "# Cohort Matching"
   ]
  },
  {
   "cell_type": "code",
   "execution_count": 5,
   "id": "54cf6946-6b36-4b46-be7c-5c82b8d15771",
   "metadata": {},
   "outputs": [],
   "source": [
    "from collections import defaultdict\n",
    "from itertools import combinations\n",
    "import math\n",
    "\n",
    "import matplotlib.pyplot as plt\n",
    "import numpy as np\n",
    "import pandas as pd\n",
    "\n",
    "plt.rcParams[\"figure.figsize\"] = (16, 8)"
   ]
  },
  {
   "cell_type": "code",
   "execution_count": 6,
   "id": "66886f7d-368e-4515-9640-2adf6ac98dd7",
   "metadata": {},
   "outputs": [],
   "source": [
    "from livingpark_utils.dataset import ppmi\n",
    "from livingpark_utils.maketal import maketal\n",
    "from livingpark_utils.visualization import reformat_plot_labels"
   ]
  },
  {
   "cell_type": "markdown",
   "id": "519c55d5-5387-4b38-9087-21fbac3f011d",
   "metadata": {
    "tags": []
   },
   "source": [
    "## Data preparation"
   ]
  },
  {
   "cell_type": "markdown",
   "id": "348bf081-40fc-4219-81ae-cfdb774d714e",
   "metadata": {
    "tags": []
   },
   "source": [
    "### Cohort Definition"
   ]
  },
  {
   "cell_type": "code",
   "execution_count": 7,
   "id": "52a8b80e-fab7-491e-aa51-43979e55ad0e",
   "metadata": {},
   "outputs": [
    {
     "data": {
      "image/png": "[encoded data removed]",
      "text/plain": [
       "<Figure size 1600x800 with 1 Axes>"
      ]
     },
     "metadata": {},
     "output_type": "display_data"
    }
   ],
   "source": [
    "cohort_def = pd.read_csv(os.path.join(utils.study_files_dir, \"Participant_Status.csv\"))[[\"PATNO\", \"COHORT\"]]\n",
    "cohort_def = cohort_def[cohort_def[\"COHORT\"].isin([1, 2])] # Only keep PD and HC.\n",
    "\n",
    "fig, ax = plt.subplots()\n",
    "dist = cohort_def.groupby([\"COHORT\"]).size()\n",
    "plt.bar(dist.index.astype(str), dist.values)\n",
    "plt.title(\"Distribution of Cohort\")\n",
    "\n",
    "reformat_plot_labels(dist, ax, 1)\n",
    "ax.set_xticklabels([\"PD\", \"HC\"]);"
   ]
  },
  {
   "cell_type": "markdown",
   "id": "c5d81a25-a6f8-4220-ab6f-f1ec40ce1241",
   "metadata": {
    "tags": []
   },
   "source": [
    "### Cognitive state"
   ]
  },
  {
   "cell_type": "code",
   "execution_count": 8,
   "id": "b58aa119-97ea-494a-854d-50e9e9b7f25b",
   "metadata": {},
   "outputs": [
    {
     "data": {
      "image/png": "[encoded data removed]",
      "text/plain": [
       "<Figure size 1600x800 with 1 Axes>"
      ]
     },
     "metadata": {},
     "output_type": "display_data"
    },
    {
     "data": {
      "image/png": "[encoded data removed]",
      "text/plain": [
       "<Figure size 1600x800 with 1 Axes>"
      ]
     },
     "metadata": {},
     "output_type": "display_data"
    }
   ],
   "source": [
    "cog_state = pd.read_csv(os.path.join(utils.study_files_dir, \"Cognitive_Categorization.csv\"))[\n",
    "    [\"PATNO\", \"EVENT_ID\", \"COGSTATE\"]\n",
    "]\n",
    "cog_state = cog_state[cog_state[\"COGSTATE\"] != 3]  # Drop all cases of PDD\n",
    "\n",
    "cog_state_dist = cog_state.groupby([\"COGSTATE\", \"EVENT_ID\"])[\"PATNO\"].nunique().rename({1: \"NC\", 2: \"MCI\"})\n",
    "shared_index = np.intersect1d(cog_state_dist[\"NC\"].index, cog_state_dist[\"MCI\"].index)\n",
    "cog_state_dist[\"NC\"][shared_index].plot.bar(title=\"Distribution of Cognitive state (NC)\")\n",
    "plt.show()\n",
    "cog_state_dist[\"MCI\"][shared_index].plot.bar(title=\"Distribution of Cognitive state (MCI)\")\n",
    "plt.show()"
   ]
  },
  {
   "cell_type": "markdown",
   "id": "63ce5ad6-0ddd-4fbd-b7c5-77e83fad2521",
   "metadata": {},
   "source": [
    "We observe that NC subjects account for a majority of the PPMI cohort.\n",
    "</br>Therefore, in our following steps, we will focus on obtaining MCI subjects before NC ones."
   ]
  },
  {
   "cell_type": "markdown",
   "id": "342be8ca-f8cb-4f28-9c15-c244ec9e74bd",
   "metadata": {
    "tags": []
   },
   "source": [
    "### Diseases duration"
   ]
  },
  {
   "cell_type": "code",
   "execution_count": 9,
   "id": "a3f6f032-3517-48b5-b852-984b2a75cbb2",
   "metadata": {},
   "outputs": [
    {
     "name": "stdout",
     "output_type": "stream",
     "text": [
      "Download skipped: No missing files!\n"
     ]
    }
   ],
   "source": [
    "pdxdur = ppmi.disease_duration(utils.study_files_dir)"
   ]
  },
  {
   "cell_type": "markdown",
   "id": "34167184-4b7c-43ea-ac92-108ecbb1bc11",
   "metadata": {},
   "source": [
    "### MRI availability"
   ]
  },
  {
   "cell_type": "code",
   "execution_count": 10,
   "id": "ba104c42-1aaf-47c8-8a56-1889b9bd43ab",
   "metadata": {},
   "outputs": [
    {
     "data": {
      "text/plain": [
       "EVENT_ID\n",
       "BL     1173\n",
       "V10     359\n",
       "V06     324\n",
       "V04     279\n",
       "ST       10\n",
       "dtype: int64"
      ]
     },
     "execution_count": 10,
     "metadata": {},
     "output_type": "execute_result"
    }
   ],
   "source": [
    "mri = pd.read_csv(os.path.join(utils.study_files_dir, \"MRI_info.csv\"))\n",
    "mri[\"EVENT_ID\"] = mri[\"Visit code\"]\n",
    "mri[\"PATNO\"] = mri[\"Subject ID\"]\n",
    "mri[\"Sex\"] = mri[\"Sex\"].map({\"F\": 0, \"M\": 1})\n",
    "mri = mri.drop(\n",
    "    [\"Subject ID\", \"Visit code\", \"Visit\", \"Age\", \"Sex\"], axis=1\n",
    ")\n",
    "mri.groupby(\"EVENT_ID\").size().sort_values(ascending=False).head(5)"
   ]
  },
  {
   "cell_type": "markdown",
   "id": "368bdf63-f0c9-42eb-b250-143bcde64e2f",
   "metadata": {},
   "source": [
    "The only visits with enough MRI available to replicate the study are: BL (baseline), V04, V06, and V10. Therefore we will only consider these visits."
   ]
  },
  {
   "cell_type": "markdown",
   "id": "db3b6656-23f3-43dc-9841-d604490274db",
   "metadata": {
    "tags": []
   },
   "source": [
    "### Examination scores"
   ]
  },
  {
   "cell_type": "markdown",
   "id": "619cd19d-4168-4a1c-abfb-8652483bf41a",
   "metadata": {},
   "source": [
    "#### Hoehn and Yahr (H&Y)"
   ]
  },
  {
   "cell_type": "code",
   "execution_count": 11,
   "id": "f705f5f8-b543-4420-bcd4-112d831be732",
   "metadata": {},
   "outputs": [
    {
     "data": {
      "image/png": "[encoded data removed]",
      "text/plain": [
       "<Figure size 1600x800 with 1 Axes>"
      ]
     },
     "metadata": {},
     "output_type": "display_data"
    }
   ],
   "source": [
    "updrs3 = pd.read_csv(os.path.join(utils.study_files_dir, \"MDS_UPDRS_Part_III_clean.csv\"))[\n",
    "    [\"PATNO\", \"EVENT_ID\", \"PDSTATE\", \"PDTRTMNT\", \"NP3TOT\", \"NHY\"]\n",
    "]\n",
    "dist = updrs3.groupby([\"NHY\"], dropna=False).size()\n",
    "\n",
    "plt.bar(dist.index.astype(str), dist.values)\n",
    "plt.title(\"Distribution of H&Y scores\");"
   ]
  },
  {
   "cell_type": "code",
   "execution_count": 12,
   "id": "36e07997-2476-4c70-8e23-f834c8e19f94",
   "metadata": {},
   "outputs": [
    {
     "data": {
      "text/plain": [
       "0        False\n",
       "1        False\n",
       "2        False\n",
       "3        False\n",
       "4        False\n",
       "         ...  \n",
       "19320     True\n",
       "19321     True\n",
       "19322     True\n",
       "19323     True\n",
       "19324     True\n",
       "Name: NHY, Length: 19325, dtype: bool"
      ]
     },
     "execution_count": 12,
     "metadata": {},
     "output_type": "execute_result"
    }
   ],
   "source": [
    "updrs3[\"NHY\"].isin(['1', '2'])"
   ]
  },
  {
   "cell_type": "markdown",
   "id": "8ac7a502-19ca-4d0c-b132-1dc48fd55609",
   "metadata": {},
   "source": [
    "We remove the subjects which clinicians were unable to rate the H&Y score (UR)"
   ]
  },
  {
   "cell_type": "code",
   "execution_count": 13,
   "id": "8d3c8aca-b6ae-4b51-b672-9d4465732678",
   "metadata": {},
   "outputs": [],
   "source": [
    "updrs3 = updrs3[updrs3[\"NHY\"] != \"UR\"]\n",
    "updrs3[\"NHY\"] = pd.to_numeric(updrs3[\"NHY\"])"
   ]
  },
  {
   "cell_type": "markdown",
   "id": "b57e5b59-c054-4c43-89e3-2cbd915c45ee",
   "metadata": {},
   "source": [
    "#### Unified Parkinso's Disease Rating Scale, Part III (UDPRS III)"
   ]
  },
  {
   "cell_type": "code",
   "execution_count": 14,
   "id": "6b616b20-3d4e-4470-a153-aeb0afbf4ed6",
   "metadata": {},
   "outputs": [
    {
     "data": {
      "image/png": "[encoded data removed]",
      "text/plain": [
       "<Figure size 1600x800 with 1 Axes>"
      ]
     },
     "metadata": {},
     "output_type": "display_data"
    }
   ],
   "source": [
    "fig, ax = plt.subplots()\n",
    "dist = updrs3.groupby([\"NP3TOT\"], dropna=False).size()\n",
    "plt.bar(dist.index.astype(str), dist.values)\n",
    "plt.title(\"Distribution of UDPRS3 scores\")\n",
    "\n",
    "reformat_plot_labels(dist, ax, 10)"
   ]
  },
  {
   "cell_type": "markdown",
   "id": "de757168-1d42-44c8-994a-a075f0fcdb23",
   "metadata": {
    "tags": []
   },
   "source": [
    "#### Montreal Cognitive Assessment (MoCA)\n",
    "\n",
    "Due to the low amount of MRI availability at baseline, we consider the MoCA scores at screening as substitute for baseline."
   ]
  },
  {
   "cell_type": "code",
   "execution_count": 15,
   "id": "aeb8f900-cc93-4dea-8eab-d0577f4550cc",
   "metadata": {},
   "outputs": [
    {
     "data": {
      "image/png": "[encoded data removed]",
      "text/plain": [
       "<Figure size 1600x800 with 1 Axes>"
      ]
     },
     "metadata": {},
     "output_type": "display_data"
    }
   ],
   "source": [
    "moca = pd.read_csv(os.path.join(utils.study_files_dir, \"Montreal_Cognitive_Assessment__MoCA_.csv\"))[\n",
    "    [\"PATNO\", \"EVENT_ID\", \"MCATOT\"]\n",
    "]\n",
    "\n",
    "# Use screening instead of baseline.\n",
    "moca = moca[moca[\"EVENT_ID\"] != \"BL\"]\n",
    "moca[\"EVENT_ID\"].mask(moca[\"EVENT_ID\"] == \"SC\", \"BL\", inplace=True)\n",
    "\n",
    "fig, ax = plt.subplots()\n",
    "dist = moca.groupby([\"MCATOT\"], dropna=False).size()\n",
    "plt.bar(dist.index.astype(str), dist.values)\n",
    "plt.title(\"Distribution of MoCA scores\")\n",
    "\n",
    "reformat_plot_labels(dist, ax, 5)"
   ]
  },
  {
   "cell_type": "code",
   "execution_count": 16,
   "id": "7a225cbe-70e5-4179-abf0-770ecc8c8dd4",
   "metadata": {},
   "outputs": [
    {
     "name": "stdout",
     "output_type": "stream",
     "text": [
      "0.0\n"
     ]
    },
    {
     "data": {
      "image/png": "[encoded data removed]",
      "text/plain": [
       "<Figure size 1600x800 with 1 Axes>"
      ]
     },
     "metadata": {},
     "output_type": "display_data"
    }
   ],
   "source": [
    "from livingpark_utils.clinical import moca2mmse\n",
    "moca[\"MMSETOT\"] = moca[\"MCATOT\"].apply(moca2mmse)\n",
    "\n",
    "fig, ax = plt.subplots()\n",
    "dist = moca.groupby([\"MMSETOT\"], dropna=False).size()\n",
    "plt.bar(dist.index.astype(str), dist.values)\n",
    "plt.title(\"Distribution of MMSE scores\")\n",
    "\n",
    "reformat_plot_labels(dist, ax, 1)"
   ]
  },
  {
   "cell_type": "markdown",
   "id": "e8a56fbd-042b-4ec7-94b8-fcfe3bae9590",
   "metadata": {
    "tags": []
   },
   "source": [
    "### Demographics"
   ]
  },
  {
   "cell_type": "markdown",
   "id": "759da88c-22b0-40b7-a234-9435eefcc7c3",
   "metadata": {},
   "source": [
    "#### Sex"
   ]
  },
  {
   "cell_type": "code",
   "execution_count": 17,
   "id": "a69bc7f6-b13e-4df0-9c1a-498e32e48b51",
   "metadata": {},
   "outputs": [
    {
     "name": "stdout",
     "output_type": "stream",
     "text": [
      "Distribution of Sex\n"
     ]
    },
    {
     "data": {
      "text/plain": [
       "SEX\n",
       "Female    1067\n",
       "Male      1475\n",
       "dtype: int64"
      ]
     },
     "execution_count": 17,
     "metadata": {},
     "output_type": "execute_result"
    }
   ],
   "source": [
    "demo = pd.read_csv(os.path.join(utils.study_files_dir, \"Demographics.csv\"))[[\"PATNO\", \"SEX\"]]\n",
    "demo[\"SEX\"] = demo[\"SEX\"].astype(int)\n",
    "print(\"Distribution of Sex\")\n",
    "demo.groupby(\"SEX\").size().rename({0: \"Female\", 1: \"Male\"})"
   ]
  },
  {
   "cell_type": "markdown",
   "id": "6c3c8e5d-f570-4bf4-a929-a4f95ae30fcc",
   "metadata": {},
   "source": [
    "#### Age at visit\n",
    "\n",
    "We consider the age at specific visits. However for simplicity, we only plot the age distribution at baseline."
   ]
  },
  {
   "cell_type": "code",
   "execution_count": 18,
   "id": "c99c4fb8-a5c4-45d7-87d4-c239aac09ff4",
   "metadata": {},
   "outputs": [
    {
     "data": {
      "image/png": "[encoded data removed]",
      "text/plain": [
       "<Figure size 1600x800 with 1 Axes>"
      ]
     },
     "metadata": {},
     "output_type": "display_data"
    }
   ],
   "source": [
    "age = pd.read_csv(os.path.join(utils.study_files_dir, \"Age_at_visit.csv\"))[\n",
    "    [\"PATNO\", \"EVENT_ID\", \"AGE_AT_VISIT\"]\n",
    "]\n",
    "\n",
    "age[age[\"EVENT_ID\"] == \"BL\"][\"AGE_AT_VISIT\"].plot.hist(\n",
    "    bins=25, title=\"Distribution of Age at Baseline\"\n",
    ");"
   ]
  },
  {
   "cell_type": "markdown",
   "id": "e4f7c36e-4c64-4782-b232-fffc200afde2",
   "metadata": {},
   "source": [
    "#### Education"
   ]
  },
  {
   "cell_type": "markdown",
   "id": "b98d8683-0ce6-4c87-9f44-df3af7651806",
   "metadata": {},
   "source": [
    "We only use the education years at screening since most of the other visits do not have records of it and most likely did not change.\n",
    "</br>Moreover, when present, the education years at further visits showed incositency limiting the possibility to perform data imputation."
   ]
  },
  {
   "cell_type": "code",
   "execution_count": 19,
   "id": "aac93886-4f11-4660-b6b2-cf98254d3a2e",
   "metadata": {},
   "outputs": [
    {
     "data": {
      "image/png": "[encoded data removed]",
      "text/plain": [
       "<Figure size 1600x800 with 1 Axes>"
      ]
     },
     "metadata": {},
     "output_type": "display_data"
    }
   ],
   "source": [
    "socio = pd.read_csv(os.path.join(utils.study_files_dir, \"Socio-Economics.csv\"))[\n",
    "    [\"PATNO\", \"EVENT_ID\", \"EDUCYRS\"]\n",
    "]\n",
    "\n",
    "socio = socio[socio[\"EVENT_ID\"] == \"SC\"]\n",
    "socio = socio.drop([\"EVENT_ID\"], axis=1)\n",
    "\n",
    "\n",
    "fig, ax = plt.subplots()\n",
    "dist = socio.groupby([\"EDUCYRS\"], dropna=False).size()\n",
    "plt.bar(dist.index.astype(str), dist.values)\n",
    "plt.title(\"Distribution of Education years at Baseline\")\n",
    "\n",
    "reformat_plot_labels(dist, ax, 5)"
   ]
  },
  {
   "cell_type": "markdown",
   "id": "25e7606a-44df-42e1-a1ee-142ed2951f40",
   "metadata": {
    "tags": []
   },
   "source": [
    "## Data aggregation\n",
    "\n",
    "We merge the data ingested above to obtain a set of data with available\n",
    "- MRI image\n",
    "- Disease duration\n",
    "- Cognitive and PD State\n",
    "- UPDRS III, MoCA, and MMSE scores\n",
    "- Socio-economic and demographic data"
   ]
  },
  {
   "cell_type": "code",
   "execution_count": 20,
   "id": "8717c293-c70e-47a5-900c-c4ef3e16e376",
   "metadata": {},
   "outputs": [],
   "source": [
    "keys = [\"PATNO\", \"EVENT_ID\"]\n",
    "pd_df = (\n",
    "    cohort_def[cohort_def[\"COHORT\"] == 1].merge(mri)\n",
    "    .merge(cog_state, on=keys)\n",
    "    .merge(age, on=keys)\n",
    "    .merge(demo, on=[\"PATNO\"])\n",
    "    .merge(socio, on=[\"PATNO\"])\n",
    "    .merge(updrs3, on=keys)\n",
    "    .merge(moca, on=keys)\n",
    "    .merge(pdxdur, on=keys)\n",
    "    .drop_duplicates()\n",
    "    .groupby(\"PATNO\")\n",
    "    .filter(lambda g: g[\"EVENT_ID\"].nunique() > 1)\n",
    ")\n",
    "\n",
    "hc_df = (\n",
    "    cohort_def[cohort_def[\"COHORT\"] == 2].merge(mri)\n",
    "    .merge(age, on=keys)\n",
    "    .merge(demo, on=[\"PATNO\"])\n",
    "    .merge(socio, on=[\"PATNO\"])\n",
    "    .merge(moca, on=keys)\n",
    "    .drop_duplicates()\n",
    ")\n",
    "\n",
    "nc_patno = pd_df[pd_df[\"COGSTATE\"] == 1][\"PATNO\"]\n",
    "mci_patno = pd_df[pd_df[\"COGSTATE\"] == 2][\"PATNO\"]"
   ]
  },
  {
   "cell_type": "markdown",
   "id": "fc6a466a-47e6-4161-ad5d-50de1e295797",
   "metadata": {},
   "source": [
    "<div class=\"alert alert-block alert-warning\">\n",
    "    <span style=\"font-weight: bold\">Note:</span> Patients can transition from NC to MCI between visits.\n",
    "</div>"
   ]
  },
  {
   "cell_type": "code",
   "execution_count": 21,
   "id": "abb926de-a733-4dc8-924e-39bf24acea8e",
   "metadata": {},
   "outputs": [
    {
     "name": "stdout",
     "output_type": "stream",
     "text": [
      "Unique number of HC patients: 172\n",
      "Unique number of NC patients: 158\n",
      "Unique number of MCI patients: 48\n"
     ]
    },
    {
     "data": {
      "text/plain": [
       "COGSTATE  EVENT_ID\n",
       "NC        BL           69\n",
       "          ST            7\n",
       "          V04          99\n",
       "          V06         108\n",
       "          V10          92\n",
       "MCI       BL            6\n",
       "          ST            2\n",
       "          V04          15\n",
       "          V06          27\n",
       "          V10          26\n",
       "Name: PATNO, dtype: int64"
      ]
     },
     "execution_count": 21,
     "metadata": {},
     "output_type": "execute_result"
    }
   ],
   "source": [
    "print(f\"Unique number of HC patients: {hc_df['PATNO'].nunique()}\")\n",
    "print(f\"Unique number of NC patients: {nc_patno.nunique()}\")\n",
    "print(f\"Unique number of MCI patients: {mci_patno.nunique()}\")\n",
    "\n",
    "pd_df.groupby([\"COGSTATE\", \"EVENT_ID\"])[\"PATNO\"].nunique().rename({1: \"NC\", 2: \"MCI\"})"
   ]
  },
  {
   "cell_type": "markdown",
   "id": "6ce4cd4d-8fdc-4057-a396-d518452df9bc",
   "metadata": {},
   "source": [
    "<div class=\"alert alert-block alert-danger\">\n",
    "    <span style=\"font-weight: bold\">Issue:</span> At any visit, the amount of patients with MCI is lower than in the initial study (27).\n",
    "</div>"
   ]
  },
  {
   "cell_type": "markdown",
   "id": "a8c90411-4758-46b4-b1b4-1c9709384ae9",
   "metadata": {
    "tags": []
   },
   "source": [
    "## Find acceptable visit pairs\n",
    "The inital study assess subjects at baseline and a follow-up visit at 18 month.\n",
    "</br>Here below, we find the pairs of visits with the largest amount of MCI subject."
   ]
  },
  {
   "cell_type": "code",
   "execution_count": 22,
   "id": "db8223bb-884b-4e9f-ab47-ff98f9e056e7",
   "metadata": {},
   "outputs": [
    {
     "name": "stdout",
     "output_type": "stream",
     "text": [
      "Unique PD-MCI subjects per visit pairs:\n",
      "BL  & V04 =   3 | Month difference:                 12\n",
      "BL  & V06 =   3 | Month difference:                 24\n",
      "BL  & V10 =   3 | Month difference:                 48\n",
      "V04 & V06 =  12 | Month difference:                 12\n",
      "V04 & V10 =   9 | Month difference:                 36\n",
      "V06 & V10 =  17 | Month difference:                 24\n",
      "\n",
      "Unique PD-NC subjects per visit pairs:\n",
      "BL  & V04 =  46 | Month difference:                 12\n",
      "BL  & V06 =  42 | Month difference:                 24\n",
      "BL  & V10 =  33 | Month difference:                 48\n",
      "V04 & V06 =  72 | Month difference:                 12\n",
      "V04 & V10 =  63 | Month difference:                 36\n",
      "V06 & V10 =  85 | Month difference:                 24\n",
      "\n",
      "Unique HC subjects per visit pairs:\n",
      "BL  & V04 =  63 | Month difference:                 12\n",
      "BL  & V06 =   9 | Month difference:                 24\n",
      "BL  & V08 =   2 | Month difference:                 36\n",
      "BL  & V10 =  12 | Month difference:                 48\n",
      "V04 & V06 =   8 | Month difference:                 12\n",
      "V04 & V08 =   1 | Month difference:                 24\n",
      "V04 & V10 =  11 | Month difference:                 36\n",
      "V06 & V08 =   2 | Month difference:                 12\n",
      "V06 & V10 =   2 | Month difference:                 24\n"
     ]
    }
   ],
   "source": [
    "from livingpark_utils.maketal.maketal import find_acceptable_visit_pairs\n",
    "\n",
    "find_acceptable_visit_pairs(pd_df, hc_df)"
   ]
  },
  {
   "cell_type": "markdown",
   "id": "379331d2-e7ef-4bd5-9474-926f6c4c6c60",
   "metadata": {},
   "source": [
    "The pairs of visit with 12 or 24 months of interval have the most amount of MCI patients.\n",
    "</br>We will explore the possibility of using those time interval for our replication cohort."
   ]
  },
  {
   "cell_type": "markdown",
   "id": "0596ed30-019a-4966-abd4-3166f78ba492",
   "metadata": {},
   "source": [
    "## Cohort with follow-up after 12 months"
   ]
  },
  {
   "cell_type": "code",
   "execution_count": 23,
   "id": "89795938-f44b-4b39-8e17-e51d3d10eb4f",
   "metadata": {},
   "outputs": [
    {
     "name": "stdout",
     "output_type": "stream",
     "text": [
      "Unique number of:\n",
      "  - HC subjects:     37 (/37)\n",
      "  - PD-NC subjects:  64 (/64)\n",
      "  - PD-MCI subjects: 14 (/36)\n",
      "\n"
     ]
    }
   ],
   "source": [
    "from livingpark_utils.maketal.maketal import create_cohort\n",
    "\n",
    "mci, nc, hc = create_cohort(pd_df=pd_df, hc_df=hc_df, months=12)\n",
    "\n",
    "print(\n",
    "    f\"\"\"Unique number of:\n",
    "  - HC subjects:     {hc['PATNO'].unique().size} (/37)\n",
    "  - PD-NC subjects:  {nc['PATNO'].unique().size} (/64)\n",
    "  - PD-MCI subjects: {mci['PATNO'].unique().size} (/36)\n",
    "\"\"\"\n",
    ")"
   ]
  },
  {
   "cell_type": "markdown",
   "id": "83529679-fdbf-4fe8-af7b-fd0c04fdcd4a",
   "metadata": {},
   "source": [
    "<div class=\"alert alert-block alert-danger\">\n",
    "    <span style=\"font-weight: bold\">Issue:</span> With a follow-up after 12 months, the replication cohort is missing both PD-MCI patients.\n",
    "</div>"
   ]
  },
  {
   "cell_type": "markdown",
   "id": "c3650aba-623c-466b-831c-bf0ad2c5f210",
   "metadata": {},
   "source": [
    "## Cohort with follow-up after 24 months"
   ]
  },
  {
   "cell_type": "code",
   "execution_count": 24,
   "id": "295d94c5-8fc8-4790-b70c-629b821ec44d",
   "metadata": {},
   "outputs": [
    {
     "name": "stdout",
     "output_type": "stream",
     "text": [
      "Unique number of:\n",
      "  - HC subjects:     9 (/37)\n",
      "  - PD-NC subjects:  64 (/64)\n",
      "  - PD-MCI subjects: 19 (/36)\n",
      "\n"
     ]
    }
   ],
   "source": [
    "mci_, nc_, hc_ = create_cohort(pd_df=pd_df, hc_df=hc_df, months=24)\n",
    "\n",
    "print(\n",
    "    f\"\"\"Unique number of:\n",
    "  - HC subjects:     {hc_['PATNO'].unique().size} (/37)\n",
    "  - PD-NC subjects:  {nc_['PATNO'].unique().size} (/64)\n",
    "  - PD-MCI subjects: {mci_['PATNO'].unique().size} (/36)\n",
    "\"\"\"\n",
    ")"
   ]
  },
  {
   "cell_type": "markdown",
   "id": "7bcbfd8a-92bc-49eb-b1c8-0175acc85d8e",
   "metadata": {},
   "source": [
    "<div class=\"alert alert-block alert-danger\">\n",
    "    <span style=\"font-weight: bold\">Issue:</span> With a follow-up after 24 months, the replication cohort is missing both HC and PD-MCI patients.\n",
    "</div>"
   ]
  },
  {
   "cell_type": "markdown",
   "id": "c828fbb9-090a-40d3-8b05-cd2baff82add",
   "metadata": {},
   "source": [
    "<div class=\"alert alert-block alert-success\">\n",
    "    <span style=\"font-weight: bold\">Solution:</span> The duration between baseline and the follow-up visit is important. Therefore, this rules out the option of combining patient from both potential cohort.\n",
    "    Instead, we will perform data analysis on both cohort seperately for comparison with the inital study.\n",
    "</div>"
   ]
  },
  {
   "cell_type": "markdown",
   "id": "2272f456-b16f-4808-832e-c1f0e13daa32",
   "metadata": {},
   "source": [
    "## Cohort Summary\n",
    "\n",
    "We replicate the table from the initial study with the PPMI data for both of our replication cohorts."
   ]
  },
  {
   "cell_type": "code",
   "execution_count": 25,
   "id": "b5204e93-b508-467b-94ef-8b104e3db65d",
   "metadata": {
    "tags": []
   },
   "outputs": [],
   "source": [
    "from collections.abc import Iterable\n",
    "\n",
    "import rich\n",
    "from rich.console import Console\n",
    "from rich.table import Table\n",
    "\n",
    "\n",
    "def cohort_summary(*, hc, nc, mci, title):\n",
    "    def gen_row(D, *, agg, col, f=\"4.1f\", sep=\" ± \"):\n",
    "        if not isinstance(agg, str) and isinstance(agg, Iterable):\n",
    "            return [f\"{sep}\".join([f\"{d.loc[a][col]:{f}}\" for a in agg]) for d in D]\n",
    "        else:\n",
    "            return [f\"{d.loc[agg][col]:{f}}\" for d in D]\n",
    "\n",
    "    def gender_ratio(df):\n",
    "        male_count = df[df[\"SEX\"] == 1][\"PATNO\"].nunique()\n",
    "        return f\"{male_count:.0f}, {male_count / df['PATNO'].nunique() * 100:.1f}%\"\n",
    "\n",
    "    D = [hc.describe(), nc.describe(), mci.describe()]\n",
    "\n",
    "    table = Table(title=title, box=rich.box.SIMPLE_HEAVY, show_footer=True)\n",
    "\n",
    "    table.add_column(\"Subject groups\", footer=\"Values expressed as mean ± SD.\")\n",
    "    table.add_column(\"HC\")\n",
    "    table.add_column(\"PD-NC\")\n",
    "    table.add_column(\"PD-MCI\")\n",
    "    # table.add_column(\"[italic]p\")  # TODO\n",
    "\n",
    "    table.add_row(\"n\", *gen_row(D, agg=\"count\", col=\"PATNO\", f=\".0f\"))\n",
    "    table.add_row(\"Age (y)\", *gen_row(D, agg=[\"mean\", \"std\"], col=\"AGE_AT_VISIT\"))\n",
    "    table.add_row(\n",
    "        \"Age range\", *gen_row(D, agg=[\"min\", \"max\"], col=\"AGE_AT_VISIT\", sep=\" - \")\n",
    "    )\n",
    "    table.add_row(\n",
    "        \"Gender (male, %)\", gender_ratio(hc), gender_ratio(nc), gender_ratio(mci)\n",
    "    )\n",
    "    table.add_row(\"Education (y)\", *gen_row(D, agg=[\"mean\", \"std\"], col=\"EDUCYRS\"))\n",
    "    table.add_row(\n",
    "        \"Disease duration (mo)\", \"\", *gen_row(D[1:], agg=[\"mean\", \"std\"], col=\"PDXDUR\")\n",
    "    )\n",
    "    # table.add_row(\"LEDD (mg/d) baseline\", )  # TODO\n",
    "    table.add_row(\"H&Y baseline\", \"\", *gen_row(D[1:], agg=[\"mean\", \"std\"], col=\"NHY\"))\n",
    "    table.add_row(\"H&Y follow-up\", \"\", *gen_row(D[1:], agg=[\"mean\", \"std\"], col=\"NHY_NX\"))\n",
    "    table.add_row(\"UPDRS III baseline\", \"\", *gen_row(D[1:], agg=[\"mean\", \"std\"], col=\"NP3TOT\"))\n",
    "    table.add_row(\n",
    "        \"UPDRS III follow-up\", \"\", *gen_row(D[1:], agg=[\"mean\", \"std\"], col=\"NP3TOT_NX\")\n",
    "    )\n",
    "    table.add_row(\"MMSE baseline\", *gen_row(D, agg=[\"mean\", \"std\"], col=\"MMSETOT\"))\n",
    "    table.add_row(\"MMSE follow-up\", *gen_row(D, agg=[\"mean\", \"std\"], col=\"MMSETOT_NX\"))\n",
    "    table.add_row(\"MoCA baseline\", *gen_row(D, agg=[\"mean\", \"std\"], col=\"MCATOT\"))\n",
    "    table.add_row(\"MoCA follow-up\", *gen_row(D, agg=[\"mean\", \"std\"], col=\"MCATOT_NX\"))\n",
    "\n",
    "    console = Console()\n",
    "    console.print(table)"
   ]
  },
  {
   "cell_type": "code",
   "execution_count": 26,
   "id": "dc113b2e-3e37-4b35-8cb6-cd1150d9aede",
   "metadata": {
    "tags": []
   },
   "outputs": [
    {
     "data": {
      "text/html": [
       "<pre style=\"white-space:pre;overflow-x:auto;line-height:normal;font-family:Menlo,'DejaVu Sans Mono',consolas,'Courier New',monospace\"><span style=\"font-style: italic\">                  Demographic and clinical characteristics                  </span>\n",
       "<span style=\"font-style: italic\">                             (12 months cohort)                             </span>\n",
       "                                                                            \n",
       " <span style=\"font-weight: bold\"> Subject groups                 </span> <span style=\"font-weight: bold\"> HC          </span> <span style=\"font-weight: bold\"> PD-NC       </span> <span style=\"font-weight: bold\"> PD-MCI      </span> \n",
       " ━━━━━━━━━━━━━━━━━━━━━━━━━━━━━━━━━━━━━━━━━━━━━━━━━━━━━━━━━━━━━━━━━━━━━━━━━━ \n",
       "  n                                37            64            14           \n",
       "  Age (y)                          57.8 ± 12.4   60.9 ± 10.2   65.7 ±  8.3  \n",
       "  Age range                        30.6 - 78.8   38.3 - 78.3   50.4 - 72.7  \n",
       "  Gender (male, %)                 22, 59.5%     42, 65.6%     10, 71.4%    \n",
       "  Education (y)                    14.9 ±  2.9   14.7 ±  3.0   15.1 ±  2.9  \n",
       "  Disease duration (mo)                           3.8 ±  2.7    4.6 ±  3.9  \n",
       "  H&amp;Y baseline                                    1.7 ±  0.5    1.9 ±  0.5  \n",
       "  H&amp;Y follow-up                                   1.8 ±  0.5    1.8 ±  0.6  \n",
       "  UPDRS III baseline                             20.9 ± 10.4   21.5 ± 11.9  \n",
       "  UPDRS III follow-up                            22.6 ± 11.4   26.9 ± 14.4  \n",
       "  MMSE baseline                    29.6 ±  0.5   29.3 ±  1.0   27.8 ±  1.7  \n",
       "  MMSE follow-up                   29.3 ±  0.8   29.3 ±  1.0   28.2 ±  1.5  \n",
       "  MoCA baseline                    28.2 ±  1.2   27.4 ±  2.2   24.6 ±  2.9  \n",
       "  MoCA follow-up                   27.4 ±  2.0   27.5 ±  2.3   25.3 ±  2.9  \n",
       " ━━━━━━━━━━━━━━━━━━━━━━━━━━━━━━━━━━━━━━━━━━━━━━━━━━━━━━━━━━━━━━━━━━━━━━━━━━ \n",
       " <span style=\"font-weight: bold\"> Values expressed as mean ± SD. </span> <span style=\"font-weight: bold\">             </span> <span style=\"font-weight: bold\">             </span> <span style=\"font-weight: bold\">             </span> \n",
       "                                                                            \n",
       "</pre>\n"
      ],
      "text/plain": [
       "\u001b[3m                  Demographic and clinical characteristics                  \u001b[0m\n",
       "\u001b[3m                             (12 months cohort)                             \u001b[0m\n",
       "                                                                            \n",
       " \u001b[1m \u001b[0m\u001b[1mSubject groups                \u001b[0m\u001b[1m \u001b[0m \u001b[1m \u001b[0m\u001b[1mHC         \u001b[0m\u001b[1m \u001b[0m \u001b[1m \u001b[0m\u001b[1mPD-NC      \u001b[0m\u001b[1m \u001b[0m \u001b[1m \u001b[0m\u001b[1mPD-MCI     \u001b[0m\u001b[1m \u001b[0m \n",
       " ━━━━━━━━━━━━━━━━━━━━━━━━━━━━━━━━━━━━━━━━━━━━━━━━━━━━━━━━━━━━━━━━━━━━━━━━━━ \n",
       "  n                                37            64            14           \n",
       "  Age (y)                          57.8 ± 12.4   60.9 ± 10.2   65.7 ±  8.3  \n",
       "  Age range                        30.6 - 78.8   38.3 - 78.3   50.4 - 72.7  \n",
       "  Gender (male, %)                 22, 59.5%     42, 65.6%     10, 71.4%    \n",
       "  Education (y)                    14.9 ±  2.9   14.7 ±  3.0   15.1 ±  2.9  \n",
       "  Disease duration (mo)                           3.8 ±  2.7    4.6 ±  3.9  \n",
       "  H&Y baseline                                    1.7 ±  0.5    1.9 ±  0.5  \n",
       "  H&Y follow-up                                   1.8 ±  0.5    1.8 ±  0.6  \n",
       "  UPDRS III baseline                             20.9 ± 10.4   21.5 ± 11.9  \n",
       "  UPDRS III follow-up                            22.6 ± 11.4   26.9 ± 14.4  \n",
       "  MMSE baseline                    29.6 ±  0.5   29.3 ±  1.0   27.8 ±  1.7  \n",
       "  MMSE follow-up                   29.3 ±  0.8   29.3 ±  1.0   28.2 ±  1.5  \n",
       "  MoCA baseline                    28.2 ±  1.2   27.4 ±  2.2   24.6 ±  2.9  \n",
       "  MoCA follow-up                   27.4 ±  2.0   27.5 ±  2.3   25.3 ±  2.9  \n",
       " ━━━━━━━━━━━━━━━━━━━━━━━━━━━━━━━━━━━━━━━━━━━━━━━━━━━━━━━━━━━━━━━━━━━━━━━━━━ \n",
       " \u001b[1m \u001b[0m\u001b[1mValues expressed as mean ± SD.\u001b[0m\u001b[1m \u001b[0m \u001b[1m \u001b[0m\u001b[1m           \u001b[0m\u001b[1m \u001b[0m \u001b[1m \u001b[0m\u001b[1m           \u001b[0m\u001b[1m \u001b[0m \u001b[1m \u001b[0m\u001b[1m           \u001b[0m\u001b[1m \u001b[0m \n",
       "                                                                            \n"
      ]
     },
     "metadata": {},
     "output_type": "display_data"
    }
   ],
   "source": [
    "cohort_summary(\n",
    "    hc=hc,\n",
    "    nc=nc,\n",
    "    mci=mci,\n",
    "    title=\"Demographic and clinical characteristics\\n(12 months cohort)\",\n",
    ")"
   ]
  },
  {
   "cell_type": "code",
   "execution_count": 27,
   "id": "319774cc-97bd-4e28-b368-f67a9c74e029",
   "metadata": {
    "tags": []
   },
   "outputs": [
    {
     "data": {
      "text/html": [
       "<pre style=\"white-space:pre;overflow-x:auto;line-height:normal;font-family:Menlo,'DejaVu Sans Mono',consolas,'Courier New',monospace\"><span style=\"font-style: italic\">                  Demographic and clinical characteristics                  </span>\n",
       "<span style=\"font-style: italic\">                             (24 months cohort)                             </span>\n",
       "                                                                            \n",
       " <span style=\"font-weight: bold\"> Subject groups                 </span> <span style=\"font-weight: bold\"> HC          </span> <span style=\"font-weight: bold\"> PD-NC       </span> <span style=\"font-weight: bold\"> PD-MCI      </span> \n",
       " ━━━━━━━━━━━━━━━━━━━━━━━━━━━━━━━━━━━━━━━━━━━━━━━━━━━━━━━━━━━━━━━━━━━━━━━━━━ \n",
       "  n                                9             64            19           \n",
       "  Age (y)                          54.6 ± 15.5   61.0 ±  8.7   66.1 ±  8.6  \n",
       "  Age range                        30.6 - 76.8   38.3 - 74.8   49.9 - 79.2  \n",
       "  Gender (male, %)                 6, 66.7%      34, 53.1%     16, 84.2%    \n",
       "  Education (y)                    14.2 ±  4.3   15.7 ±  3.0   15.1 ±  3.1  \n",
       "  Disease duration (mo)                           4.5 ±  2.8    5.1 ±  3.1  \n",
       "  H&amp;Y baseline                                    1.7 ±  0.5    1.9 ±  0.2  \n",
       "  H&amp;Y follow-up                                   1.8 ±  0.5    2.1 ±  0.7  \n",
       "  UPDRS III baseline                             20.8 ± 10.0   26.2 ± 11.2  \n",
       "  UPDRS III follow-up                            22.1 ± 11.8   27.7 ± 14.0  \n",
       "  MMSE baseline                    29.8 ±  0.4   29.3 ±  1.0   28.5 ±  0.7  \n",
       "  MMSE follow-up                   29.8 ±  0.4   29.3 ±  1.0   28.3 ±  1.4  \n",
       "  MoCA baseline                    29.0 ±  1.2   27.5 ±  2.1   25.6 ±  1.6  \n",
       "  MoCA follow-up                   28.7 ±  1.1   27.6 ±  2.1   25.3 ±  2.6  \n",
       " ━━━━━━━━━━━━━━━━━━━━━━━━━━━━━━━━━━━━━━━━━━━━━━━━━━━━━━━━━━━━━━━━━━━━━━━━━━ \n",
       " <span style=\"font-weight: bold\"> Values expressed as mean ± SD. </span> <span style=\"font-weight: bold\">             </span> <span style=\"font-weight: bold\">             </span> <span style=\"font-weight: bold\">             </span> \n",
       "                                                                            \n",
       "</pre>\n"
      ],
      "text/plain": [
       "\u001b[3m                  Demographic and clinical characteristics                  \u001b[0m\n",
       "\u001b[3m                             (24 months cohort)                             \u001b[0m\n",
       "                                                                            \n",
       " \u001b[1m \u001b[0m\u001b[1mSubject groups                \u001b[0m\u001b[1m \u001b[0m \u001b[1m \u001b[0m\u001b[1mHC         \u001b[0m\u001b[1m \u001b[0m \u001b[1m \u001b[0m\u001b[1mPD-NC      \u001b[0m\u001b[1m \u001b[0m \u001b[1m \u001b[0m\u001b[1mPD-MCI     \u001b[0m\u001b[1m \u001b[0m \n",
       " ━━━━━━━━━━━━━━━━━━━━━━━━━━━━━━━━━━━━━━━━━━━━━━━━━━━━━━━━━━━━━━━━━━━━━━━━━━ \n",
       "  n                                9             64            19           \n",
       "  Age (y)                          54.6 ± 15.5   61.0 ±  8.7   66.1 ±  8.6  \n",
       "  Age range                        30.6 - 76.8   38.3 - 74.8   49.9 - 79.2  \n",
       "  Gender (male, %)                 6, 66.7%      34, 53.1%     16, 84.2%    \n",
       "  Education (y)                    14.2 ±  4.3   15.7 ±  3.0   15.1 ±  3.1  \n",
       "  Disease duration (mo)                           4.5 ±  2.8    5.1 ±  3.1  \n",
       "  H&Y baseline                                    1.7 ±  0.5    1.9 ±  0.2  \n",
       "  H&Y follow-up                                   1.8 ±  0.5    2.1 ±  0.7  \n",
       "  UPDRS III baseline                             20.8 ± 10.0   26.2 ± 11.2  \n",
       "  UPDRS III follow-up                            22.1 ± 11.8   27.7 ± 14.0  \n",
       "  MMSE baseline                    29.8 ±  0.4   29.3 ±  1.0   28.5 ±  0.7  \n",
       "  MMSE follow-up                   29.8 ±  0.4   29.3 ±  1.0   28.3 ±  1.4  \n",
       "  MoCA baseline                    29.0 ±  1.2   27.5 ±  2.1   25.6 ±  1.6  \n",
       "  MoCA follow-up                   28.7 ±  1.1   27.6 ±  2.1   25.3 ±  2.6  \n",
       " ━━━━━━━━━━━━━━━━━━━━━━━━━━━━━━━━━━━━━━━━━━━━━━━━━━━━━━━━━━━━━━━━━━━━━━━━━━ \n",
       " \u001b[1m \u001b[0m\u001b[1mValues expressed as mean ± SD.\u001b[0m\u001b[1m \u001b[0m \u001b[1m \u001b[0m\u001b[1m           \u001b[0m\u001b[1m \u001b[0m \u001b[1m \u001b[0m\u001b[1m           \u001b[0m\u001b[1m \u001b[0m \u001b[1m \u001b[0m\u001b[1m           \u001b[0m\u001b[1m \u001b[0m \n",
       "                                                                            \n"
      ]
     },
     "metadata": {},
     "output_type": "display_data"
    }
   ],
   "source": [
    "cohort_summary(\n",
    "    hc=hc_,\n",
    "    nc=nc_,\n",
    "    mci=mci_,\n",
    "    title=\"Demographic and clinical characteristics\\n(24 months cohort)\",\n",
    ")"
   ]
  },
  {
   "cell_type": "markdown",
   "id": "665f2c71-76b3-4c1c-b3e9-e4fad3279c7f",
   "metadata": {},
   "source": [
    "# Imagine pre-processing"
   ]
  },
  {
   "cell_type": "markdown",
   "id": "90fa39f8-57c3-4f24-9b55-cbf449ba3655",
   "metadata": {},
   "source": [
    "## Download dataset"
   ]
  },
  {
   "cell_type": "code",
   "execution_count": 28,
   "id": "846d7016-de30-49d8-a125-8cfdef2de6a0",
   "metadata": {},
   "outputs": [
    {
     "name": "stdout",
     "output_type": "stream",
     "text": [
      "Cohort id: _1545968492072067359\n"
     ]
    }
   ],
   "source": [
    "from livingpark_utils.dataset import ppmi\n",
    "\n",
    "hc[\"group\"] = \"hc\"\n",
    "nc[\"group\"] = \"pd-nc\"\n",
    "mci[\"group\"] = \"pd-mci\"\n",
    "cohort = pd.concat([hc, nc, mci])\n",
    "cohort_id = ppmi.cohort_id(cohort)\n",
    "print(f\"Cohort id: {cohort_id}\")"
   ]
  },
  {
   "cell_type": "code",
   "execution_count": 29,
   "id": "08516d3b-e8dd-422f-8d8a-b13da490815f",
   "metadata": {},
   "outputs": [
    {
     "name": "stdout",
     "output_type": "stream",
     "text": [
      "Cohort saved in mak-etal-2017-_1545968492072067359.csv. Do not share this file publicly!\n"
     ]
    }
   ],
   "source": [
    "# Save patient ids\n",
    "filename = f\"mak-etal-2017-{cohort_id}.csv\"\n",
    "cohort.to_csv(filename, index=False)\n",
    "print(f\"Cohort saved in {filename}. Do not share this file publicly!\")"
   ]
  },
  {
   "cell_type": "code",
   "execution_count": 30,
   "id": "481c1bf9-33d0-499c-aa8d-2710480ebe01",
   "metadata": {},
   "outputs": [],
   "source": [
    "# utils.get_T1_nifti_files(cohort, default=ppmi_downloader, symlink=True)"
   ]
  },
  {
   "cell_type": "markdown",
   "id": "800820ba-d9eb-49bb-815a-1af36af3483d",
   "metadata": {},
   "source": [
    "## FSL-SIENA"
   ]
  },
  {
   "cell_type": "code",
   "execution_count": 31,
   "id": "11802f9e-718d-4390-a4db-f1f8b712c573",
   "metadata": {},
   "outputs": [],
   "source": [
    "# TODO Pre-process the data"
   ]
  },
  {
   "cell_type": "markdown",
   "id": "15318aa2-b8c0-4fe4-878d-6ccebb1dfc6c",
   "metadata": {},
   "source": [
    "## VIENA"
   ]
  },
  {
   "cell_type": "code",
   "execution_count": 32,
   "id": "068e5c6f-5c9c-46b4-a868-2cdb0d031de3",
   "metadata": {},
   "outputs": [],
   "source": [
    "# TODO Pre-process the data"
   ]
  },
  {
   "cell_type": "code",
   "execution_count": null,
   "id": "2973cb99-815d-4f58-bbf8-b0b251e04059",
   "metadata": {},
   "outputs": [],
   "source": []
  },
  {
   "cell_type": "markdown",
   "id": "8375d3b0-d6a9-4436-9b63-01072be7810e",
   "metadata": {},
   "source": [
    "# Analysis"
   ]
  },
  {
   "cell_type": "code",
   "execution_count": 33,
   "id": "a5ac16d2-e69a-4393-807e-5f7ba62be299",
   "metadata": {},
   "outputs": [],
   "source": [
    "# TODO"
   ]
  },
  {
   "cell_type": "code",
   "execution_count": null,
   "id": "7c73ef9b-6346-473c-9804-ce54291f96d9",
   "metadata": {},
   "outputs": [],
   "source": []
  },
  {
   "cell_type": "code",
   "execution_count": null,
   "id": "43e87816-63c7-4971-b7f6-49ba1dc5d140",
   "metadata": {},
   "outputs": [],
   "source": []
  },
  {
   "cell_type": "code",
   "execution_count": null,
   "id": "fa98a384-8ee8-4f8c-95b4-d82e27f3f484",
   "metadata": {},
   "outputs": [],
   "source": []
  },
  {
   "cell_type": "code",
   "execution_count": null,
   "id": "b81d5ae9-8598-4cc6-971c-15ff64ba70df",
   "metadata": {},
   "outputs": [],
   "source": []
  }
 ],
 "metadata": {
  "kernelspec": {
   "display_name": "Python 3 (ipykernel)",
   "language": "python",
   "name": "python3"
  },
  "language_info": {
   "codemirror_mode": {
    "name": "ipython",
    "version": 3
   },
   "file_extension": ".py",
   "mimetype": "text/x-python",
   "name": "python",
   "nbconvert_exporter": "python",
   "pygments_lexer": "ipython3",
   "version": "3.10.8"
  }
 },
 "nbformat": 4,
 "nbformat_minor": 5
}
