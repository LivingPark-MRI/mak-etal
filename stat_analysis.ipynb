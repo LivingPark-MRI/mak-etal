{
 "cells": [
  {
   "cell_type": "code",
   "execution_count": 1,
   "metadata": {},
   "outputs": [],
   "source": [
    "import pandas as pd\n",
    "\n",
    "\n",
    "cohort_file = \"mak-etal-2017-mixed-8054891017613142248.csv\"\n",
    "cohort = pd.read_csv(cohort_file)\n",
    "\n",
    "# Remove duplicate subject visits (i.e. only keep baseline visits)\n",
    "cohort = cohort[cohort[\"MRI_ID\"].str.contains(\"Baseline\")]\n"
   ]
  },
  {
   "cell_type": "code",
   "execution_count": 2,
   "metadata": {},
   "outputs": [],
   "source": [
    "from pathlib import Path\n",
    "import re\n",
    "\n",
    "\n",
    "def get_siena_results(patno: int):\n",
    "    with Path(\"outputs\", \"fsl_siena\", str(patno), \"report.siena\").open() as fin:\n",
    "        return float(\n",
    "            re.search(\"finalPBVC (?P<result>.*) %\", fin.read()).groupdict()[\"result\"]\n",
    "        )\n",
    "\n",
    "\n",
    "def get_viena_results(patno: int, debug: bool = False):\n",
    "    with Path(\"outputs\", \"fsl_siena\", str(patno), \"report.viena\").open() as fin:\n",
    "        try:\n",
    "            return float(\n",
    "                re.search(\"finalPVVC (?P<result>.*) %\", fin.read()).groupdict()[\n",
    "                    \"result\"\n",
    "                ]\n",
    "            )\n",
    "        except:\n",
    "            if debug:\n",
    "                print(f\"[ERROR]: Cannot retrieve VIENA results for patient: {patno}\")\n",
    "            return None\n"
   ]
  },
  {
   "attachments": {},
   "cell_type": "markdown",
   "metadata": {},
   "source": [
    "# Comparisons of percentage brain volume change and ventricular enlargement\n"
   ]
  },
  {
   "cell_type": "code",
   "execution_count": 3,
   "metadata": {},
   "outputs": [],
   "source": [
    "# cohort[\"PATNO\"].map(lambda x: get_viena_results(x, debug=True))\n",
    "cohort[\"SIENA\"] = cohort[\"PATNO\"].map(get_siena_results)\n",
    "cohort[\"VIENA\"] = cohort[\"PATNO\"].map(get_viena_results)\n",
    "\n",
    "# Find PD converters and stables\n",
    "cohort.loc[\n",
    "    (cohort[\"COGSTATE\"] == 1) & (cohort[\"COGSTATE_NX\"] == 1), \"PD_CONVERT\"\n",
    "] = \"stable\"\n",
    "cohort.loc[\n",
    "    (cohort[\"COGSTATE\"] == 1) & (cohort[\"COGSTATE_NX\"] == 2), \"PD_CONVERT\"\n",
    "] = \"converter\"\n",
    "\n",
    "# Percentage of change for MoCA and UPDRS3\n",
    "cohort[\"MOCA_PERC_CHANGE\"] = (cohort[\"MCATOT_NX\"] - cohort[\"MCATOT\"]) / cohort[\"MCATOT\"].abs() * 100\n",
    "cohort[\"UPDRS3_PERC_CHANGE\"] = (cohort[\"NP3TOT_NX\"] - cohort[\"NP3TOT\"]) / cohort[\"NP3TOT\"].abs() * 100\n"
   ]
  },
  {
   "cell_type": "code",
   "execution_count": 4,
   "metadata": {},
   "outputs": [],
   "source": [
    "# For now remove subject that failed VIENA preprocessing\n",
    "siena_cohort = cohort[~cohort[\"VIENA\"].isna()]\n",
    "viena_cohort = cohort[~cohort[\"VIENA\"].isna()]\n"
   ]
  },
  {
   "cell_type": "code",
   "execution_count": 5,
   "metadata": {},
   "outputs": [],
   "source": [
    "from pingouin import ancova\n",
    "from statsmodels.stats.multicomp import pairwise_tukeyhsd\n"
   ]
  },
  {
   "attachments": {},
   "cell_type": "markdown",
   "metadata": {},
   "source": [
    "## SIENA (PBVC)\n"
   ]
  },
  {
   "cell_type": "code",
   "execution_count": 6,
   "metadata": {},
   "outputs": [
    {
     "data": {
      "text/plain": [
       "group\n",
       "hc        34\n",
       "pd-mci    16\n",
       "pd-nc     63\n",
       "dtype: int64"
      ]
     },
     "execution_count": 6,
     "metadata": {},
     "output_type": "execute_result"
    }
   ],
   "source": [
    "siena_cohort.groupby(\"group\").size()"
   ]
  },
  {
   "cell_type": "code",
   "execution_count": 7,
   "metadata": {},
   "outputs": [
    {
     "data": {
      "text/html": [
       "<div>\n",
       "<style scoped>\n",
       "    .dataframe tbody tr th:only-of-type {\n",
       "        vertical-align: middle;\n",
       "    }\n",
       "\n",
       "    .dataframe tbody tr th {\n",
       "        vertical-align: top;\n",
       "    }\n",
       "\n",
       "    .dataframe thead th {\n",
       "        text-align: right;\n",
       "    }\n",
       "</style>\n",
       "<table border=\"1\" class=\"dataframe\">\n",
       "  <thead>\n",
       "    <tr style=\"text-align: right;\">\n",
       "      <th></th>\n",
       "      <th>Source</th>\n",
       "      <th>SS</th>\n",
       "      <th>DF</th>\n",
       "      <th>F</th>\n",
       "      <th>p-unc</th>\n",
       "      <th>n2</th>\n",
       "    </tr>\n",
       "  </thead>\n",
       "  <tbody>\n",
       "    <tr>\n",
       "      <th>0</th>\n",
       "      <td>group</td>\n",
       "      <td>5.186640</td>\n",
       "      <td>2</td>\n",
       "      <td>0.691550</td>\n",
       "      <td>0.503024</td>\n",
       "      <td>0.012698</td>\n",
       "    </tr>\n",
       "    <tr>\n",
       "      <th>1</th>\n",
       "      <td>AGE_AT_VISIT</td>\n",
       "      <td>0.458970</td>\n",
       "      <td>1</td>\n",
       "      <td>0.122392</td>\n",
       "      <td>0.727143</td>\n",
       "      <td>0.001124</td>\n",
       "    </tr>\n",
       "    <tr>\n",
       "      <th>2</th>\n",
       "      <td>SEX</td>\n",
       "      <td>1.395837</td>\n",
       "      <td>1</td>\n",
       "      <td>0.372222</td>\n",
       "      <td>0.543089</td>\n",
       "      <td>0.003417</td>\n",
       "    </tr>\n",
       "    <tr>\n",
       "      <th>3</th>\n",
       "      <td>EDUCYRS</td>\n",
       "      <td>0.182339</td>\n",
       "      <td>1</td>\n",
       "      <td>0.048624</td>\n",
       "      <td>0.825896</td>\n",
       "      <td>0.000446</td>\n",
       "    </tr>\n",
       "    <tr>\n",
       "      <th>4</th>\n",
       "      <td>Residual</td>\n",
       "      <td>401.251378</td>\n",
       "      <td>107</td>\n",
       "      <td>NaN</td>\n",
       "      <td>NaN</td>\n",
       "      <td>NaN</td>\n",
       "    </tr>\n",
       "  </tbody>\n",
       "</table>\n",
       "</div>"
      ],
      "text/plain": [
       "         Source          SS   DF         F     p-unc        n2\n",
       "0         group    5.186640    2  0.691550  0.503024  0.012698\n",
       "1  AGE_AT_VISIT    0.458970    1  0.122392  0.727143  0.001124\n",
       "2           SEX    1.395837    1  0.372222  0.543089  0.003417\n",
       "3       EDUCYRS    0.182339    1  0.048624  0.825896  0.000446\n",
       "4      Residual  401.251378  107       NaN       NaN       NaN"
      ]
     },
     "execution_count": 7,
     "metadata": {},
     "output_type": "execute_result"
    }
   ],
   "source": [
    "ancova(\n",
    "    data=siena_cohort,\n",
    "    dv=\"SIENA\",\n",
    "    covar=[\"AGE_AT_VISIT\", \"SEX\", \"EDUCYRS\"],\n",
    "    between=\"group\",\n",
    "    effsize=\"n2\",\n",
    ")\n"
   ]
  },
  {
   "cell_type": "code",
   "execution_count": 8,
   "metadata": {},
   "outputs": [
    {
     "data": {
      "text/html": [
       "<div>\n",
       "<style scoped>\n",
       "    .dataframe tbody tr th:only-of-type {\n",
       "        vertical-align: middle;\n",
       "    }\n",
       "\n",
       "    .dataframe tbody tr th {\n",
       "        vertical-align: top;\n",
       "    }\n",
       "\n",
       "    .dataframe thead th {\n",
       "        text-align: right;\n",
       "    }\n",
       "</style>\n",
       "<table border=\"1\" class=\"dataframe\">\n",
       "  <thead>\n",
       "    <tr style=\"text-align: right;\">\n",
       "      <th></th>\n",
       "      <th>Source</th>\n",
       "      <th>SS</th>\n",
       "      <th>DF</th>\n",
       "      <th>F</th>\n",
       "      <th>p-unc</th>\n",
       "      <th>n2</th>\n",
       "    </tr>\n",
       "  </thead>\n",
       "  <tbody>\n",
       "    <tr>\n",
       "      <th>0</th>\n",
       "      <td>group</td>\n",
       "      <td>3.329081e+00</td>\n",
       "      <td>1</td>\n",
       "      <td>1.094013e+00</td>\n",
       "      <td>0.299035</td>\n",
       "      <td>1.422558e-02</td>\n",
       "    </tr>\n",
       "    <tr>\n",
       "      <th>1</th>\n",
       "      <td>AGE_AT_VISIT</td>\n",
       "      <td>1.959309e+00</td>\n",
       "      <td>1</td>\n",
       "      <td>6.438741e-01</td>\n",
       "      <td>0.424916</td>\n",
       "      <td>8.372373e-03</td>\n",
       "    </tr>\n",
       "    <tr>\n",
       "      <th>2</th>\n",
       "      <td>SEX</td>\n",
       "      <td>2.444098e-01</td>\n",
       "      <td>1</td>\n",
       "      <td>8.031869e-02</td>\n",
       "      <td>0.777668</td>\n",
       "      <td>1.044394e-03</td>\n",
       "    </tr>\n",
       "    <tr>\n",
       "      <th>3</th>\n",
       "      <td>EDUCYRS</td>\n",
       "      <td>7.419525e-08</td>\n",
       "      <td>1</td>\n",
       "      <td>2.438227e-08</td>\n",
       "      <td>0.999876</td>\n",
       "      <td>3.170456e-10</td>\n",
       "    </tr>\n",
       "    <tr>\n",
       "      <th>4</th>\n",
       "      <td>LEDD</td>\n",
       "      <td>6.348941e+00</td>\n",
       "      <td>1</td>\n",
       "      <td>2.086408e+00</td>\n",
       "      <td>0.152894</td>\n",
       "      <td>2.712982e-02</td>\n",
       "    </tr>\n",
       "    <tr>\n",
       "      <th>5</th>\n",
       "      <td>Residual</td>\n",
       "      <td>2.221390e+02</td>\n",
       "      <td>73</td>\n",
       "      <td>NaN</td>\n",
       "      <td>NaN</td>\n",
       "      <td>NaN</td>\n",
       "    </tr>\n",
       "  </tbody>\n",
       "</table>\n",
       "</div>"
      ],
      "text/plain": [
       "         Source            SS  DF             F     p-unc            n2\n",
       "0         group  3.329081e+00   1  1.094013e+00  0.299035  1.422558e-02\n",
       "1  AGE_AT_VISIT  1.959309e+00   1  6.438741e-01  0.424916  8.372373e-03\n",
       "2           SEX  2.444098e-01   1  8.031869e-02  0.777668  1.044394e-03\n",
       "3       EDUCYRS  7.419525e-08   1  2.438227e-08  0.999876  3.170456e-10\n",
       "4          LEDD  6.348941e+00   1  2.086408e+00  0.152894  2.712982e-02\n",
       "5      Residual  2.221390e+02  73           NaN       NaN           NaN"
      ]
     },
     "execution_count": 8,
     "metadata": {},
     "output_type": "execute_result"
    }
   ],
   "source": [
    "# Account for LEDD\n",
    "ancova(\n",
    "    data=siena_cohort,\n",
    "    dv=\"SIENA\",\n",
    "    covar=[\"AGE_AT_VISIT\", \"SEX\", \"EDUCYRS\", \"LEDD\"],\n",
    "    between=\"group\",\n",
    "    effsize=\"n2\",\n",
    ")\n"
   ]
  },
  {
   "cell_type": "code",
   "execution_count": 9,
   "metadata": {},
   "outputs": [
    {
     "name": "stdout",
     "output_type": "stream",
     "text": [
      "Multiple Comparison of Means - Tukey HSD, FWER=0.05\n",
      "===================================================\n",
      "group1 group2 meandiff p-adj   lower  upper  reject\n",
      "---------------------------------------------------\n",
      "    hc pd-mci   0.6194 0.5369 -0.7606 1.9993  False\n",
      "    hc  pd-nc   0.3105 0.7273 -0.6581 1.2791  False\n",
      "pd-mci  pd-nc  -0.3089 0.8333 -1.5831 0.9654  False\n",
      "---------------------------------------------------\n"
     ]
    }
   ],
   "source": [
    "tukey = pairwise_tukeyhsd(\n",
    "    endog=siena_cohort[\"SIENA\"],\n",
    "    groups=siena_cohort[\"group\"],\n",
    "    alpha=0.05,\n",
    ")\n",
    "print(tukey)\n"
   ]
  },
  {
   "cell_type": "code",
   "execution_count": 10,
   "metadata": {},
   "outputs": [
    {
     "data": {
      "image/png": "[encoded data removed]",
      "text/plain": [
       "<Figure size 640x480 with 1 Axes>"
      ]
     },
     "metadata": {},
     "output_type": "display_data"
    }
   ],
   "source": [
    "import matplotlib.pyplot as plt\n",
    "import numpy as np\n",
    "\n",
    "\n",
    "groups = [\"hc\", \"pd-nc\", \"pd-mci\"]\n",
    "plt.boxplot([siena_cohort[\"SIENA\"][siena_cohort[\"group\"] == g] for g in groups])\n",
    "plt.xticks(np.arange(len(groups)) + 1, groups)\n",
    "plt.ylabel(\"PBVC\")\n",
    "\n",
    "plt.show()\n"
   ]
  },
  {
   "attachments": {},
   "cell_type": "markdown",
   "metadata": {},
   "source": [
    "## VIENA (PVVC)\n"
   ]
  },
  {
   "cell_type": "code",
   "execution_count": 11,
   "metadata": {},
   "outputs": [
    {
     "data": {
      "text/plain": [
       "group\n",
       "hc        34\n",
       "pd-mci    16\n",
       "pd-nc     63\n",
       "dtype: int64"
      ]
     },
     "execution_count": 11,
     "metadata": {},
     "output_type": "execute_result"
    }
   ],
   "source": [
    "viena_cohort.groupby(\"group\").size()"
   ]
  },
  {
   "cell_type": "code",
   "execution_count": 12,
   "metadata": {},
   "outputs": [
    {
     "data": {
      "text/html": [
       "<div>\n",
       "<style scoped>\n",
       "    .dataframe tbody tr th:only-of-type {\n",
       "        vertical-align: middle;\n",
       "    }\n",
       "\n",
       "    .dataframe tbody tr th {\n",
       "        vertical-align: top;\n",
       "    }\n",
       "\n",
       "    .dataframe thead th {\n",
       "        text-align: right;\n",
       "    }\n",
       "</style>\n",
       "<table border=\"1\" class=\"dataframe\">\n",
       "  <thead>\n",
       "    <tr style=\"text-align: right;\">\n",
       "      <th></th>\n",
       "      <th>Source</th>\n",
       "      <th>SS</th>\n",
       "      <th>DF</th>\n",
       "      <th>F</th>\n",
       "      <th>p-unc</th>\n",
       "      <th>n2</th>\n",
       "    </tr>\n",
       "  </thead>\n",
       "  <tbody>\n",
       "    <tr>\n",
       "      <th>0</th>\n",
       "      <td>group</td>\n",
       "      <td>1356.489295</td>\n",
       "      <td>2</td>\n",
       "      <td>0.899800</td>\n",
       "      <td>0.409705</td>\n",
       "      <td>0.016213</td>\n",
       "    </tr>\n",
       "    <tr>\n",
       "      <th>1</th>\n",
       "      <td>AGE_AT_VISIT</td>\n",
       "      <td>343.941416</td>\n",
       "      <td>1</td>\n",
       "      <td>0.456293</td>\n",
       "      <td>0.500819</td>\n",
       "      <td>0.004111</td>\n",
       "    </tr>\n",
       "    <tr>\n",
       "      <th>2</th>\n",
       "      <td>SEX</td>\n",
       "      <td>177.432844</td>\n",
       "      <td>1</td>\n",
       "      <td>0.235393</td>\n",
       "      <td>0.628545</td>\n",
       "      <td>0.002121</td>\n",
       "    </tr>\n",
       "    <tr>\n",
       "      <th>3</th>\n",
       "      <td>EDUCYRS</td>\n",
       "      <td>1133.359927</td>\n",
       "      <td>1</td>\n",
       "      <td>1.503583</td>\n",
       "      <td>0.222813</td>\n",
       "      <td>0.013546</td>\n",
       "    </tr>\n",
       "    <tr>\n",
       "      <th>4</th>\n",
       "      <td>Residual</td>\n",
       "      <td>80653.702327</td>\n",
       "      <td>107</td>\n",
       "      <td>NaN</td>\n",
       "      <td>NaN</td>\n",
       "      <td>NaN</td>\n",
       "    </tr>\n",
       "  </tbody>\n",
       "</table>\n",
       "</div>"
      ],
      "text/plain": [
       "         Source            SS   DF         F     p-unc        n2\n",
       "0         group   1356.489295    2  0.899800  0.409705  0.016213\n",
       "1  AGE_AT_VISIT    343.941416    1  0.456293  0.500819  0.004111\n",
       "2           SEX    177.432844    1  0.235393  0.628545  0.002121\n",
       "3       EDUCYRS   1133.359927    1  1.503583  0.222813  0.013546\n",
       "4      Residual  80653.702327  107       NaN       NaN       NaN"
      ]
     },
     "execution_count": 12,
     "metadata": {},
     "output_type": "execute_result"
    }
   ],
   "source": [
    "ancova(\n",
    "    data=viena_cohort,\n",
    "    dv=\"VIENA\",\n",
    "    covar=[\"AGE_AT_VISIT\", \"SEX\", \"EDUCYRS\"],\n",
    "    between=\"group\",\n",
    "    effsize=\"n2\",\n",
    ")\n"
   ]
  },
  {
   "cell_type": "code",
   "execution_count": 13,
   "metadata": {},
   "outputs": [
    {
     "name": "stdout",
     "output_type": "stream",
     "text": [
      " Multiple Comparison of Means - Tukey HSD, FWER=0.05 \n",
      "=====================================================\n",
      "group1 group2 meandiff p-adj   lower    upper  reject\n",
      "-----------------------------------------------------\n",
      "    hc pd-mci -11.3959  0.357 -31.0727  8.2809  False\n",
      "    hc  pd-nc  -7.4142 0.4121 -21.2258  6.3975  False\n",
      "pd-mci  pd-nc   3.9818 0.8614 -14.1881 22.1517  False\n",
      "-----------------------------------------------------\n"
     ]
    }
   ],
   "source": [
    "tukey = pairwise_tukeyhsd(\n",
    "    endog=viena_cohort[\"VIENA\"], groups=viena_cohort[\"group\"], alpha=0.05\n",
    ")\n",
    "print(tukey)\n"
   ]
  },
  {
   "cell_type": "code",
   "execution_count": 14,
   "metadata": {},
   "outputs": [
    {
     "data": {
      "image/png": "[encoded data removed]",
      "text/plain": [
       "<Figure size 640x480 with 1 Axes>"
      ]
     },
     "metadata": {},
     "output_type": "display_data"
    }
   ],
   "source": [
    "groups = [\"hc\", \"pd-nc\", \"pd-mci\"]\n",
    "plt.boxplot([viena_cohort[\"VIENA\"][viena_cohort[\"group\"] == g] for g in groups])\n",
    "plt.xticks(np.arange(len(groups)) + 1, groups)\n",
    "plt.ylabel(\"VIENA\")\n",
    "\n",
    "plt.show()\n"
   ]
  },
  {
   "cell_type": "code",
   "execution_count": 15,
   "metadata": {},
   "outputs": [
    {
     "data": {
      "image/png": "[encoded data removed]",
      "text/plain": [
       "<Figure size 640x480 with 1 Axes>"
      ]
     },
     "metadata": {},
     "output_type": "display_data"
    }
   ],
   "source": [
    "groups = [\"hc\", \"pd-nc\", \"pd-mci\"]\n",
    "plt.boxplot([viena_cohort[\"VIENA\"][viena_cohort[\"group\"] == g] for g in groups])\n",
    "plt.xticks(np.arange(len(groups)) + 1, groups)\n",
    "plt.ylabel(\"VIENA\")\n",
    "plt.ylim(-30, 30)\n",
    "\n",
    "plt.show()\n"
   ]
  },
  {
   "attachments": {},
   "cell_type": "markdown",
   "metadata": {},
   "source": [
    "## PD converters\n"
   ]
  },
  {
   "cell_type": "code",
   "execution_count": 16,
   "metadata": {},
   "outputs": [
    {
     "data": {
      "text/plain": [
       "PD_CONVERT\n",
       "converter     9\n",
       "stable       55\n",
       "dtype: int64"
      ]
     },
     "execution_count": 16,
     "metadata": {},
     "output_type": "execute_result"
    }
   ],
   "source": [
    "cohort.groupby(\"PD_CONVERT\").size()\n"
   ]
  },
  {
   "attachments": {},
   "cell_type": "markdown",
   "metadata": {},
   "source": [
    "### Whole-brain atrophy\n"
   ]
  },
  {
   "cell_type": "code",
   "execution_count": 17,
   "metadata": {},
   "outputs": [
    {
     "data": {
      "text/html": [
       "<div>\n",
       "<style scoped>\n",
       "    .dataframe tbody tr th:only-of-type {\n",
       "        vertical-align: middle;\n",
       "    }\n",
       "\n",
       "    .dataframe tbody tr th {\n",
       "        vertical-align: top;\n",
       "    }\n",
       "\n",
       "    .dataframe thead th {\n",
       "        text-align: right;\n",
       "    }\n",
       "</style>\n",
       "<table border=\"1\" class=\"dataframe\">\n",
       "  <thead>\n",
       "    <tr style=\"text-align: right;\">\n",
       "      <th></th>\n",
       "      <th>Source</th>\n",
       "      <th>SS</th>\n",
       "      <th>DF</th>\n",
       "      <th>F</th>\n",
       "      <th>p-unc</th>\n",
       "      <th>n2</th>\n",
       "    </tr>\n",
       "  </thead>\n",
       "  <tbody>\n",
       "    <tr>\n",
       "      <th>0</th>\n",
       "      <td>PD_CONVERT</td>\n",
       "      <td>10.217440</td>\n",
       "      <td>1</td>\n",
       "      <td>0.012233</td>\n",
       "      <td>0.912332</td>\n",
       "      <td>0.000217</td>\n",
       "    </tr>\n",
       "    <tr>\n",
       "      <th>1</th>\n",
       "      <td>AGE_AT_VISIT</td>\n",
       "      <td>66.088593</td>\n",
       "      <td>1</td>\n",
       "      <td>0.079129</td>\n",
       "      <td>0.779537</td>\n",
       "      <td>0.001403</td>\n",
       "    </tr>\n",
       "    <tr>\n",
       "      <th>2</th>\n",
       "      <td>SEX</td>\n",
       "      <td>0.275571</td>\n",
       "      <td>1</td>\n",
       "      <td>0.000330</td>\n",
       "      <td>0.985573</td>\n",
       "      <td>0.000006</td>\n",
       "    </tr>\n",
       "    <tr>\n",
       "      <th>3</th>\n",
       "      <td>EDUCYRS</td>\n",
       "      <td>2.914400</td>\n",
       "      <td>1</td>\n",
       "      <td>0.003489</td>\n",
       "      <td>0.953109</td>\n",
       "      <td>0.000062</td>\n",
       "    </tr>\n",
       "    <tr>\n",
       "      <th>4</th>\n",
       "      <td>NP3TOT</td>\n",
       "      <td>621.115039</td>\n",
       "      <td>1</td>\n",
       "      <td>0.743670</td>\n",
       "      <td>0.392232</td>\n",
       "      <td>0.013185</td>\n",
       "    </tr>\n",
       "    <tr>\n",
       "      <th>5</th>\n",
       "      <td>PDXDUR</td>\n",
       "      <td>470.314794</td>\n",
       "      <td>1</td>\n",
       "      <td>0.563115</td>\n",
       "      <td>0.456206</td>\n",
       "      <td>0.009984</td>\n",
       "    </tr>\n",
       "    <tr>\n",
       "      <th>6</th>\n",
       "      <td>Residual</td>\n",
       "      <td>45936.125852</td>\n",
       "      <td>55</td>\n",
       "      <td>NaN</td>\n",
       "      <td>NaN</td>\n",
       "      <td>NaN</td>\n",
       "    </tr>\n",
       "  </tbody>\n",
       "</table>\n",
       "</div>"
      ],
      "text/plain": [
       "         Source            SS  DF         F     p-unc        n2\n",
       "0    PD_CONVERT     10.217440   1  0.012233  0.912332  0.000217\n",
       "1  AGE_AT_VISIT     66.088593   1  0.079129  0.779537  0.001403\n",
       "2           SEX      0.275571   1  0.000330  0.985573  0.000006\n",
       "3       EDUCYRS      2.914400   1  0.003489  0.953109  0.000062\n",
       "4        NP3TOT    621.115039   1  0.743670  0.392232  0.013185\n",
       "5        PDXDUR    470.314794   1  0.563115  0.456206  0.009984\n",
       "6      Residual  45936.125852  55       NaN       NaN       NaN"
      ]
     },
     "execution_count": 17,
     "metadata": {},
     "output_type": "execute_result"
    }
   ],
   "source": [
    "ancova(\n",
    "    data=siena_cohort[siena_cohort[\"PD_CONVERT\"].notna()],\n",
    "    dv=\"VIENA\",\n",
    "    covar=[\"AGE_AT_VISIT\", \"SEX\", \"EDUCYRS\", \"NP3TOT\", \"PDXDUR\"],\n",
    "    between=\"PD_CONVERT\",\n",
    "    effsize=\"n2\",\n",
    ")\n"
   ]
  },
  {
   "cell_type": "code",
   "execution_count": 18,
   "metadata": {},
   "outputs": [
    {
     "name": "stdout",
     "output_type": "stream",
     "text": [
      " Multiple Comparison of Means - Tukey HSD, FWER=0.05  \n",
      "======================================================\n",
      "  group1  group2 meandiff p-adj   lower  upper  reject\n",
      "------------------------------------------------------\n",
      "converter stable  -0.7244 0.2882 -2.0762 0.6275  False\n",
      "------------------------------------------------------\n"
     ]
    }
   ],
   "source": [
    "tukey = pairwise_tukeyhsd(\n",
    "    endog=siena_cohort[siena_cohort[\"PD_CONVERT\"].notna()][\"SIENA\"],\n",
    "    groups=siena_cohort[siena_cohort[\"PD_CONVERT\"].notna()][\"PD_CONVERT\"],\n",
    "    alpha=0.05,\n",
    ")\n",
    "print(tukey)\n"
   ]
  },
  {
   "cell_type": "code",
   "execution_count": 19,
   "metadata": {},
   "outputs": [
    {
     "data": {
      "image/png": "[encoded data removed]",
      "text/plain": [
       "<Figure size 640x480 with 1 Axes>"
      ]
     },
     "metadata": {},
     "output_type": "display_data"
    }
   ],
   "source": [
    "groups = [\"converter\", \"stable\"]\n",
    "plt.boxplot([siena_cohort[\"SIENA\"][siena_cohort[\"PD_CONVERT\"] == g] for g in groups])\n",
    "plt.xticks(np.arange(len(groups)) + 1, groups)\n",
    "plt.ylabel(\"PBVC\")\n",
    "\n",
    "plt.show()\n"
   ]
  },
  {
   "attachments": {},
   "cell_type": "markdown",
   "metadata": {},
   "source": [
    "### Ventricular enlargement\n"
   ]
  },
  {
   "cell_type": "code",
   "execution_count": 20,
   "metadata": {},
   "outputs": [
    {
     "data": {
      "text/html": [
       "<div>\n",
       "<style scoped>\n",
       "    .dataframe tbody tr th:only-of-type {\n",
       "        vertical-align: middle;\n",
       "    }\n",
       "\n",
       "    .dataframe tbody tr th {\n",
       "        vertical-align: top;\n",
       "    }\n",
       "\n",
       "    .dataframe thead th {\n",
       "        text-align: right;\n",
       "    }\n",
       "</style>\n",
       "<table border=\"1\" class=\"dataframe\">\n",
       "  <thead>\n",
       "    <tr style=\"text-align: right;\">\n",
       "      <th></th>\n",
       "      <th>Source</th>\n",
       "      <th>SS</th>\n",
       "      <th>DF</th>\n",
       "      <th>F</th>\n",
       "      <th>p-unc</th>\n",
       "      <th>n2</th>\n",
       "    </tr>\n",
       "  </thead>\n",
       "  <tbody>\n",
       "    <tr>\n",
       "      <th>0</th>\n",
       "      <td>PD_CONVERT</td>\n",
       "      <td>4.632301</td>\n",
       "      <td>1</td>\n",
       "      <td>1.644911</td>\n",
       "      <td>0.205032</td>\n",
       "      <td>0.025255</td>\n",
       "    </tr>\n",
       "    <tr>\n",
       "      <th>1</th>\n",
       "      <td>AGE_AT_VISIT</td>\n",
       "      <td>3.675635</td>\n",
       "      <td>1</td>\n",
       "      <td>1.305203</td>\n",
       "      <td>0.258214</td>\n",
       "      <td>0.020039</td>\n",
       "    </tr>\n",
       "    <tr>\n",
       "      <th>2</th>\n",
       "      <td>SEX</td>\n",
       "      <td>0.086358</td>\n",
       "      <td>1</td>\n",
       "      <td>0.030665</td>\n",
       "      <td>0.861632</td>\n",
       "      <td>0.000471</td>\n",
       "    </tr>\n",
       "    <tr>\n",
       "      <th>3</th>\n",
       "      <td>EDUCYRS</td>\n",
       "      <td>0.822765</td>\n",
       "      <td>1</td>\n",
       "      <td>0.292161</td>\n",
       "      <td>0.591022</td>\n",
       "      <td>0.004486</td>\n",
       "    </tr>\n",
       "    <tr>\n",
       "      <th>4</th>\n",
       "      <td>NP3TOT</td>\n",
       "      <td>16.913303</td>\n",
       "      <td>1</td>\n",
       "      <td>6.005846</td>\n",
       "      <td>0.017467</td>\n",
       "      <td>0.092209</td>\n",
       "    </tr>\n",
       "    <tr>\n",
       "      <th>5</th>\n",
       "      <td>PDXDUR</td>\n",
       "      <td>2.404525</td>\n",
       "      <td>1</td>\n",
       "      <td>0.853837</td>\n",
       "      <td>0.359505</td>\n",
       "      <td>0.013109</td>\n",
       "    </tr>\n",
       "    <tr>\n",
       "      <th>6</th>\n",
       "      <td>Residual</td>\n",
       "      <td>154.887696</td>\n",
       "      <td>55</td>\n",
       "      <td>NaN</td>\n",
       "      <td>NaN</td>\n",
       "      <td>NaN</td>\n",
       "    </tr>\n",
       "  </tbody>\n",
       "</table>\n",
       "</div>"
      ],
      "text/plain": [
       "         Source          SS  DF         F     p-unc        n2\n",
       "0    PD_CONVERT    4.632301   1  1.644911  0.205032  0.025255\n",
       "1  AGE_AT_VISIT    3.675635   1  1.305203  0.258214  0.020039\n",
       "2           SEX    0.086358   1  0.030665  0.861632  0.000471\n",
       "3       EDUCYRS    0.822765   1  0.292161  0.591022  0.004486\n",
       "4        NP3TOT   16.913303   1  6.005846  0.017467  0.092209\n",
       "5        PDXDUR    2.404525   1  0.853837  0.359505  0.013109\n",
       "6      Residual  154.887696  55       NaN       NaN       NaN"
      ]
     },
     "execution_count": 20,
     "metadata": {},
     "output_type": "execute_result"
    }
   ],
   "source": [
    "ancova(\n",
    "    data=siena_cohort[siena_cohort[\"PD_CONVERT\"].notna()],\n",
    "    dv=\"SIENA\",\n",
    "    covar=[\"AGE_AT_VISIT\", \"SEX\", \"EDUCYRS\", \"NP3TOT\", \"PDXDUR\"],\n",
    "    between=\"PD_CONVERT\",\n",
    "    effsize=\"n2\",\n",
    ")\n"
   ]
  },
  {
   "cell_type": "code",
   "execution_count": 21,
   "metadata": {},
   "outputs": [
    {
     "name": "stdout",
     "output_type": "stream",
     "text": [
      "  Multiple Comparison of Means - Tukey HSD, FWER=0.05   \n",
      "========================================================\n",
      "  group1  group2 meandiff p-adj   lower    upper  reject\n",
      "--------------------------------------------------------\n",
      "converter stable   0.1881 0.9858 -20.8519 21.2282  False\n",
      "--------------------------------------------------------\n"
     ]
    }
   ],
   "source": [
    "tukey = pairwise_tukeyhsd(\n",
    "    endog=viena_cohort[viena_cohort[\"PD_CONVERT\"].notna()][\"VIENA\"],\n",
    "    groups=viena_cohort[viena_cohort[\"PD_CONVERT\"].notna()][\"PD_CONVERT\"],\n",
    "    alpha=0.05,\n",
    ")\n",
    "print(tukey)\n"
   ]
  },
  {
   "cell_type": "code",
   "execution_count": 22,
   "metadata": {},
   "outputs": [
    {
     "data": {
      "image/png": "[encoded data removed]",
      "text/plain": [
       "<Figure size 640x480 with 1 Axes>"
      ]
     },
     "metadata": {},
     "output_type": "display_data"
    }
   ],
   "source": [
    "groups = [\"converter\", \"stable\"]\n",
    "plt.boxplot([viena_cohort[\"VIENA\"][viena_cohort[\"PD_CONVERT\"] == g] for g in groups])\n",
    "plt.xticks(np.arange(len(groups)) + 1, groups)\n",
    "plt.ylabel(\"VIENA\")\n",
    "\n",
    "plt.show()\n"
   ]
  },
  {
   "cell_type": "code",
   "execution_count": 23,
   "metadata": {},
   "outputs": [
    {
     "data": {
      "image/png": "[encoded data removed]",
      "text/plain": [
       "<Figure size 640x480 with 1 Axes>"
      ]
     },
     "metadata": {},
     "output_type": "display_data"
    }
   ],
   "source": [
    "groups = [\"converter\", \"stable\"]\n",
    "plt.boxplot([viena_cohort[\"VIENA\"][viena_cohort[\"PD_CONVERT\"] == g] for g in groups])\n",
    "plt.xticks(np.arange(len(groups)) + 1, groups)\n",
    "plt.ylabel(\"VIENA\")\n",
    "plt.ylim(-12, 22)\n",
    "\n",
    "plt.show()\n"
   ]
  },
  {
   "attachments": {},
   "cell_type": "markdown",
   "metadata": {},
   "source": [
    "# Correlations of imaging outcome measures with clinical and cognitive functions\n"
   ]
  },
  {
   "cell_type": "code",
   "execution_count": 24,
   "metadata": {},
   "outputs": [],
   "source": [
    "from pingouin import partial_corr"
   ]
  },
  {
   "attachments": {},
   "cell_type": "markdown",
   "metadata": {},
   "source": [
    "## PBVC"
   ]
  },
  {
   "attachments": {},
   "cell_type": "markdown",
   "metadata": {},
   "source": [
    "### MoCA"
   ]
  },
  {
   "cell_type": "code",
   "execution_count": 25,
   "metadata": {},
   "outputs": [
    {
     "data": {
      "text/html": [
       "<div>\n",
       "<style scoped>\n",
       "    .dataframe tbody tr th:only-of-type {\n",
       "        vertical-align: middle;\n",
       "    }\n",
       "\n",
       "    .dataframe tbody tr th {\n",
       "        vertical-align: top;\n",
       "    }\n",
       "\n",
       "    .dataframe thead th {\n",
       "        text-align: right;\n",
       "    }\n",
       "</style>\n",
       "<table border=\"1\" class=\"dataframe\">\n",
       "  <thead>\n",
       "    <tr style=\"text-align: right;\">\n",
       "      <th></th>\n",
       "      <th>n</th>\n",
       "      <th>r</th>\n",
       "      <th>CI95%</th>\n",
       "      <th>p-val</th>\n",
       "    </tr>\n",
       "  </thead>\n",
       "  <tbody>\n",
       "    <tr>\n",
       "      <th>pearson</th>\n",
       "      <td>78</td>\n",
       "      <td>-0.012693</td>\n",
       "      <td>[-0.24, 0.21]</td>\n",
       "      <td>0.913931</td>\n",
       "    </tr>\n",
       "  </tbody>\n",
       "</table>\n",
       "</div>"
      ],
      "text/plain": [
       "          n         r          CI95%     p-val\n",
       "pearson  78 -0.012693  [-0.24, 0.21]  0.913931"
      ]
     },
     "execution_count": 25,
     "metadata": {},
     "output_type": "execute_result"
    }
   ],
   "source": [
    "partial_corr(\n",
    "    data=siena_cohort[siena_cohort[\"COHORT\"] == 1],\n",
    "    x=\"SIENA\",\n",
    "    y=\"MCATOT\",\n",
    "    covar=[\"AGE_AT_VISIT\", \"SEX\", \"LEDD\"],\n",
    ")\n"
   ]
  },
  {
   "cell_type": "code",
   "execution_count": 26,
   "metadata": {},
   "outputs": [
    {
     "data": {
      "text/html": [
       "<div>\n",
       "<style scoped>\n",
       "    .dataframe tbody tr th:only-of-type {\n",
       "        vertical-align: middle;\n",
       "    }\n",
       "\n",
       "    .dataframe tbody tr th {\n",
       "        vertical-align: top;\n",
       "    }\n",
       "\n",
       "    .dataframe thead th {\n",
       "        text-align: right;\n",
       "    }\n",
       "</style>\n",
       "<table border=\"1\" class=\"dataframe\">\n",
       "  <thead>\n",
       "    <tr style=\"text-align: right;\">\n",
       "      <th></th>\n",
       "      <th>n</th>\n",
       "      <th>r</th>\n",
       "      <th>CI95%</th>\n",
       "      <th>p-val</th>\n",
       "    </tr>\n",
       "  </thead>\n",
       "  <tbody>\n",
       "    <tr>\n",
       "      <th>pearson</th>\n",
       "      <td>79</td>\n",
       "      <td>-0.081055</td>\n",
       "      <td>[-0.3, 0.15]</td>\n",
       "      <td>0.486392</td>\n",
       "    </tr>\n",
       "  </tbody>\n",
       "</table>\n",
       "</div>"
      ],
      "text/plain": [
       "          n         r         CI95%     p-val\n",
       "pearson  79 -0.081055  [-0.3, 0.15]  0.486392"
      ]
     },
     "execution_count": 26,
     "metadata": {},
     "output_type": "execute_result"
    }
   ],
   "source": [
    "partial_corr(\n",
    "    data=siena_cohort[siena_cohort[\"COHORT\"] == 1],\n",
    "    x=\"SIENA\",\n",
    "    y=\"MCATOT_NX\",\n",
    "    covar=[\"AGE_AT_VISIT\", \"SEX\", \"LEDD\"],\n",
    ")"
   ]
  },
  {
   "cell_type": "code",
   "execution_count": 27,
   "metadata": {},
   "outputs": [
    {
     "data": {
      "text/html": [
       "<div>\n",
       "<style scoped>\n",
       "    .dataframe tbody tr th:only-of-type {\n",
       "        vertical-align: middle;\n",
       "    }\n",
       "\n",
       "    .dataframe tbody tr th {\n",
       "        vertical-align: top;\n",
       "    }\n",
       "\n",
       "    .dataframe thead th {\n",
       "        text-align: right;\n",
       "    }\n",
       "</style>\n",
       "<table border=\"1\" class=\"dataframe\">\n",
       "  <thead>\n",
       "    <tr style=\"text-align: right;\">\n",
       "      <th></th>\n",
       "      <th>n</th>\n",
       "      <th>r</th>\n",
       "      <th>CI95%</th>\n",
       "      <th>p-val</th>\n",
       "    </tr>\n",
       "  </thead>\n",
       "  <tbody>\n",
       "    <tr>\n",
       "      <th>pearson</th>\n",
       "      <td>78</td>\n",
       "      <td>-0.066529</td>\n",
       "      <td>[-0.29, 0.16]</td>\n",
       "      <td>0.570639</td>\n",
       "    </tr>\n",
       "  </tbody>\n",
       "</table>\n",
       "</div>"
      ],
      "text/plain": [
       "          n         r          CI95%     p-val\n",
       "pearson  78 -0.066529  [-0.29, 0.16]  0.570639"
      ]
     },
     "execution_count": 27,
     "metadata": {},
     "output_type": "execute_result"
    }
   ],
   "source": [
    "partial_corr(\n",
    "    data=siena_cohort[siena_cohort[\"COHORT\"] == 1],\n",
    "    x=\"SIENA\",\n",
    "    y=\"MOCA_PERC_CHANGE\",\n",
    "    covar=[\"AGE_AT_VISIT\", \"SEX\", \"LEDD\"],\n",
    ")"
   ]
  },
  {
   "attachments": {},
   "cell_type": "markdown",
   "metadata": {},
   "source": [
    "### UPDRS3"
   ]
  },
  {
   "cell_type": "code",
   "execution_count": 28,
   "metadata": {},
   "outputs": [
    {
     "data": {
      "text/html": [
       "<div>\n",
       "<style scoped>\n",
       "    .dataframe tbody tr th:only-of-type {\n",
       "        vertical-align: middle;\n",
       "    }\n",
       "\n",
       "    .dataframe tbody tr th {\n",
       "        vertical-align: top;\n",
       "    }\n",
       "\n",
       "    .dataframe thead th {\n",
       "        text-align: right;\n",
       "    }\n",
       "</style>\n",
       "<table border=\"1\" class=\"dataframe\">\n",
       "  <thead>\n",
       "    <tr style=\"text-align: right;\">\n",
       "      <th></th>\n",
       "      <th>n</th>\n",
       "      <th>r</th>\n",
       "      <th>CI95%</th>\n",
       "      <th>p-val</th>\n",
       "    </tr>\n",
       "  </thead>\n",
       "  <tbody>\n",
       "    <tr>\n",
       "      <th>pearson</th>\n",
       "      <td>78</td>\n",
       "      <td>0.270692</td>\n",
       "      <td>[0.05, 0.47]</td>\n",
       "      <td>0.018828</td>\n",
       "    </tr>\n",
       "  </tbody>\n",
       "</table>\n",
       "</div>"
      ],
      "text/plain": [
       "          n         r         CI95%     p-val\n",
       "pearson  78  0.270692  [0.05, 0.47]  0.018828"
      ]
     },
     "execution_count": 28,
     "metadata": {},
     "output_type": "execute_result"
    }
   ],
   "source": [
    "partial_corr(\n",
    "    data=siena_cohort[siena_cohort[\"COHORT\"] == 1],\n",
    "    x=\"SIENA\",\n",
    "    y=\"NP3TOT\",\n",
    "    covar=[\"AGE_AT_VISIT\", \"SEX\", \"LEDD\"],\n",
    ")\n"
   ]
  },
  {
   "cell_type": "code",
   "execution_count": 29,
   "metadata": {},
   "outputs": [
    {
     "data": {
      "text/html": [
       "<div>\n",
       "<style scoped>\n",
       "    .dataframe tbody tr th:only-of-type {\n",
       "        vertical-align: middle;\n",
       "    }\n",
       "\n",
       "    .dataframe tbody tr th {\n",
       "        vertical-align: top;\n",
       "    }\n",
       "\n",
       "    .dataframe thead th {\n",
       "        text-align: right;\n",
       "    }\n",
       "</style>\n",
       "<table border=\"1\" class=\"dataframe\">\n",
       "  <thead>\n",
       "    <tr style=\"text-align: right;\">\n",
       "      <th></th>\n",
       "      <th>n</th>\n",
       "      <th>r</th>\n",
       "      <th>CI95%</th>\n",
       "      <th>p-val</th>\n",
       "    </tr>\n",
       "  </thead>\n",
       "  <tbody>\n",
       "    <tr>\n",
       "      <th>pearson</th>\n",
       "      <td>79</td>\n",
       "      <td>0.315248</td>\n",
       "      <td>[0.1, 0.5]</td>\n",
       "      <td>0.00554</td>\n",
       "    </tr>\n",
       "  </tbody>\n",
       "</table>\n",
       "</div>"
      ],
      "text/plain": [
       "          n         r       CI95%    p-val\n",
       "pearson  79  0.315248  [0.1, 0.5]  0.00554"
      ]
     },
     "execution_count": 29,
     "metadata": {},
     "output_type": "execute_result"
    }
   ],
   "source": [
    "partial_corr(\n",
    "    data=siena_cohort[siena_cohort[\"COHORT\"] == 1],\n",
    "    x=\"SIENA\",\n",
    "    y=\"NP3TOT_NX\",\n",
    "    covar=[\"AGE_AT_VISIT\", \"SEX\", \"LEDD\"],\n",
    ")"
   ]
  },
  {
   "cell_type": "code",
   "execution_count": 30,
   "metadata": {},
   "outputs": [
    {
     "data": {
      "text/html": [
       "<div>\n",
       "<style scoped>\n",
       "    .dataframe tbody tr th:only-of-type {\n",
       "        vertical-align: middle;\n",
       "    }\n",
       "\n",
       "    .dataframe tbody tr th {\n",
       "        vertical-align: top;\n",
       "    }\n",
       "\n",
       "    .dataframe thead th {\n",
       "        text-align: right;\n",
       "    }\n",
       "</style>\n",
       "<table border=\"1\" class=\"dataframe\">\n",
       "  <thead>\n",
       "    <tr style=\"text-align: right;\">\n",
       "      <th></th>\n",
       "      <th>n</th>\n",
       "      <th>r</th>\n",
       "      <th>CI95%</th>\n",
       "      <th>p-val</th>\n",
       "    </tr>\n",
       "  </thead>\n",
       "  <tbody>\n",
       "    <tr>\n",
       "      <th>pearson</th>\n",
       "      <td>78</td>\n",
       "      <td>-0.075234</td>\n",
       "      <td>[-0.3, 0.15]</td>\n",
       "      <td>0.521188</td>\n",
       "    </tr>\n",
       "  </tbody>\n",
       "</table>\n",
       "</div>"
      ],
      "text/plain": [
       "          n         r         CI95%     p-val\n",
       "pearson  78 -0.075234  [-0.3, 0.15]  0.521188"
      ]
     },
     "execution_count": 30,
     "metadata": {},
     "output_type": "execute_result"
    }
   ],
   "source": [
    "partial_corr(\n",
    "    data=siena_cohort[siena_cohort[\"COHORT\"] == 1],\n",
    "    x=\"SIENA\",\n",
    "    y=\"UPDRS3_PERC_CHANGE\",\n",
    "    covar=[\"AGE_AT_VISIT\", \"SEX\", \"LEDD\"],\n",
    ")"
   ]
  },
  {
   "attachments": {},
   "cell_type": "markdown",
   "metadata": {},
   "source": [
    "## Ventricular enlargement\n"
   ]
  },
  {
   "cell_type": "markdown",
   "metadata": {},
   "source": [
    "### MoCA"
   ]
  },
  {
   "cell_type": "code",
   "execution_count": 31,
   "metadata": {},
   "outputs": [
    {
     "data": {
      "text/html": [
       "<div>\n",
       "<style scoped>\n",
       "    .dataframe tbody tr th:only-of-type {\n",
       "        vertical-align: middle;\n",
       "    }\n",
       "\n",
       "    .dataframe tbody tr th {\n",
       "        vertical-align: top;\n",
       "    }\n",
       "\n",
       "    .dataframe thead th {\n",
       "        text-align: right;\n",
       "    }\n",
       "</style>\n",
       "<table border=\"1\" class=\"dataframe\">\n",
       "  <thead>\n",
       "    <tr style=\"text-align: right;\">\n",
       "      <th></th>\n",
       "      <th>n</th>\n",
       "      <th>r</th>\n",
       "      <th>CI95%</th>\n",
       "      <th>p-val</th>\n",
       "    </tr>\n",
       "  </thead>\n",
       "  <tbody>\n",
       "    <tr>\n",
       "      <th>pearson</th>\n",
       "      <td>78</td>\n",
       "      <td>-0.085392</td>\n",
       "      <td>[-0.31, 0.14]</td>\n",
       "      <td>0.466349</td>\n",
       "    </tr>\n",
       "  </tbody>\n",
       "</table>\n",
       "</div>"
      ],
      "text/plain": [
       "          n         r          CI95%     p-val\n",
       "pearson  78 -0.085392  [-0.31, 0.14]  0.466349"
      ]
     },
     "execution_count": 31,
     "metadata": {},
     "output_type": "execute_result"
    }
   ],
   "source": [
    "partial_corr(\n",
    "    data=viena_cohort[viena_cohort[\"COHORT\"] == 1],\n",
    "    x=\"VIENA\",\n",
    "    y=\"MCATOT\",\n",
    "    covar=[\"AGE_AT_VISIT\", \"SEX\", \"LEDD\"],\n",
    ")\n"
   ]
  },
  {
   "cell_type": "code",
   "execution_count": 32,
   "metadata": {},
   "outputs": [
    {
     "data": {
      "text/html": [
       "<div>\n",
       "<style scoped>\n",
       "    .dataframe tbody tr th:only-of-type {\n",
       "        vertical-align: middle;\n",
       "    }\n",
       "\n",
       "    .dataframe tbody tr th {\n",
       "        vertical-align: top;\n",
       "    }\n",
       "\n",
       "    .dataframe thead th {\n",
       "        text-align: right;\n",
       "    }\n",
       "</style>\n",
       "<table border=\"1\" class=\"dataframe\">\n",
       "  <thead>\n",
       "    <tr style=\"text-align: right;\">\n",
       "      <th></th>\n",
       "      <th>n</th>\n",
       "      <th>r</th>\n",
       "      <th>CI95%</th>\n",
       "      <th>p-val</th>\n",
       "    </tr>\n",
       "  </thead>\n",
       "  <tbody>\n",
       "    <tr>\n",
       "      <th>pearson</th>\n",
       "      <td>79</td>\n",
       "      <td>0.041574</td>\n",
       "      <td>[-0.19, 0.26]</td>\n",
       "      <td>0.721403</td>\n",
       "    </tr>\n",
       "  </tbody>\n",
       "</table>\n",
       "</div>"
      ],
      "text/plain": [
       "          n         r          CI95%     p-val\n",
       "pearson  79  0.041574  [-0.19, 0.26]  0.721403"
      ]
     },
     "execution_count": 32,
     "metadata": {},
     "output_type": "execute_result"
    }
   ],
   "source": [
    "partial_corr(\n",
    "    data=viena_cohort[viena_cohort[\"COHORT\"] == 1],\n",
    "    x=\"VIENA\",\n",
    "    y=\"MCATOT_NX\",\n",
    "    covar=[\"AGE_AT_VISIT\", \"SEX\", \"LEDD\"],\n",
    ")"
   ]
  },
  {
   "cell_type": "code",
   "execution_count": 33,
   "metadata": {},
   "outputs": [
    {
     "data": {
      "text/html": [
       "<div>\n",
       "<style scoped>\n",
       "    .dataframe tbody tr th:only-of-type {\n",
       "        vertical-align: middle;\n",
       "    }\n",
       "\n",
       "    .dataframe tbody tr th {\n",
       "        vertical-align: top;\n",
       "    }\n",
       "\n",
       "    .dataframe thead th {\n",
       "        text-align: right;\n",
       "    }\n",
       "</style>\n",
       "<table border=\"1\" class=\"dataframe\">\n",
       "  <thead>\n",
       "    <tr style=\"text-align: right;\">\n",
       "      <th></th>\n",
       "      <th>n</th>\n",
       "      <th>r</th>\n",
       "      <th>CI95%</th>\n",
       "      <th>p-val</th>\n",
       "    </tr>\n",
       "  </thead>\n",
       "  <tbody>\n",
       "    <tr>\n",
       "      <th>pearson</th>\n",
       "      <td>78</td>\n",
       "      <td>0.116317</td>\n",
       "      <td>[-0.11, 0.33]</td>\n",
       "      <td>0.320325</td>\n",
       "    </tr>\n",
       "  </tbody>\n",
       "</table>\n",
       "</div>"
      ],
      "text/plain": [
       "          n         r          CI95%     p-val\n",
       "pearson  78  0.116317  [-0.11, 0.33]  0.320325"
      ]
     },
     "execution_count": 33,
     "metadata": {},
     "output_type": "execute_result"
    }
   ],
   "source": [
    "partial_corr(\n",
    "    data=viena_cohort[viena_cohort[\"COHORT\"] == 1],\n",
    "    x=\"VIENA\",\n",
    "    y=\"MOCA_PERC_CHANGE\",\n",
    "    covar=[\"AGE_AT_VISIT\", \"SEX\", \"LEDD\"],\n",
    ")"
   ]
  },
  {
   "attachments": {},
   "cell_type": "markdown",
   "metadata": {},
   "source": [
    "### UPDRS3"
   ]
  },
  {
   "cell_type": "code",
   "execution_count": 34,
   "metadata": {},
   "outputs": [
    {
     "data": {
      "text/html": [
       "<div>\n",
       "<style scoped>\n",
       "    .dataframe tbody tr th:only-of-type {\n",
       "        vertical-align: middle;\n",
       "    }\n",
       "\n",
       "    .dataframe tbody tr th {\n",
       "        vertical-align: top;\n",
       "    }\n",
       "\n",
       "    .dataframe thead th {\n",
       "        text-align: right;\n",
       "    }\n",
       "</style>\n",
       "<table border=\"1\" class=\"dataframe\">\n",
       "  <thead>\n",
       "    <tr style=\"text-align: right;\">\n",
       "      <th></th>\n",
       "      <th>n</th>\n",
       "      <th>r</th>\n",
       "      <th>CI95%</th>\n",
       "      <th>p-val</th>\n",
       "    </tr>\n",
       "  </thead>\n",
       "  <tbody>\n",
       "    <tr>\n",
       "      <th>pearson</th>\n",
       "      <td>78</td>\n",
       "      <td>-0.116959</td>\n",
       "      <td>[-0.34, 0.11]</td>\n",
       "      <td>0.317643</td>\n",
       "    </tr>\n",
       "  </tbody>\n",
       "</table>\n",
       "</div>"
      ],
      "text/plain": [
       "          n         r          CI95%     p-val\n",
       "pearson  78 -0.116959  [-0.34, 0.11]  0.317643"
      ]
     },
     "execution_count": 34,
     "metadata": {},
     "output_type": "execute_result"
    }
   ],
   "source": [
    "partial_corr(\n",
    "    data=viena_cohort[viena_cohort[\"COHORT\"] == 1],\n",
    "    x=\"VIENA\",\n",
    "    y=\"NP3TOT\",\n",
    "    covar=[\"AGE_AT_VISIT\", \"SEX\", \"LEDD\"],\n",
    ")\n"
   ]
  },
  {
   "cell_type": "code",
   "execution_count": 35,
   "metadata": {},
   "outputs": [
    {
     "data": {
      "text/html": [
       "<div>\n",
       "<style scoped>\n",
       "    .dataframe tbody tr th:only-of-type {\n",
       "        vertical-align: middle;\n",
       "    }\n",
       "\n",
       "    .dataframe tbody tr th {\n",
       "        vertical-align: top;\n",
       "    }\n",
       "\n",
       "    .dataframe thead th {\n",
       "        text-align: right;\n",
       "    }\n",
       "</style>\n",
       "<table border=\"1\" class=\"dataframe\">\n",
       "  <thead>\n",
       "    <tr style=\"text-align: right;\">\n",
       "      <th></th>\n",
       "      <th>n</th>\n",
       "      <th>r</th>\n",
       "      <th>CI95%</th>\n",
       "      <th>p-val</th>\n",
       "    </tr>\n",
       "  </thead>\n",
       "  <tbody>\n",
       "    <tr>\n",
       "      <th>pearson</th>\n",
       "      <td>79</td>\n",
       "      <td>-0.022235</td>\n",
       "      <td>[-0.25, 0.2]</td>\n",
       "      <td>0.8488</td>\n",
       "    </tr>\n",
       "  </tbody>\n",
       "</table>\n",
       "</div>"
      ],
      "text/plain": [
       "          n         r         CI95%   p-val\n",
       "pearson  79 -0.022235  [-0.25, 0.2]  0.8488"
      ]
     },
     "execution_count": 35,
     "metadata": {},
     "output_type": "execute_result"
    }
   ],
   "source": [
    "partial_corr(\n",
    "    data=viena_cohort[viena_cohort[\"COHORT\"] == 1],\n",
    "    x=\"VIENA\",\n",
    "    y=\"NP3TOT_NX\",\n",
    "    covar=[\"AGE_AT_VISIT\", \"SEX\", \"LEDD\"],\n",
    ")"
   ]
  },
  {
   "cell_type": "code",
   "execution_count": 36,
   "metadata": {},
   "outputs": [
    {
     "data": {
      "text/html": [
       "<div>\n",
       "<style scoped>\n",
       "    .dataframe tbody tr th:only-of-type {\n",
       "        vertical-align: middle;\n",
       "    }\n",
       "\n",
       "    .dataframe tbody tr th {\n",
       "        vertical-align: top;\n",
       "    }\n",
       "\n",
       "    .dataframe thead th {\n",
       "        text-align: right;\n",
       "    }\n",
       "</style>\n",
       "<table border=\"1\" class=\"dataframe\">\n",
       "  <thead>\n",
       "    <tr style=\"text-align: right;\">\n",
       "      <th></th>\n",
       "      <th>n</th>\n",
       "      <th>r</th>\n",
       "      <th>CI95%</th>\n",
       "      <th>p-val</th>\n",
       "    </tr>\n",
       "  </thead>\n",
       "  <tbody>\n",
       "    <tr>\n",
       "      <th>pearson</th>\n",
       "      <td>78</td>\n",
       "      <td>0.111601</td>\n",
       "      <td>[-0.12, 0.33]</td>\n",
       "      <td>0.340468</td>\n",
       "    </tr>\n",
       "  </tbody>\n",
       "</table>\n",
       "</div>"
      ],
      "text/plain": [
       "          n         r          CI95%     p-val\n",
       "pearson  78  0.111601  [-0.12, 0.33]  0.340468"
      ]
     },
     "execution_count": 36,
     "metadata": {},
     "output_type": "execute_result"
    }
   ],
   "source": [
    "partial_corr(\n",
    "    data=viena_cohort[viena_cohort[\"COHORT\"] == 1],\n",
    "    x=\"VIENA\",\n",
    "    y=\"UPDRS3_PERC_CHANGE\",\n",
    "    covar=[\"AGE_AT_VISIT\", \"SEX\", \"LEDD\"],\n",
    ")"
   ]
  }
 ],
 "metadata": {
  "kernelspec": {
   "display_name": "mak-etal",
   "language": "python",
   "name": "python3"
  },
  "language_info": {
   "codemirror_mode": {
    "name": "ipython",
    "version": 3
   },
   "file_extension": ".py",
   "mimetype": "text/x-python",
   "name": "python",
   "nbconvert_exporter": "python",
   "pygments_lexer": "ipython3",
   "version": "3.10.8"
  },
  "orig_nbformat": 4
 },
 "nbformat": 4,
 "nbformat_minor": 2
}
