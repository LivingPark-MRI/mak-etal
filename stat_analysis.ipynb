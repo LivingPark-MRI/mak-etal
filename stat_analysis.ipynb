{
 "cells": [
  {
   "cell_type": "code",
   "execution_count": 1,
   "metadata": {},
   "outputs": [],
   "source": [
    "import pandas as pd\n",
    "\n",
    "\n",
    "cohort_file = \"mak-etal-2017-mixed-2630194534343638755.csv\"\n",
    "cohort = pd.read_csv(cohort_file)\n",
    "\n",
    "# Remove duplicate subject visits (i.e. only keep baseline visits)\n",
    "cohort = cohort[cohort[\"MRI_ID\"].str.contains(\"Baseline\")]\n"
   ]
  },
  {
   "cell_type": "code",
   "execution_count": 2,
   "metadata": {},
   "outputs": [],
   "source": [
    "import numpy as np\n",
    "\n",
    "cohort[\"Study Date\"] = pd.to_datetime(cohort[\"Study Date\"])\n",
    "cohort[\"Study Date_NX\"] = pd.to_datetime(cohort[\"Study Date_NX\"])\n",
    "cohort[\"time_diff\"] = (cohort[\"Study Date_NX\"] - cohort[\"Study Date\"]) / np.timedelta64(\n",
    "    1, \"D\"\n",
    ")\n"
   ]
  },
  {
   "cell_type": "code",
   "execution_count": 3,
   "metadata": {},
   "outputs": [],
   "source": [
    "from pathlib import Path\n",
    "import re\n",
    "\n",
    "\n",
    "def get_siena_results(patno: int):\n",
    "    with Path(\"outputs\", \"fsl_siena\", str(patno), \"report.siena\").open() as fin:\n",
    "        return float(\n",
    "            re.search(\"finalPBVC (?P<result>.*) %\", fin.read()).groupdict()[\"result\"]\n",
    "        )\n",
    "\n",
    "\n",
    "def get_viena_results(patno: int, debug: bool = False):\n",
    "    with Path(\"outputs\", \"fsl_siena\", str(patno), \"report.viena\").open() as fin:\n",
    "        try:\n",
    "            return float(\n",
    "                re.search(\"finalPVVC (?P<result>.*) %\", fin.read()).groupdict()[\n",
    "                    \"result\"\n",
    "                ]\n",
    "            )\n",
    "        except:\n",
    "            if debug:\n",
    "                print(f\"[ERROR]: Cannot retrieve VIENA results for patient: {patno}\")\n",
    "            return None\n"
   ]
  },
  {
   "cell_type": "code",
   "execution_count": 4,
   "metadata": {},
   "outputs": [],
   "source": [
    "def pretty_df(df, subset=None, p=0.05, rounding=3):\n",
    "    def _style(x):\n",
    "        try:\n",
    "            if x <= p:\n",
    "                return \"color: red\"\n",
    "            return None\n",
    "        except Exception:\n",
    "            return None\n",
    "\n",
    "    return df.round(rounding).style.applymap(lambda x: _style(x), subset=subset)\n"
   ]
  },
  {
   "attachments": {},
   "cell_type": "markdown",
   "metadata": {},
   "source": [
    "# Comparisons of percentage brain volume change and ventricular enlargement\n"
   ]
  },
  {
   "cell_type": "code",
   "execution_count": 5,
   "metadata": {},
   "outputs": [],
   "source": [
    "from pingouin import ancova, ttest\n",
    "from statsmodels.stats.multicomp import pairwise_tukeyhsd\n"
   ]
  },
  {
   "cell_type": "code",
   "execution_count": 6,
   "metadata": {},
   "outputs": [],
   "source": [
    "# cohort[\"PATNO\"].map(lambda x: get_viena_results(x, debug=True))\n",
    "cohort[\"SIENA\"] = cohort[\"PATNO\"].map(get_siena_results)\n",
    "cohort[\"VIENA\"] = cohort[\"PATNO\"].map(get_viena_results)\n",
    "\n",
    "# Find PD converters and stables\n",
    "cohort.loc[\n",
    "    (cohort[\"COGSTATE\"] == 1) & (cohort[\"COGSTATE_NX\"] == 1), \"PD_CONVERT\"\n",
    "] = \"stable\"\n",
    "cohort.loc[\n",
    "    (cohort[\"COGSTATE\"] == 1) & (cohort[\"COGSTATE_NX\"] == 2), \"PD_CONVERT\"\n",
    "] = \"converter\"\n",
    "\n",
    "# Percentage of change for MoCA and UPDRS3\n",
    "cohort[\"MOCA_PERC_CHANGE\"] = (\n",
    "    (cohort[\"MCATOT_NX\"] - cohort[\"MCATOT\"])\n",
    "    / cohort[\"MCATOT\"].abs()\n",
    "    * 100\n",
    "    / cohort[\"time_diff\"]\n",
    ")\n",
    "cohort[\"UPDRS3_PERC_CHANGE\"] = (\n",
    "    (cohort[\"NP3TOT_NX\"] - cohort[\"NP3TOT\"])\n",
    "    / cohort[\"NP3TOT\"].abs()\n",
    "    * 100\n",
    "    / cohort[\"time_diff\"]\n",
    ")\n"
   ]
  },
  {
   "cell_type": "code",
   "execution_count": 7,
   "metadata": {},
   "outputs": [],
   "source": [
    "# Exclude patients with failed VIENA preprocessing\n",
    "from livingpark_utils.ignore import add_ignored\n",
    "\n",
    "add_ignored(cohort[cohort[\"VIENA\"].isna()], ignore_file=\".ppmiignore\")\n"
   ]
  },
  {
   "cell_type": "code",
   "execution_count": 8,
   "metadata": {},
   "outputs": [
    {
     "name": "stdout",
     "output_type": "stream",
     "text": [
      "Removed 8 cohort due to QC.\n"
     ]
    }
   ],
   "source": [
    "initial_size = len(cohort)\n",
    "# For now remove subject that failed VIENA preprocessing\n",
    "cohort = cohort[cohort[\"VIENA\"].notna()]\n",
    "# Exclude SIENA and VIENA outliers\n",
    "cohort = cohort[\n",
    "    (-8 < cohort[\"SIENA\"])\n",
    "    & (cohort[\"SIENA\"] < 8)\n",
    "    & (-30 < cohort[\"VIENA\"])\n",
    "    & (cohort[\"VIENA\"] < 30)\n",
    "]\n",
    "\n",
    "print(f\"Removed {initial_size - len(cohort)} cohort due to QC.\")\n"
   ]
  },
  {
   "cell_type": "code",
   "execution_count": 9,
   "metadata": {},
   "outputs": [
    {
     "data": {
      "text/plain": [
       "group\n",
       "hc        35\n",
       "pd-mci    15\n",
       "pd-nc     59\n",
       "dtype: int64"
      ]
     },
     "execution_count": 9,
     "metadata": {},
     "output_type": "execute_result"
    }
   ],
   "source": [
    "cohort.groupby(\"group\").size()\n"
   ]
  },
  {
   "attachments": {},
   "cell_type": "markdown",
   "metadata": {},
   "source": [
    "## SIENA (PBVC)\n"
   ]
  },
  {
   "cell_type": "code",
   "execution_count": 10,
   "metadata": {},
   "outputs": [
    {
     "data": {
      "text/html": [
       "<style type=\"text/css\">\n",
       "</style>\n",
       "<table id=\"T_70594\">\n",
       "  <thead>\n",
       "    <tr>\n",
       "      <th class=\"blank level0\" >&nbsp;</th>\n",
       "      <th id=\"T_70594_level0_col0\" class=\"col_heading level0 col0\" >Source</th>\n",
       "      <th id=\"T_70594_level0_col1\" class=\"col_heading level0 col1\" >SS</th>\n",
       "      <th id=\"T_70594_level0_col2\" class=\"col_heading level0 col2\" >DF</th>\n",
       "      <th id=\"T_70594_level0_col3\" class=\"col_heading level0 col3\" >F</th>\n",
       "      <th id=\"T_70594_level0_col4\" class=\"col_heading level0 col4\" >p-unc</th>\n",
       "      <th id=\"T_70594_level0_col5\" class=\"col_heading level0 col5\" >n2</th>\n",
       "    </tr>\n",
       "  </thead>\n",
       "  <tbody>\n",
       "    <tr>\n",
       "      <th id=\"T_70594_level0_row0\" class=\"row_heading level0 row0\" >0</th>\n",
       "      <td id=\"T_70594_row0_col0\" class=\"data row0 col0\" >group</td>\n",
       "      <td id=\"T_70594_row0_col1\" class=\"data row0 col1\" >2.601000</td>\n",
       "      <td id=\"T_70594_row0_col2\" class=\"data row0 col2\" >2</td>\n",
       "      <td id=\"T_70594_row0_col3\" class=\"data row0 col3\" >0.447000</td>\n",
       "      <td id=\"T_70594_row0_col4\" class=\"data row0 col4\" >0.641000</td>\n",
       "      <td id=\"T_70594_row0_col5\" class=\"data row0 col5\" >0.009000</td>\n",
       "    </tr>\n",
       "    <tr>\n",
       "      <th id=\"T_70594_level0_row1\" class=\"row_heading level0 row1\" >1</th>\n",
       "      <td id=\"T_70594_row1_col0\" class=\"data row1 col0\" >AGE_AT_VISIT</td>\n",
       "      <td id=\"T_70594_row1_col1\" class=\"data row1 col1\" >1.308000</td>\n",
       "      <td id=\"T_70594_row1_col2\" class=\"data row1 col2\" >1</td>\n",
       "      <td id=\"T_70594_row1_col3\" class=\"data row1 col3\" >0.449000</td>\n",
       "      <td id=\"T_70594_row1_col4\" class=\"data row1 col4\" >0.504000</td>\n",
       "      <td id=\"T_70594_row1_col5\" class=\"data row1 col5\" >0.004000</td>\n",
       "    </tr>\n",
       "    <tr>\n",
       "      <th id=\"T_70594_level0_row2\" class=\"row_heading level0 row2\" >2</th>\n",
       "      <td id=\"T_70594_row2_col0\" class=\"data row2 col0\" >SEX</td>\n",
       "      <td id=\"T_70594_row2_col1\" class=\"data row2 col1\" >0.015000</td>\n",
       "      <td id=\"T_70594_row2_col2\" class=\"data row2 col2\" >1</td>\n",
       "      <td id=\"T_70594_row2_col3\" class=\"data row2 col3\" >0.005000</td>\n",
       "      <td id=\"T_70594_row2_col4\" class=\"data row2 col4\" >0.943000</td>\n",
       "      <td id=\"T_70594_row2_col5\" class=\"data row2 col5\" >0.000000</td>\n",
       "    </tr>\n",
       "    <tr>\n",
       "      <th id=\"T_70594_level0_row3\" class=\"row_heading level0 row3\" >3</th>\n",
       "      <td id=\"T_70594_row3_col0\" class=\"data row3 col0\" >EDUCYRS</td>\n",
       "      <td id=\"T_70594_row3_col1\" class=\"data row3 col1\" >0.681000</td>\n",
       "      <td id=\"T_70594_row3_col2\" class=\"data row3 col2\" >1</td>\n",
       "      <td id=\"T_70594_row3_col3\" class=\"data row3 col3\" >0.234000</td>\n",
       "      <td id=\"T_70594_row3_col4\" class=\"data row3 col4\" >0.630000</td>\n",
       "      <td id=\"T_70594_row3_col5\" class=\"data row3 col5\" >0.002000</td>\n",
       "    </tr>\n",
       "    <tr>\n",
       "      <th id=\"T_70594_level0_row4\" class=\"row_heading level0 row4\" >4</th>\n",
       "      <td id=\"T_70594_row4_col0\" class=\"data row4 col0\" >time_diff</td>\n",
       "      <td id=\"T_70594_row4_col1\" class=\"data row4 col1\" >1.443000</td>\n",
       "      <td id=\"T_70594_row4_col2\" class=\"data row4 col2\" >1</td>\n",
       "      <td id=\"T_70594_row4_col3\" class=\"data row4 col3\" >0.496000</td>\n",
       "      <td id=\"T_70594_row4_col4\" class=\"data row4 col4\" >0.483000</td>\n",
       "      <td id=\"T_70594_row4_col5\" class=\"data row4 col5\" >0.005000</td>\n",
       "    </tr>\n",
       "    <tr>\n",
       "      <th id=\"T_70594_level0_row5\" class=\"row_heading level0 row5\" >5</th>\n",
       "      <td id=\"T_70594_row5_col0\" class=\"data row5 col0\" >Residual</td>\n",
       "      <td id=\"T_70594_row5_col1\" class=\"data row5 col1\" >297.005000</td>\n",
       "      <td id=\"T_70594_row5_col2\" class=\"data row5 col2\" >102</td>\n",
       "      <td id=\"T_70594_row5_col3\" class=\"data row5 col3\" >nan</td>\n",
       "      <td id=\"T_70594_row5_col4\" class=\"data row5 col4\" >nan</td>\n",
       "      <td id=\"T_70594_row5_col5\" class=\"data row5 col5\" >nan</td>\n",
       "    </tr>\n",
       "  </tbody>\n",
       "</table>\n"
      ],
      "text/plain": [
       "<pandas.io.formats.style.Styler at 0x7fab8610bb20>"
      ]
     },
     "execution_count": 10,
     "metadata": {},
     "output_type": "execute_result"
    }
   ],
   "source": [
    "pretty_df(\n",
    "    ancova(\n",
    "        data=cohort,\n",
    "        dv=\"SIENA\",\n",
    "        covar=[\"AGE_AT_VISIT\", \"SEX\", \"EDUCYRS\", \"time_diff\"],\n",
    "        between=\"group\",\n",
    "        effsize=\"n2\",\n",
    "    ),\n",
    "    subset=\"p-unc\",\n",
    ")\n"
   ]
  },
  {
   "cell_type": "code",
   "execution_count": 11,
   "metadata": {},
   "outputs": [
    {
     "data": {
      "text/html": [
       "<style type=\"text/css\">\n",
       "</style>\n",
       "<table id=\"T_5cf8c\">\n",
       "  <thead>\n",
       "    <tr>\n",
       "      <th class=\"blank level0\" >&nbsp;</th>\n",
       "      <th id=\"T_5cf8c_level0_col0\" class=\"col_heading level0 col0\" >Source</th>\n",
       "      <th id=\"T_5cf8c_level0_col1\" class=\"col_heading level0 col1\" >SS</th>\n",
       "      <th id=\"T_5cf8c_level0_col2\" class=\"col_heading level0 col2\" >DF</th>\n",
       "      <th id=\"T_5cf8c_level0_col3\" class=\"col_heading level0 col3\" >F</th>\n",
       "      <th id=\"T_5cf8c_level0_col4\" class=\"col_heading level0 col4\" >p-unc</th>\n",
       "      <th id=\"T_5cf8c_level0_col5\" class=\"col_heading level0 col5\" >n2</th>\n",
       "    </tr>\n",
       "  </thead>\n",
       "  <tbody>\n",
       "    <tr>\n",
       "      <th id=\"T_5cf8c_level0_row0\" class=\"row_heading level0 row0\" >0</th>\n",
       "      <td id=\"T_5cf8c_row0_col0\" class=\"data row0 col0\" >group</td>\n",
       "      <td id=\"T_5cf8c_row0_col1\" class=\"data row0 col1\" >0.685000</td>\n",
       "      <td id=\"T_5cf8c_row0_col2\" class=\"data row0 col2\" >1</td>\n",
       "      <td id=\"T_5cf8c_row0_col3\" class=\"data row0 col3\" >0.287000</td>\n",
       "      <td id=\"T_5cf8c_row0_col4\" class=\"data row0 col4\" >0.594000</td>\n",
       "      <td id=\"T_5cf8c_row0_col5\" class=\"data row0 col5\" >0.004000</td>\n",
       "    </tr>\n",
       "    <tr>\n",
       "      <th id=\"T_5cf8c_level0_row1\" class=\"row_heading level0 row1\" >1</th>\n",
       "      <td id=\"T_5cf8c_row1_col0\" class=\"data row1 col0\" >AGE_AT_VISIT</td>\n",
       "      <td id=\"T_5cf8c_row1_col1\" class=\"data row1 col1\" >3.775000</td>\n",
       "      <td id=\"T_5cf8c_row1_col2\" class=\"data row1 col2\" >1</td>\n",
       "      <td id=\"T_5cf8c_row1_col3\" class=\"data row1 col3\" >1.582000</td>\n",
       "      <td id=\"T_5cf8c_row1_col4\" class=\"data row1 col4\" >0.213000</td>\n",
       "      <td id=\"T_5cf8c_row1_col5\" class=\"data row1 col5\" >0.023000</td>\n",
       "    </tr>\n",
       "    <tr>\n",
       "      <th id=\"T_5cf8c_level0_row2\" class=\"row_heading level0 row2\" >2</th>\n",
       "      <td id=\"T_5cf8c_row2_col0\" class=\"data row2 col0\" >SEX</td>\n",
       "      <td id=\"T_5cf8c_row2_col1\" class=\"data row2 col1\" >0.065000</td>\n",
       "      <td id=\"T_5cf8c_row2_col2\" class=\"data row2 col2\" >1</td>\n",
       "      <td id=\"T_5cf8c_row2_col3\" class=\"data row2 col3\" >0.027000</td>\n",
       "      <td id=\"T_5cf8c_row2_col4\" class=\"data row2 col4\" >0.870000</td>\n",
       "      <td id=\"T_5cf8c_row2_col5\" class=\"data row2 col5\" >0.000000</td>\n",
       "    </tr>\n",
       "    <tr>\n",
       "      <th id=\"T_5cf8c_level0_row3\" class=\"row_heading level0 row3\" >3</th>\n",
       "      <td id=\"T_5cf8c_row3_col0\" class=\"data row3 col0\" >EDUCYRS</td>\n",
       "      <td id=\"T_5cf8c_row3_col1\" class=\"data row3 col1\" >0.281000</td>\n",
       "      <td id=\"T_5cf8c_row3_col2\" class=\"data row3 col2\" >1</td>\n",
       "      <td id=\"T_5cf8c_row3_col3\" class=\"data row3 col3\" >0.118000</td>\n",
       "      <td id=\"T_5cf8c_row3_col4\" class=\"data row3 col4\" >0.733000</td>\n",
       "      <td id=\"T_5cf8c_row3_col5\" class=\"data row3 col5\" >0.002000</td>\n",
       "    </tr>\n",
       "    <tr>\n",
       "      <th id=\"T_5cf8c_level0_row4\" class=\"row_heading level0 row4\" >4</th>\n",
       "      <td id=\"T_5cf8c_row4_col0\" class=\"data row4 col0\" >time_diff</td>\n",
       "      <td id=\"T_5cf8c_row4_col1\" class=\"data row4 col1\" >1.569000</td>\n",
       "      <td id=\"T_5cf8c_row4_col2\" class=\"data row4 col2\" >1</td>\n",
       "      <td id=\"T_5cf8c_row4_col3\" class=\"data row4 col3\" >0.658000</td>\n",
       "      <td id=\"T_5cf8c_row4_col4\" class=\"data row4 col4\" >0.420000</td>\n",
       "      <td id=\"T_5cf8c_row4_col5\" class=\"data row4 col5\" >0.009000</td>\n",
       "    </tr>\n",
       "    <tr>\n",
       "      <th id=\"T_5cf8c_level0_row5\" class=\"row_heading level0 row5\" >5</th>\n",
       "      <td id=\"T_5cf8c_row5_col0\" class=\"data row5 col0\" >LEDD</td>\n",
       "      <td id=\"T_5cf8c_row5_col1\" class=\"data row5 col1\" >0.586000</td>\n",
       "      <td id=\"T_5cf8c_row5_col2\" class=\"data row5 col2\" >1</td>\n",
       "      <td id=\"T_5cf8c_row5_col3\" class=\"data row5 col3\" >0.245000</td>\n",
       "      <td id=\"T_5cf8c_row5_col4\" class=\"data row5 col4\" >0.622000</td>\n",
       "      <td id=\"T_5cf8c_row5_col5\" class=\"data row5 col5\" >0.004000</td>\n",
       "    </tr>\n",
       "    <tr>\n",
       "      <th id=\"T_5cf8c_level0_row6\" class=\"row_heading level0 row6\" >6</th>\n",
       "      <td id=\"T_5cf8c_row6_col0\" class=\"data row6 col0\" >Residual</td>\n",
       "      <td id=\"T_5cf8c_row6_col1\" class=\"data row6 col1\" >159.883000</td>\n",
       "      <td id=\"T_5cf8c_row6_col2\" class=\"data row6 col2\" >67</td>\n",
       "      <td id=\"T_5cf8c_row6_col3\" class=\"data row6 col3\" >nan</td>\n",
       "      <td id=\"T_5cf8c_row6_col4\" class=\"data row6 col4\" >nan</td>\n",
       "      <td id=\"T_5cf8c_row6_col5\" class=\"data row6 col5\" >nan</td>\n",
       "    </tr>\n",
       "  </tbody>\n",
       "</table>\n"
      ],
      "text/plain": [
       "<pandas.io.formats.style.Styler at 0x7fac2c23fa00>"
      ]
     },
     "execution_count": 11,
     "metadata": {},
     "output_type": "execute_result"
    }
   ],
   "source": [
    "# Account for LEDD\n",
    "pretty_df(\n",
    "    ancova(\n",
    "        data=cohort,\n",
    "        dv=\"SIENA\",\n",
    "        covar=[\"AGE_AT_VISIT\", \"SEX\", \"EDUCYRS\", \"time_diff\", \"LEDD\"],\n",
    "        between=\"group\",\n",
    "        effsize=\"n2\",\n",
    "    ),\n",
    "    subset=\"p-unc\",\n",
    ")\n"
   ]
  },
  {
   "cell_type": "code",
   "execution_count": 12,
   "metadata": {},
   "outputs": [
    {
     "name": "stdout",
     "output_type": "stream",
     "text": [
      "Multiple Comparison of Means - Tukey HSD, FWER=0.05\n",
      "===================================================\n",
      "group1 group2 meandiff p-adj   lower  upper  reject\n",
      "---------------------------------------------------\n",
      "    hc pd-mci   0.2588 0.8728 -0.9784 1.4961  False\n",
      "    hc  pd-nc   0.1796 0.8719 -0.6758  1.035  False\n",
      "pd-mci  pd-nc  -0.0792 0.9856 -1.2386 1.0801  False\n",
      "---------------------------------------------------\n"
     ]
    }
   ],
   "source": [
    "tukey = pairwise_tukeyhsd(\n",
    "    endog=cohort[\"SIENA\"],\n",
    "    groups=cohort[\"group\"],\n",
    "    alpha=0.05,\n",
    ")\n",
    "print(tukey)\n"
   ]
  },
  {
   "cell_type": "code",
   "execution_count": 13,
   "metadata": {},
   "outputs": [
    {
     "data": {
      "image/png": "[encoded data removed]",
      "text/plain": [
       "<Figure size 640x480 with 1 Axes>"
      ]
     },
     "metadata": {},
     "output_type": "display_data"
    }
   ],
   "source": [
    "import matplotlib.pyplot as plt\n",
    "import numpy as np\n",
    "\n",
    "\n",
    "groups = [\"hc\", \"pd-nc\", \"pd-mci\"]\n",
    "plt.boxplot([cohort[\"SIENA\"][cohort[\"group\"] == g] for g in groups])\n",
    "plt.xticks(np.arange(len(groups)) + 1, groups)\n",
    "plt.ylabel(\"PBVC\")\n",
    "\n",
    "plt.show()\n"
   ]
  },
  {
   "attachments": {},
   "cell_type": "markdown",
   "metadata": {},
   "source": [
    "## VIENA (PVVC)\n"
   ]
  },
  {
   "cell_type": "code",
   "execution_count": 14,
   "metadata": {},
   "outputs": [
    {
     "data": {
      "text/html": [
       "<style type=\"text/css\">\n",
       "#T_7830c_row2_col4 {\n",
       "  color: red;\n",
       "}\n",
       "</style>\n",
       "<table id=\"T_7830c\">\n",
       "  <thead>\n",
       "    <tr>\n",
       "      <th class=\"blank level0\" >&nbsp;</th>\n",
       "      <th id=\"T_7830c_level0_col0\" class=\"col_heading level0 col0\" >Source</th>\n",
       "      <th id=\"T_7830c_level0_col1\" class=\"col_heading level0 col1\" >SS</th>\n",
       "      <th id=\"T_7830c_level0_col2\" class=\"col_heading level0 col2\" >DF</th>\n",
       "      <th id=\"T_7830c_level0_col3\" class=\"col_heading level0 col3\" >F</th>\n",
       "      <th id=\"T_7830c_level0_col4\" class=\"col_heading level0 col4\" >p-unc</th>\n",
       "      <th id=\"T_7830c_level0_col5\" class=\"col_heading level0 col5\" >n2</th>\n",
       "    </tr>\n",
       "  </thead>\n",
       "  <tbody>\n",
       "    <tr>\n",
       "      <th id=\"T_7830c_level0_row0\" class=\"row_heading level0 row0\" >0</th>\n",
       "      <td id=\"T_7830c_row0_col0\" class=\"data row0 col0\" >group</td>\n",
       "      <td id=\"T_7830c_row0_col1\" class=\"data row0 col1\" >25.520000</td>\n",
       "      <td id=\"T_7830c_row0_col2\" class=\"data row0 col2\" >1</td>\n",
       "      <td id=\"T_7830c_row0_col3\" class=\"data row0 col3\" >0.501000</td>\n",
       "      <td id=\"T_7830c_row0_col4\" class=\"data row0 col4\" >0.481000</td>\n",
       "      <td id=\"T_7830c_row0_col5\" class=\"data row0 col5\" >0.006000</td>\n",
       "    </tr>\n",
       "    <tr>\n",
       "      <th id=\"T_7830c_level0_row1\" class=\"row_heading level0 row1\" >1</th>\n",
       "      <td id=\"T_7830c_row1_col0\" class=\"data row1 col0\" >AGE_AT_VISIT</td>\n",
       "      <td id=\"T_7830c_row1_col1\" class=\"data row1 col1\" >42.854000</td>\n",
       "      <td id=\"T_7830c_row1_col2\" class=\"data row1 col2\" >1</td>\n",
       "      <td id=\"T_7830c_row1_col3\" class=\"data row1 col3\" >0.842000</td>\n",
       "      <td id=\"T_7830c_row1_col4\" class=\"data row1 col4\" >0.362000</td>\n",
       "      <td id=\"T_7830c_row1_col5\" class=\"data row1 col5\" >0.011000</td>\n",
       "    </tr>\n",
       "    <tr>\n",
       "      <th id=\"T_7830c_level0_row2\" class=\"row_heading level0 row2\" >2</th>\n",
       "      <td id=\"T_7830c_row2_col0\" class=\"data row2 col0\" >SEX</td>\n",
       "      <td id=\"T_7830c_row2_col1\" class=\"data row2 col1\" >223.401000</td>\n",
       "      <td id=\"T_7830c_row2_col2\" class=\"data row2 col2\" >1</td>\n",
       "      <td id=\"T_7830c_row2_col3\" class=\"data row2 col3\" >4.389000</td>\n",
       "      <td id=\"T_7830c_row2_col4\" class=\"data row2 col4\" >0.040000</td>\n",
       "      <td id=\"T_7830c_row2_col5\" class=\"data row2 col5\" >0.056000</td>\n",
       "    </tr>\n",
       "    <tr>\n",
       "      <th id=\"T_7830c_level0_row3\" class=\"row_heading level0 row3\" >3</th>\n",
       "      <td id=\"T_7830c_row3_col0\" class=\"data row3 col0\" >EDUCYRS</td>\n",
       "      <td id=\"T_7830c_row3_col1\" class=\"data row3 col1\" >134.633000</td>\n",
       "      <td id=\"T_7830c_row3_col2\" class=\"data row3 col2\" >1</td>\n",
       "      <td id=\"T_7830c_row3_col3\" class=\"data row3 col3\" >2.645000</td>\n",
       "      <td id=\"T_7830c_row3_col4\" class=\"data row3 col4\" >0.109000</td>\n",
       "      <td id=\"T_7830c_row3_col5\" class=\"data row3 col5\" >0.034000</td>\n",
       "    </tr>\n",
       "    <tr>\n",
       "      <th id=\"T_7830c_level0_row4\" class=\"row_heading level0 row4\" >4</th>\n",
       "      <td id=\"T_7830c_row4_col0\" class=\"data row4 col0\" >time_diff</td>\n",
       "      <td id=\"T_7830c_row4_col1\" class=\"data row4 col1\" >28.680000</td>\n",
       "      <td id=\"T_7830c_row4_col2\" class=\"data row4 col2\" >1</td>\n",
       "      <td id=\"T_7830c_row4_col3\" class=\"data row4 col3\" >0.564000</td>\n",
       "      <td id=\"T_7830c_row4_col4\" class=\"data row4 col4\" >0.455000</td>\n",
       "      <td id=\"T_7830c_row4_col5\" class=\"data row4 col5\" >0.007000</td>\n",
       "    </tr>\n",
       "    <tr>\n",
       "      <th id=\"T_7830c_level0_row5\" class=\"row_heading level0 row5\" >5</th>\n",
       "      <td id=\"T_7830c_row5_col0\" class=\"data row5 col0\" >LEDD</td>\n",
       "      <td id=\"T_7830c_row5_col1\" class=\"data row5 col1\" >93.388000</td>\n",
       "      <td id=\"T_7830c_row5_col2\" class=\"data row5 col2\" >1</td>\n",
       "      <td id=\"T_7830c_row5_col3\" class=\"data row5 col3\" >1.835000</td>\n",
       "      <td id=\"T_7830c_row5_col4\" class=\"data row5 col4\" >0.180000</td>\n",
       "      <td id=\"T_7830c_row5_col5\" class=\"data row5 col5\" >0.024000</td>\n",
       "    </tr>\n",
       "    <tr>\n",
       "      <th id=\"T_7830c_level0_row6\" class=\"row_heading level0 row6\" >6</th>\n",
       "      <td id=\"T_7830c_row6_col0\" class=\"data row6 col0\" >Residual</td>\n",
       "      <td id=\"T_7830c_row6_col1\" class=\"data row6 col1\" >3409.945000</td>\n",
       "      <td id=\"T_7830c_row6_col2\" class=\"data row6 col2\" >67</td>\n",
       "      <td id=\"T_7830c_row6_col3\" class=\"data row6 col3\" >nan</td>\n",
       "      <td id=\"T_7830c_row6_col4\" class=\"data row6 col4\" >nan</td>\n",
       "      <td id=\"T_7830c_row6_col5\" class=\"data row6 col5\" >nan</td>\n",
       "    </tr>\n",
       "  </tbody>\n",
       "</table>\n"
      ],
      "text/plain": [
       "<pandas.io.formats.style.Styler at 0x7fab85a88970>"
      ]
     },
     "execution_count": 14,
     "metadata": {},
     "output_type": "execute_result"
    }
   ],
   "source": [
    "pretty_df(\n",
    "    ancova(\n",
    "        data=cohort,\n",
    "        dv=\"VIENA\",\n",
    "        covar=[\"AGE_AT_VISIT\", \"SEX\", \"EDUCYRS\", \"time_diff\", \"LEDD\"],\n",
    "        between=\"group\",\n",
    "        effsize=\"n2\",\n",
    "    ),\n",
    "    subset=\"p-unc\",\n",
    ")\n"
   ]
  },
  {
   "attachments": {},
   "cell_type": "markdown",
   "metadata": {},
   "source": [
    "We observe significant $(p < 0.05)$ correlation between PVVC and sex.\n"
   ]
  },
  {
   "cell_type": "code",
   "execution_count": 15,
   "metadata": {},
   "outputs": [
    {
     "data": {
      "text/plain": [
       "SEX\n",
       "0    42\n",
       "1    67\n",
       "dtype: int64"
      ]
     },
     "execution_count": 15,
     "metadata": {},
     "output_type": "execute_result"
    }
   ],
   "source": [
    "cohort.groupby(\"SEX\").size()\n"
   ]
  },
  {
   "cell_type": "code",
   "execution_count": 16,
   "metadata": {},
   "outputs": [
    {
     "name": "stdout",
     "output_type": "stream",
     "text": [
      "Multiple Comparison of Means - Tukey HSD, FWER=0.05\n",
      "===================================================\n",
      "group1 group2 meandiff p-adj   lower  upper  reject\n",
      "---------------------------------------------------\n",
      "    hc pd-mci  -0.9949  0.902 -6.4573 4.4676  False\n",
      "    hc  pd-nc   0.3359 0.9757 -3.4406 4.1124  False\n",
      "pd-mci  pd-nc   1.3308 0.8106 -3.7876 6.4491  False\n",
      "---------------------------------------------------\n"
     ]
    }
   ],
   "source": [
    "tukey = pairwise_tukeyhsd(endog=cohort[\"VIENA\"], groups=cohort[\"group\"], alpha=0.05)\n",
    "print(tukey)\n"
   ]
  },
  {
   "cell_type": "code",
   "execution_count": 17,
   "metadata": {},
   "outputs": [
    {
     "data": {
      "image/png": "[encoded data removed]",
      "text/plain": [
       "<Figure size 640x480 with 1 Axes>"
      ]
     },
     "metadata": {},
     "output_type": "display_data"
    }
   ],
   "source": [
    "groups = [\"hc\", \"pd-nc\", \"pd-mci\"]\n",
    "plt.boxplot([cohort[\"VIENA\"][cohort[\"group\"] == g] for g in groups])\n",
    "plt.xticks(np.arange(len(groups)) + 1, groups)\n",
    "plt.ylabel(\"VIENA\")\n",
    "\n",
    "plt.show()\n"
   ]
  },
  {
   "attachments": {},
   "cell_type": "markdown",
   "metadata": {},
   "source": [
    "## PD converters\n"
   ]
  },
  {
   "cell_type": "code",
   "execution_count": 18,
   "metadata": {},
   "outputs": [
    {
     "data": {
      "text/plain": [
       "PD_CONVERT\n",
       "converter     8\n",
       "stable       51\n",
       "dtype: int64"
      ]
     },
     "execution_count": 18,
     "metadata": {},
     "output_type": "execute_result"
    }
   ],
   "source": [
    "cohort.groupby(\"PD_CONVERT\").size()\n"
   ]
  },
  {
   "attachments": {},
   "cell_type": "markdown",
   "metadata": {},
   "source": [
    "### Whole-brain atrophy\n"
   ]
  },
  {
   "cell_type": "code",
   "execution_count": 19,
   "metadata": {},
   "outputs": [
    {
     "data": {
      "text/html": [
       "<style type=\"text/css\">\n",
       "#T_d86b3_row3_col4 {\n",
       "  color: red;\n",
       "}\n",
       "</style>\n",
       "<table id=\"T_d86b3\">\n",
       "  <thead>\n",
       "    <tr>\n",
       "      <th class=\"blank level0\" >&nbsp;</th>\n",
       "      <th id=\"T_d86b3_level0_col0\" class=\"col_heading level0 col0\" >Source</th>\n",
       "      <th id=\"T_d86b3_level0_col1\" class=\"col_heading level0 col1\" >SS</th>\n",
       "      <th id=\"T_d86b3_level0_col2\" class=\"col_heading level0 col2\" >DF</th>\n",
       "      <th id=\"T_d86b3_level0_col3\" class=\"col_heading level0 col3\" >F</th>\n",
       "      <th id=\"T_d86b3_level0_col4\" class=\"col_heading level0 col4\" >p-unc</th>\n",
       "      <th id=\"T_d86b3_level0_col5\" class=\"col_heading level0 col5\" >n2</th>\n",
       "    </tr>\n",
       "  </thead>\n",
       "  <tbody>\n",
       "    <tr>\n",
       "      <th id=\"T_d86b3_level0_row0\" class=\"row_heading level0 row0\" >0</th>\n",
       "      <td id=\"T_d86b3_row0_col0\" class=\"data row0 col0\" >PD_CONVERT</td>\n",
       "      <td id=\"T_d86b3_row0_col1\" class=\"data row0 col1\" >0.363000</td>\n",
       "      <td id=\"T_d86b3_row0_col2\" class=\"data row0 col2\" >1</td>\n",
       "      <td id=\"T_d86b3_row0_col3\" class=\"data row0 col3\" >0.010000</td>\n",
       "      <td id=\"T_d86b3_row0_col4\" class=\"data row0 col4\" >0.921000</td>\n",
       "      <td id=\"T_d86b3_row0_col5\" class=\"data row0 col5\" >0.000000</td>\n",
       "    </tr>\n",
       "    <tr>\n",
       "      <th id=\"T_d86b3_level0_row1\" class=\"row_heading level0 row1\" >1</th>\n",
       "      <td id=\"T_d86b3_row1_col0\" class=\"data row1 col0\" >AGE_AT_VISIT</td>\n",
       "      <td id=\"T_d86b3_row1_col1\" class=\"data row1 col1\" >38.041000</td>\n",
       "      <td id=\"T_d86b3_row1_col2\" class=\"data row1 col2\" >1</td>\n",
       "      <td id=\"T_d86b3_row1_col3\" class=\"data row1 col3\" >1.045000</td>\n",
       "      <td id=\"T_d86b3_row1_col4\" class=\"data row1 col4\" >0.312000</td>\n",
       "      <td id=\"T_d86b3_row1_col5\" class=\"data row1 col5\" >0.017000</td>\n",
       "    </tr>\n",
       "    <tr>\n",
       "      <th id=\"T_d86b3_level0_row2\" class=\"row_heading level0 row2\" >2</th>\n",
       "      <td id=\"T_d86b3_row2_col0\" class=\"data row2 col0\" >SEX</td>\n",
       "      <td id=\"T_d86b3_row2_col1\" class=\"data row2 col1\" >104.936000</td>\n",
       "      <td id=\"T_d86b3_row2_col2\" class=\"data row2 col2\" >1</td>\n",
       "      <td id=\"T_d86b3_row2_col3\" class=\"data row2 col3\" >2.882000</td>\n",
       "      <td id=\"T_d86b3_row2_col4\" class=\"data row2 col4\" >0.096000</td>\n",
       "      <td id=\"T_d86b3_row2_col5\" class=\"data row2 col5\" >0.046000</td>\n",
       "    </tr>\n",
       "    <tr>\n",
       "      <th id=\"T_d86b3_level0_row3\" class=\"row_heading level0 row3\" >3</th>\n",
       "      <td id=\"T_d86b3_row3_col0\" class=\"data row3 col0\" >EDUCYRS</td>\n",
       "      <td id=\"T_d86b3_row3_col1\" class=\"data row3 col1\" >212.635000</td>\n",
       "      <td id=\"T_d86b3_row3_col2\" class=\"data row3 col2\" >1</td>\n",
       "      <td id=\"T_d86b3_row3_col3\" class=\"data row3 col3\" >5.841000</td>\n",
       "      <td id=\"T_d86b3_row3_col4\" class=\"data row3 col4\" >0.019000</td>\n",
       "      <td id=\"T_d86b3_row3_col5\" class=\"data row3 col5\" >0.094000</td>\n",
       "    </tr>\n",
       "    <tr>\n",
       "      <th id=\"T_d86b3_level0_row4\" class=\"row_heading level0 row4\" >4</th>\n",
       "      <td id=\"T_d86b3_row4_col0\" class=\"data row4 col0\" >NP3TOT</td>\n",
       "      <td id=\"T_d86b3_row4_col1\" class=\"data row4 col1\" >9.749000</td>\n",
       "      <td id=\"T_d86b3_row4_col2\" class=\"data row4 col2\" >1</td>\n",
       "      <td id=\"T_d86b3_row4_col3\" class=\"data row4 col3\" >0.268000</td>\n",
       "      <td id=\"T_d86b3_row4_col4\" class=\"data row4 col4\" >0.607000</td>\n",
       "      <td id=\"T_d86b3_row4_col5\" class=\"data row4 col5\" >0.004000</td>\n",
       "    </tr>\n",
       "    <tr>\n",
       "      <th id=\"T_d86b3_level0_row5\" class=\"row_heading level0 row5\" >5</th>\n",
       "      <td id=\"T_d86b3_row5_col0\" class=\"data row5 col0\" >PDXDUR</td>\n",
       "      <td id=\"T_d86b3_row5_col1\" class=\"data row5 col1\" >54.158000</td>\n",
       "      <td id=\"T_d86b3_row5_col2\" class=\"data row5 col2\" >1</td>\n",
       "      <td id=\"T_d86b3_row5_col3\" class=\"data row5 col3\" >1.488000</td>\n",
       "      <td id=\"T_d86b3_row5_col4\" class=\"data row5 col4\" >0.228000</td>\n",
       "      <td id=\"T_d86b3_row5_col5\" class=\"data row5 col5\" >0.024000</td>\n",
       "    </tr>\n",
       "    <tr>\n",
       "      <th id=\"T_d86b3_level0_row6\" class=\"row_heading level0 row6\" >6</th>\n",
       "      <td id=\"T_d86b3_row6_col0\" class=\"data row6 col0\" >time_diff</td>\n",
       "      <td id=\"T_d86b3_row6_col1\" class=\"data row6 col1\" >24.807000</td>\n",
       "      <td id=\"T_d86b3_row6_col2\" class=\"data row6 col2\" >1</td>\n",
       "      <td id=\"T_d86b3_row6_col3\" class=\"data row6 col3\" >0.681000</td>\n",
       "      <td id=\"T_d86b3_row6_col4\" class=\"data row6 col4\" >0.413000</td>\n",
       "      <td id=\"T_d86b3_row6_col5\" class=\"data row6 col5\" >0.011000</td>\n",
       "    </tr>\n",
       "    <tr>\n",
       "      <th id=\"T_d86b3_level0_row7\" class=\"row_heading level0 row7\" >7</th>\n",
       "      <td id=\"T_d86b3_row7_col0\" class=\"data row7 col0\" >Residual</td>\n",
       "      <td id=\"T_d86b3_row7_col1\" class=\"data row7 col1\" >1820.255000</td>\n",
       "      <td id=\"T_d86b3_row7_col2\" class=\"data row7 col2\" >50</td>\n",
       "      <td id=\"T_d86b3_row7_col3\" class=\"data row7 col3\" >nan</td>\n",
       "      <td id=\"T_d86b3_row7_col4\" class=\"data row7 col4\" >nan</td>\n",
       "      <td id=\"T_d86b3_row7_col5\" class=\"data row7 col5\" >nan</td>\n",
       "    </tr>\n",
       "  </tbody>\n",
       "</table>\n"
      ],
      "text/plain": [
       "<pandas.io.formats.style.Styler at 0x7fab8598d030>"
      ]
     },
     "execution_count": 19,
     "metadata": {},
     "output_type": "execute_result"
    }
   ],
   "source": [
    "pretty_df(\n",
    "    ancova(\n",
    "        data=cohort[cohort[\"PD_CONVERT\"].notna()],\n",
    "        dv=\"VIENA\",\n",
    "        covar=[\"AGE_AT_VISIT\", \"SEX\", \"EDUCYRS\", \"NP3TOT\", \"PDXDUR\", \"time_diff\"],\n",
    "        between=\"PD_CONVERT\",\n",
    "        effsize=\"n2\",\n",
    "    ),\n",
    "    subset=\"p-unc\",\n",
    ")\n"
   ]
  },
  {
   "attachments": {},
   "cell_type": "markdown",
   "metadata": {},
   "source": [
    "We observe significant $(p < 0.05)$ correlation between $PD_{converter}$ and education years.\n"
   ]
  },
  {
   "cell_type": "code",
   "execution_count": 20,
   "metadata": {},
   "outputs": [
    {
     "data": {
      "text/html": [
       "<style type=\"text/css\">\n",
       "</style>\n",
       "<table id=\"T_b1def\">\n",
       "  <thead>\n",
       "    <tr>\n",
       "      <th class=\"blank level0\" >&nbsp;</th>\n",
       "      <th id=\"T_b1def_level0_col0\" class=\"col_heading level0 col0\" >T</th>\n",
       "      <th id=\"T_b1def_level0_col1\" class=\"col_heading level0 col1\" >dof</th>\n",
       "      <th id=\"T_b1def_level0_col2\" class=\"col_heading level0 col2\" >alternative</th>\n",
       "      <th id=\"T_b1def_level0_col3\" class=\"col_heading level0 col3\" >p-val</th>\n",
       "      <th id=\"T_b1def_level0_col4\" class=\"col_heading level0 col4\" >CI95%</th>\n",
       "      <th id=\"T_b1def_level0_col5\" class=\"col_heading level0 col5\" >cohen-d</th>\n",
       "      <th id=\"T_b1def_level0_col6\" class=\"col_heading level0 col6\" >BF10</th>\n",
       "      <th id=\"T_b1def_level0_col7\" class=\"col_heading level0 col7\" >power</th>\n",
       "    </tr>\n",
       "  </thead>\n",
       "  <tbody>\n",
       "    <tr>\n",
       "      <th id=\"T_b1def_level0_row0\" class=\"row_heading level0 row0\" >T-test</th>\n",
       "      <td id=\"T_b1def_row0_col0\" class=\"data row0 col0\" >-0.144000</td>\n",
       "      <td id=\"T_b1def_row0_col1\" class=\"data row0 col1\" >8.287000</td>\n",
       "      <td id=\"T_b1def_row0_col2\" class=\"data row0 col2\" >two-sided</td>\n",
       "      <td id=\"T_b1def_row0_col3\" class=\"data row0 col3\" >0.889000</td>\n",
       "      <td id=\"T_b1def_row0_col4\" class=\"data row0 col4\" >[-1.78  1.57]</td>\n",
       "      <td id=\"T_b1def_row0_col5\" class=\"data row0 col5\" >0.068000</td>\n",
       "      <td id=\"T_b1def_row0_col6\" class=\"data row0 col6\" >0.357</td>\n",
       "      <td id=\"T_b1def_row0_col7\" class=\"data row0 col7\" >0.054000</td>\n",
       "    </tr>\n",
       "  </tbody>\n",
       "</table>\n"
      ],
      "text/plain": [
       "<pandas.io.formats.style.Styler at 0x7fab8598e8c0>"
      ]
     },
     "execution_count": 20,
     "metadata": {},
     "output_type": "execute_result"
    }
   ],
   "source": [
    "pretty_df(\n",
    "    ttest(\n",
    "        x=cohort[cohort[\"PD_CONVERT\"] == \"stable\"][\"SIENA\"],\n",
    "        y=cohort[cohort[\"PD_CONVERT\"] == \"converter\"][\"SIENA\"],\n",
    "    ),\n",
    "    subset=\"p-val\",\n",
    ")\n"
   ]
  },
  {
   "cell_type": "code",
   "execution_count": 21,
   "metadata": {},
   "outputs": [
    {
     "data": {
      "image/png": "[encoded data removed]",
      "text/plain": [
       "<Figure size 640x480 with 1 Axes>"
      ]
     },
     "metadata": {},
     "output_type": "display_data"
    }
   ],
   "source": [
    "groups = [\"converter\", \"stable\"]\n",
    "plt.boxplot([cohort[\"SIENA\"][cohort[\"PD_CONVERT\"] == g] for g in groups])\n",
    "plt.xticks(np.arange(len(groups)) + 1, groups)\n",
    "plt.ylabel(\"PBVC\")\n",
    "\n",
    "plt.show()\n"
   ]
  },
  {
   "attachments": {},
   "cell_type": "markdown",
   "metadata": {},
   "source": [
    "### Ventricular enlargement\n"
   ]
  },
  {
   "cell_type": "code",
   "execution_count": 22,
   "metadata": {},
   "outputs": [
    {
     "data": {
      "text/html": [
       "<style type=\"text/css\">\n",
       "</style>\n",
       "<table id=\"T_54cfc\">\n",
       "  <thead>\n",
       "    <tr>\n",
       "      <th class=\"blank level0\" >&nbsp;</th>\n",
       "      <th id=\"T_54cfc_level0_col0\" class=\"col_heading level0 col0\" >Source</th>\n",
       "      <th id=\"T_54cfc_level0_col1\" class=\"col_heading level0 col1\" >SS</th>\n",
       "      <th id=\"T_54cfc_level0_col2\" class=\"col_heading level0 col2\" >DF</th>\n",
       "      <th id=\"T_54cfc_level0_col3\" class=\"col_heading level0 col3\" >F</th>\n",
       "      <th id=\"T_54cfc_level0_col4\" class=\"col_heading level0 col4\" >p-unc</th>\n",
       "      <th id=\"T_54cfc_level0_col5\" class=\"col_heading level0 col5\" >n2</th>\n",
       "    </tr>\n",
       "  </thead>\n",
       "  <tbody>\n",
       "    <tr>\n",
       "      <th id=\"T_54cfc_level0_row0\" class=\"row_heading level0 row0\" >0</th>\n",
       "      <td id=\"T_54cfc_row0_col0\" class=\"data row0 col0\" >PD_CONVERT</td>\n",
       "      <td id=\"T_54cfc_row0_col1\" class=\"data row0 col1\" >0.690000</td>\n",
       "      <td id=\"T_54cfc_row0_col2\" class=\"data row0 col2\" >1</td>\n",
       "      <td id=\"T_54cfc_row0_col3\" class=\"data row0 col3\" >0.322000</td>\n",
       "      <td id=\"T_54cfc_row0_col4\" class=\"data row0 col4\" >0.573000</td>\n",
       "      <td id=\"T_54cfc_row0_col5\" class=\"data row0 col5\" >0.006000</td>\n",
       "    </tr>\n",
       "    <tr>\n",
       "      <th id=\"T_54cfc_level0_row1\" class=\"row_heading level0 row1\" >1</th>\n",
       "      <td id=\"T_54cfc_row1_col0\" class=\"data row1 col0\" >AGE_AT_VISIT</td>\n",
       "      <td id=\"T_54cfc_row1_col1\" class=\"data row1 col1\" >4.106000</td>\n",
       "      <td id=\"T_54cfc_row1_col2\" class=\"data row1 col2\" >1</td>\n",
       "      <td id=\"T_54cfc_row1_col3\" class=\"data row1 col3\" >1.915000</td>\n",
       "      <td id=\"T_54cfc_row1_col4\" class=\"data row1 col4\" >0.173000</td>\n",
       "      <td id=\"T_54cfc_row1_col5\" class=\"data row1 col5\" >0.035000</td>\n",
       "    </tr>\n",
       "    <tr>\n",
       "      <th id=\"T_54cfc_level0_row2\" class=\"row_heading level0 row2\" >2</th>\n",
       "      <td id=\"T_54cfc_row2_col0\" class=\"data row2 col0\" >SEX</td>\n",
       "      <td id=\"T_54cfc_row2_col1\" class=\"data row2 col1\" >0.058000</td>\n",
       "      <td id=\"T_54cfc_row2_col2\" class=\"data row2 col2\" >1</td>\n",
       "      <td id=\"T_54cfc_row2_col3\" class=\"data row2 col3\" >0.027000</td>\n",
       "      <td id=\"T_54cfc_row2_col4\" class=\"data row2 col4\" >0.870000</td>\n",
       "      <td id=\"T_54cfc_row2_col5\" class=\"data row2 col5\" >0.000000</td>\n",
       "    </tr>\n",
       "    <tr>\n",
       "      <th id=\"T_54cfc_level0_row3\" class=\"row_heading level0 row3\" >3</th>\n",
       "      <td id=\"T_54cfc_row3_col0\" class=\"data row3 col0\" >EDUCYRS</td>\n",
       "      <td id=\"T_54cfc_row3_col1\" class=\"data row3 col1\" >1.133000</td>\n",
       "      <td id=\"T_54cfc_row3_col2\" class=\"data row3 col2\" >1</td>\n",
       "      <td id=\"T_54cfc_row3_col3\" class=\"data row3 col3\" >0.528000</td>\n",
       "      <td id=\"T_54cfc_row3_col4\" class=\"data row3 col4\" >0.471000</td>\n",
       "      <td id=\"T_54cfc_row3_col5\" class=\"data row3 col5\" >0.010000</td>\n",
       "    </tr>\n",
       "    <tr>\n",
       "      <th id=\"T_54cfc_level0_row4\" class=\"row_heading level0 row4\" >4</th>\n",
       "      <td id=\"T_54cfc_row4_col0\" class=\"data row4 col0\" >NP3TOT</td>\n",
       "      <td id=\"T_54cfc_row4_col1\" class=\"data row4 col1\" >1.967000</td>\n",
       "      <td id=\"T_54cfc_row4_col2\" class=\"data row4 col2\" >1</td>\n",
       "      <td id=\"T_54cfc_row4_col3\" class=\"data row4 col3\" >0.917000</td>\n",
       "      <td id=\"T_54cfc_row4_col4\" class=\"data row4 col4\" >0.343000</td>\n",
       "      <td id=\"T_54cfc_row4_col5\" class=\"data row4 col5\" >0.017000</td>\n",
       "    </tr>\n",
       "    <tr>\n",
       "      <th id=\"T_54cfc_level0_row5\" class=\"row_heading level0 row5\" >5</th>\n",
       "      <td id=\"T_54cfc_row5_col0\" class=\"data row5 col0\" >PDXDUR</td>\n",
       "      <td id=\"T_54cfc_row5_col1\" class=\"data row5 col1\" >0.247000</td>\n",
       "      <td id=\"T_54cfc_row5_col2\" class=\"data row5 col2\" >1</td>\n",
       "      <td id=\"T_54cfc_row5_col3\" class=\"data row5 col3\" >0.115000</td>\n",
       "      <td id=\"T_54cfc_row5_col4\" class=\"data row5 col4\" >0.736000</td>\n",
       "      <td id=\"T_54cfc_row5_col5\" class=\"data row5 col5\" >0.002000</td>\n",
       "    </tr>\n",
       "    <tr>\n",
       "      <th id=\"T_54cfc_level0_row6\" class=\"row_heading level0 row6\" >6</th>\n",
       "      <td id=\"T_54cfc_row6_col0\" class=\"data row6 col0\" >time_diff</td>\n",
       "      <td id=\"T_54cfc_row6_col1\" class=\"data row6 col1\" >3.553000</td>\n",
       "      <td id=\"T_54cfc_row6_col2\" class=\"data row6 col2\" >1</td>\n",
       "      <td id=\"T_54cfc_row6_col3\" class=\"data row6 col3\" >1.657000</td>\n",
       "      <td id=\"T_54cfc_row6_col4\" class=\"data row6 col4\" >0.204000</td>\n",
       "      <td id=\"T_54cfc_row6_col5\" class=\"data row6 col5\" >0.030000</td>\n",
       "    </tr>\n",
       "    <tr>\n",
       "      <th id=\"T_54cfc_level0_row7\" class=\"row_heading level0 row7\" >7</th>\n",
       "      <td id=\"T_54cfc_row7_col0\" class=\"data row7 col0\" >Residual</td>\n",
       "      <td id=\"T_54cfc_row7_col1\" class=\"data row7 col1\" >107.229000</td>\n",
       "      <td id=\"T_54cfc_row7_col2\" class=\"data row7 col2\" >50</td>\n",
       "      <td id=\"T_54cfc_row7_col3\" class=\"data row7 col3\" >nan</td>\n",
       "      <td id=\"T_54cfc_row7_col4\" class=\"data row7 col4\" >nan</td>\n",
       "      <td id=\"T_54cfc_row7_col5\" class=\"data row7 col5\" >nan</td>\n",
       "    </tr>\n",
       "  </tbody>\n",
       "</table>\n"
      ],
      "text/plain": [
       "<pandas.io.formats.style.Styler at 0x7fab8610b6d0>"
      ]
     },
     "execution_count": 22,
     "metadata": {},
     "output_type": "execute_result"
    }
   ],
   "source": [
    "pretty_df(\n",
    "    ancova(\n",
    "        data=cohort[cohort[\"PD_CONVERT\"].notna()],\n",
    "        dv=\"SIENA\",\n",
    "        covar=[\"AGE_AT_VISIT\", \"SEX\", \"EDUCYRS\", \"NP3TOT\", \"PDXDUR\", \"time_diff\"],\n",
    "        between=\"PD_CONVERT\",\n",
    "        effsize=\"n2\",\n",
    "    ),\n",
    "    subset=\"p-unc\",\n",
    ")\n"
   ]
  },
  {
   "cell_type": "code",
   "execution_count": 23,
   "metadata": {},
   "outputs": [
    {
     "data": {
      "text/html": [
       "<style type=\"text/css\">\n",
       "</style>\n",
       "<table id=\"T_85c93\">\n",
       "  <thead>\n",
       "    <tr>\n",
       "      <th class=\"blank level0\" >&nbsp;</th>\n",
       "      <th id=\"T_85c93_level0_col0\" class=\"col_heading level0 col0\" >T</th>\n",
       "      <th id=\"T_85c93_level0_col1\" class=\"col_heading level0 col1\" >dof</th>\n",
       "      <th id=\"T_85c93_level0_col2\" class=\"col_heading level0 col2\" >alternative</th>\n",
       "      <th id=\"T_85c93_level0_col3\" class=\"col_heading level0 col3\" >p-val</th>\n",
       "      <th id=\"T_85c93_level0_col4\" class=\"col_heading level0 col4\" >CI95%</th>\n",
       "      <th id=\"T_85c93_level0_col5\" class=\"col_heading level0 col5\" >cohen-d</th>\n",
       "      <th id=\"T_85c93_level0_col6\" class=\"col_heading level0 col6\" >BF10</th>\n",
       "      <th id=\"T_85c93_level0_col7\" class=\"col_heading level0 col7\" >power</th>\n",
       "    </tr>\n",
       "  </thead>\n",
       "  <tbody>\n",
       "    <tr>\n",
       "      <th id=\"T_85c93_level0_row0\" class=\"row_heading level0 row0\" >T-test</th>\n",
       "      <td id=\"T_85c93_row0_col0\" class=\"data row0 col0\" >-0.803000</td>\n",
       "      <td id=\"T_85c93_row0_col1\" class=\"data row0 col1\" >10.459000</td>\n",
       "      <td id=\"T_85c93_row0_col2\" class=\"data row0 col2\" >two-sided</td>\n",
       "      <td id=\"T_85c93_row0_col3\" class=\"data row0 col3\" >0.440000</td>\n",
       "      <td id=\"T_85c93_row0_col4\" class=\"data row0 col4\" >[-6.72  3.14]</td>\n",
       "      <td id=\"T_85c93_row0_col5\" class=\"data row0 col5\" >0.267000</td>\n",
       "      <td id=\"T_85c93_row0_col6\" class=\"data row0 col6\" >0.45</td>\n",
       "      <td id=\"T_85c93_row0_col7\" class=\"data row0 col7\" >0.106000</td>\n",
       "    </tr>\n",
       "  </tbody>\n",
       "</table>\n"
      ],
      "text/plain": [
       "<pandas.io.formats.style.Styler at 0x7fab85a05270>"
      ]
     },
     "execution_count": 23,
     "metadata": {},
     "output_type": "execute_result"
    }
   ],
   "source": [
    "pretty_df(\n",
    "    ttest(\n",
    "        x=cohort[cohort[\"PD_CONVERT\"] == \"stable\"][\"VIENA\"],\n",
    "        y=cohort[cohort[\"PD_CONVERT\"] == \"converter\"][\"VIENA\"],\n",
    "    ),\n",
    "    subset=\"p-val\",\n",
    ")\n"
   ]
  },
  {
   "cell_type": "code",
   "execution_count": 24,
   "metadata": {},
   "outputs": [
    {
     "data": {
      "image/png": "[encoded data removed]",
      "text/plain": [
       "<Figure size 640x480 with 1 Axes>"
      ]
     },
     "metadata": {},
     "output_type": "display_data"
    }
   ],
   "source": [
    "groups = [\"converter\", \"stable\"]\n",
    "plt.boxplot([cohort[\"VIENA\"][cohort[\"PD_CONVERT\"] == g] for g in groups])\n",
    "plt.xticks(np.arange(len(groups)) + 1, groups)\n",
    "plt.ylabel(\"VIENA\")\n",
    "\n",
    "plt.show()\n"
   ]
  },
  {
   "attachments": {},
   "cell_type": "markdown",
   "metadata": {},
   "source": [
    "# Correlations of imaging outcome measures with clinical and cognitive functions\n"
   ]
  },
  {
   "cell_type": "code",
   "execution_count": 25,
   "metadata": {},
   "outputs": [],
   "source": [
    "from pingouin import partial_corr\n"
   ]
  },
  {
   "attachments": {},
   "cell_type": "markdown",
   "metadata": {},
   "source": [
    "## PBVC\n"
   ]
  },
  {
   "attachments": {},
   "cell_type": "markdown",
   "metadata": {},
   "source": [
    "### MoCA\n"
   ]
  },
  {
   "cell_type": "code",
   "execution_count": 26,
   "metadata": {},
   "outputs": [
    {
     "data": {
      "text/html": [
       "<style type=\"text/css\">\n",
       "#T_6c820_row0_col2, #T_6c820_row0_col5, #T_6c820_row1_col4, #T_6c820_row2_col0, #T_6c820_row2_col6, #T_6c820_row2_col7, #T_6c820_row3_col7, #T_6c820_row4_col1, #T_6c820_row4_col5, #T_6c820_row5_col0, #T_6c820_row5_col4, #T_6c820_row5_col7, #T_6c820_row6_col2, #T_6c820_row7_col2, #T_6c820_row7_col3, #T_6c820_row7_col5 {\n",
       "  color: red;\n",
       "}\n",
       "</style>\n",
       "<table id=\"T_6c820\">\n",
       "  <thead>\n",
       "    <tr>\n",
       "      <th class=\"blank level0\" >&nbsp;</th>\n",
       "      <th id=\"T_6c820_level0_col0\" class=\"col_heading level0 col0\" >SIENA</th>\n",
       "      <th id=\"T_6c820_level0_col1\" class=\"col_heading level0 col1\" >MCATOT</th>\n",
       "      <th id=\"T_6c820_level0_col2\" class=\"col_heading level0 col2\" >MCATOT_NX</th>\n",
       "      <th id=\"T_6c820_level0_col3\" class=\"col_heading level0 col3\" >MOCA_PERC_CHANGE</th>\n",
       "      <th id=\"T_6c820_level0_col4\" class=\"col_heading level0 col4\" >AGE_AT_VISIT</th>\n",
       "      <th id=\"T_6c820_level0_col5\" class=\"col_heading level0 col5\" >SEX</th>\n",
       "      <th id=\"T_6c820_level0_col6\" class=\"col_heading level0 col6\" >LEDD</th>\n",
       "      <th id=\"T_6c820_level0_col7\" class=\"col_heading level0 col7\" >time_diff</th>\n",
       "    </tr>\n",
       "  </thead>\n",
       "  <tbody>\n",
       "    <tr>\n",
       "      <th id=\"T_6c820_level0_row0\" class=\"row_heading level0 row0\" >SIENA</th>\n",
       "      <td id=\"T_6c820_row0_col0\" class=\"data row0 col0\" >1.000000</td>\n",
       "      <td id=\"T_6c820_row0_col1\" class=\"data row0 col1\" >0.098000</td>\n",
       "      <td id=\"T_6c820_row0_col2\" class=\"data row0 col2\" >0.043000</td>\n",
       "      <td id=\"T_6c820_row0_col3\" class=\"data row0 col3\" >0.060000</td>\n",
       "      <td id=\"T_6c820_row0_col4\" class=\"data row0 col4\" >0.197000</td>\n",
       "      <td id=\"T_6c820_row0_col5\" class=\"data row0 col5\" >0.049000</td>\n",
       "      <td id=\"T_6c820_row0_col6\" class=\"data row0 col6\" >0.060000</td>\n",
       "      <td id=\"T_6c820_row0_col7\" class=\"data row0 col7\" >0.076000</td>\n",
       "    </tr>\n",
       "    <tr>\n",
       "      <th id=\"T_6c820_level0_row1\" class=\"row_heading level0 row1\" >MCATOT</th>\n",
       "      <td id=\"T_6c820_row1_col0\" class=\"data row1 col0\" >0.098000</td>\n",
       "      <td id=\"T_6c820_row1_col1\" class=\"data row1 col1\" >1.000000</td>\n",
       "      <td id=\"T_6c820_row1_col2\" class=\"data row1 col2\" >0.951000</td>\n",
       "      <td id=\"T_6c820_row1_col3\" class=\"data row1 col3\" >0.936000</td>\n",
       "      <td id=\"T_6c820_row1_col4\" class=\"data row1 col4\" >0.016000</td>\n",
       "      <td id=\"T_6c820_row1_col5\" class=\"data row1 col5\" >0.223000</td>\n",
       "      <td id=\"T_6c820_row1_col6\" class=\"data row1 col6\" >0.055000</td>\n",
       "      <td id=\"T_6c820_row1_col7\" class=\"data row1 col7\" >0.070000</td>\n",
       "    </tr>\n",
       "    <tr>\n",
       "      <th id=\"T_6c820_level0_row2\" class=\"row_heading level0 row2\" >MCATOT_NX</th>\n",
       "      <td id=\"T_6c820_row2_col0\" class=\"data row2 col0\" >0.043000</td>\n",
       "      <td id=\"T_6c820_row2_col1\" class=\"data row2 col1\" >0.951000</td>\n",
       "      <td id=\"T_6c820_row2_col2\" class=\"data row2 col2\" >1.000000</td>\n",
       "      <td id=\"T_6c820_row2_col3\" class=\"data row2 col3\" >0.939000</td>\n",
       "      <td id=\"T_6c820_row2_col4\" class=\"data row2 col4\" >0.143000</td>\n",
       "      <td id=\"T_6c820_row2_col5\" class=\"data row2 col5\" >0.126000</td>\n",
       "      <td id=\"T_6c820_row2_col6\" class=\"data row2 col6\" >0.043000</td>\n",
       "      <td id=\"T_6c820_row2_col7\" class=\"data row2 col7\" >0.023000</td>\n",
       "    </tr>\n",
       "    <tr>\n",
       "      <th id=\"T_6c820_level0_row3\" class=\"row_heading level0 row3\" >MOCA_PERC_CHANGE</th>\n",
       "      <td id=\"T_6c820_row3_col0\" class=\"data row3 col0\" >0.060000</td>\n",
       "      <td id=\"T_6c820_row3_col1\" class=\"data row3 col1\" >0.936000</td>\n",
       "      <td id=\"T_6c820_row3_col2\" class=\"data row3 col2\" >0.939000</td>\n",
       "      <td id=\"T_6c820_row3_col3\" class=\"data row3 col3\" >1.000000</td>\n",
       "      <td id=\"T_6c820_row3_col4\" class=\"data row3 col4\" >0.117000</td>\n",
       "      <td id=\"T_6c820_row3_col5\" class=\"data row3 col5\" >0.095000</td>\n",
       "      <td id=\"T_6c820_row3_col6\" class=\"data row3 col6\" >0.088000</td>\n",
       "      <td id=\"T_6c820_row3_col7\" class=\"data row3 col7\" >0.023000</td>\n",
       "    </tr>\n",
       "    <tr>\n",
       "      <th id=\"T_6c820_level0_row4\" class=\"row_heading level0 row4\" >AGE_AT_VISIT</th>\n",
       "      <td id=\"T_6c820_row4_col0\" class=\"data row4 col0\" >0.197000</td>\n",
       "      <td id=\"T_6c820_row4_col1\" class=\"data row4 col1\" >0.016000</td>\n",
       "      <td id=\"T_6c820_row4_col2\" class=\"data row4 col2\" >0.143000</td>\n",
       "      <td id=\"T_6c820_row4_col3\" class=\"data row4 col3\" >0.117000</td>\n",
       "      <td id=\"T_6c820_row4_col4\" class=\"data row4 col4\" >1.000000</td>\n",
       "      <td id=\"T_6c820_row4_col5\" class=\"data row4 col5\" >0.027000</td>\n",
       "      <td id=\"T_6c820_row4_col6\" class=\"data row4 col6\" >0.125000</td>\n",
       "      <td id=\"T_6c820_row4_col7\" class=\"data row4 col7\" >0.080000</td>\n",
       "    </tr>\n",
       "    <tr>\n",
       "      <th id=\"T_6c820_level0_row5\" class=\"row_heading level0 row5\" >SEX</th>\n",
       "      <td id=\"T_6c820_row5_col0\" class=\"data row5 col0\" >0.049000</td>\n",
       "      <td id=\"T_6c820_row5_col1\" class=\"data row5 col1\" >0.223000</td>\n",
       "      <td id=\"T_6c820_row5_col2\" class=\"data row5 col2\" >0.126000</td>\n",
       "      <td id=\"T_6c820_row5_col3\" class=\"data row5 col3\" >0.095000</td>\n",
       "      <td id=\"T_6c820_row5_col4\" class=\"data row5 col4\" >0.027000</td>\n",
       "      <td id=\"T_6c820_row5_col5\" class=\"data row5 col5\" >1.000000</td>\n",
       "      <td id=\"T_6c820_row5_col6\" class=\"data row5 col6\" >0.230000</td>\n",
       "      <td id=\"T_6c820_row5_col7\" class=\"data row5 col7\" >0.039000</td>\n",
       "    </tr>\n",
       "    <tr>\n",
       "      <th id=\"T_6c820_level0_row6\" class=\"row_heading level0 row6\" >LEDD</th>\n",
       "      <td id=\"T_6c820_row6_col0\" class=\"data row6 col0\" >0.060000</td>\n",
       "      <td id=\"T_6c820_row6_col1\" class=\"data row6 col1\" >0.055000</td>\n",
       "      <td id=\"T_6c820_row6_col2\" class=\"data row6 col2\" >0.043000</td>\n",
       "      <td id=\"T_6c820_row6_col3\" class=\"data row6 col3\" >0.088000</td>\n",
       "      <td id=\"T_6c820_row6_col4\" class=\"data row6 col4\" >0.125000</td>\n",
       "      <td id=\"T_6c820_row6_col5\" class=\"data row6 col5\" >0.230000</td>\n",
       "      <td id=\"T_6c820_row6_col6\" class=\"data row6 col6\" >1.000000</td>\n",
       "      <td id=\"T_6c820_row6_col7\" class=\"data row6 col7\" >0.237000</td>\n",
       "    </tr>\n",
       "    <tr>\n",
       "      <th id=\"T_6c820_level0_row7\" class=\"row_heading level0 row7\" >time_diff</th>\n",
       "      <td id=\"T_6c820_row7_col0\" class=\"data row7 col0\" >0.076000</td>\n",
       "      <td id=\"T_6c820_row7_col1\" class=\"data row7 col1\" >0.070000</td>\n",
       "      <td id=\"T_6c820_row7_col2\" class=\"data row7 col2\" >0.023000</td>\n",
       "      <td id=\"T_6c820_row7_col3\" class=\"data row7 col3\" >0.023000</td>\n",
       "      <td id=\"T_6c820_row7_col4\" class=\"data row7 col4\" >0.080000</td>\n",
       "      <td id=\"T_6c820_row7_col5\" class=\"data row7 col5\" >0.039000</td>\n",
       "      <td id=\"T_6c820_row7_col6\" class=\"data row7 col6\" >0.237000</td>\n",
       "      <td id=\"T_6c820_row7_col7\" class=\"data row7 col7\" >1.000000</td>\n",
       "    </tr>\n",
       "  </tbody>\n",
       "</table>\n"
      ],
      "text/plain": [
       "<pandas.io.formats.style.Styler at 0x7fab858313f0>"
      ]
     },
     "execution_count": 26,
     "metadata": {},
     "output_type": "execute_result"
    }
   ],
   "source": [
    "pretty_df(\n",
    "    cohort[cohort[\"COHORT\"] == 1][\n",
    "        [\n",
    "            \"SIENA\",\n",
    "            \"MCATOT\",\n",
    "            \"MCATOT_NX\",\n",
    "            \"MOCA_PERC_CHANGE\",\n",
    "            \"AGE_AT_VISIT\",\n",
    "            \"SEX\",\n",
    "            \"LEDD\",\n",
    "            \"time_diff\",\n",
    "        ]\n",
    "    ]\n",
    "    .pcorr()\n",
    "    .abs()\n",
    ")\n"
   ]
  },
  {
   "cell_type": "markdown",
   "metadata": {},
   "source": [
    "The cell colored in red have significant correlation $(p < 0.05)$\n"
   ]
  },
  {
   "cell_type": "code",
   "execution_count": 27,
   "metadata": {},
   "outputs": [
    {
     "data": {
      "text/html": [
       "<style type=\"text/css\">\n",
       "</style>\n",
       "<table id=\"T_90f37\">\n",
       "  <thead>\n",
       "    <tr>\n",
       "      <th class=\"blank level0\" >&nbsp;</th>\n",
       "      <th id=\"T_90f37_level0_col0\" class=\"col_heading level0 col0\" >n</th>\n",
       "      <th id=\"T_90f37_level0_col1\" class=\"col_heading level0 col1\" >r</th>\n",
       "      <th id=\"T_90f37_level0_col2\" class=\"col_heading level0 col2\" >CI95%</th>\n",
       "      <th id=\"T_90f37_level0_col3\" class=\"col_heading level0 col3\" >p-val</th>\n",
       "    </tr>\n",
       "  </thead>\n",
       "  <tbody>\n",
       "    <tr>\n",
       "      <th id=\"T_90f37_level0_row0\" class=\"row_heading level0 row0\" >pearson</th>\n",
       "      <td id=\"T_90f37_row0_col0\" class=\"data row0 col0\" >73</td>\n",
       "      <td id=\"T_90f37_row0_col1\" class=\"data row0 col1\" >-0.183000</td>\n",
       "      <td id=\"T_90f37_row0_col2\" class=\"data row0 col2\" >[-0.4   0.06]</td>\n",
       "      <td id=\"T_90f37_row0_col3\" class=\"data row0 col3\" >0.131000</td>\n",
       "    </tr>\n",
       "  </tbody>\n",
       "</table>\n"
      ],
      "text/plain": [
       "<pandas.io.formats.style.Styler at 0x7fac2c23fc70>"
      ]
     },
     "execution_count": 27,
     "metadata": {},
     "output_type": "execute_result"
    }
   ],
   "source": [
    "pretty_df(\n",
    "    partial_corr(\n",
    "        data=cohort[cohort[\"COHORT\"] == 1],\n",
    "        x=\"MCATOT\",\n",
    "        y=\"SIENA\",\n",
    "        covar=[\"AGE_AT_VISIT\", \"SEX\", \"LEDD\", \"time_diff\"],\n",
    "    ),\n",
    "    subset=\"p-val\",\n",
    ")\n"
   ]
  },
  {
   "cell_type": "code",
   "execution_count": 28,
   "metadata": {},
   "outputs": [
    {
     "data": {
      "text/html": [
       "<style type=\"text/css\">\n",
       "</style>\n",
       "<table id=\"T_e1055\">\n",
       "  <thead>\n",
       "    <tr>\n",
       "      <th class=\"blank level0\" >&nbsp;</th>\n",
       "      <th id=\"T_e1055_level0_col0\" class=\"col_heading level0 col0\" >n</th>\n",
       "      <th id=\"T_e1055_level0_col1\" class=\"col_heading level0 col1\" >r</th>\n",
       "      <th id=\"T_e1055_level0_col2\" class=\"col_heading level0 col2\" >CI95%</th>\n",
       "      <th id=\"T_e1055_level0_col3\" class=\"col_heading level0 col3\" >p-val</th>\n",
       "    </tr>\n",
       "  </thead>\n",
       "  <tbody>\n",
       "    <tr>\n",
       "      <th id=\"T_e1055_level0_row0\" class=\"row_heading level0 row0\" >pearson</th>\n",
       "      <td id=\"T_e1055_row0_col0\" class=\"data row0 col0\" >74</td>\n",
       "      <td id=\"T_e1055_row0_col1\" class=\"data row0 col1\" >-0.138000</td>\n",
       "      <td id=\"T_e1055_row0_col2\" class=\"data row0 col2\" >[-0.36  0.1 ]</td>\n",
       "      <td id=\"T_e1055_row0_col3\" class=\"data row0 col3\" >0.256000</td>\n",
       "    </tr>\n",
       "  </tbody>\n",
       "</table>\n"
      ],
      "text/plain": [
       "<pandas.io.formats.style.Styler at 0x7fab8598c910>"
      ]
     },
     "execution_count": 28,
     "metadata": {},
     "output_type": "execute_result"
    }
   ],
   "source": [
    "pretty_df(\n",
    "    partial_corr(\n",
    "        data=cohort[cohort[\"COHORT\"] == 1],\n",
    "        x=\"MCATOT_NX\",\n",
    "        y=\"SIENA\",\n",
    "        covar=[\"AGE_AT_VISIT\", \"SEX\", \"LEDD\", \"time_diff\"],\n",
    "    ),\n",
    "    subset=\"p-val\",\n",
    ")\n"
   ]
  },
  {
   "cell_type": "code",
   "execution_count": 29,
   "metadata": {},
   "outputs": [
    {
     "data": {
      "text/html": [
       "<style type=\"text/css\">\n",
       "</style>\n",
       "<table id=\"T_2460b\">\n",
       "  <thead>\n",
       "    <tr>\n",
       "      <th class=\"blank level0\" >&nbsp;</th>\n",
       "      <th id=\"T_2460b_level0_col0\" class=\"col_heading level0 col0\" >n</th>\n",
       "      <th id=\"T_2460b_level0_col1\" class=\"col_heading level0 col1\" >r</th>\n",
       "      <th id=\"T_2460b_level0_col2\" class=\"col_heading level0 col2\" >CI95%</th>\n",
       "      <th id=\"T_2460b_level0_col3\" class=\"col_heading level0 col3\" >p-val</th>\n",
       "    </tr>\n",
       "  </thead>\n",
       "  <tbody>\n",
       "    <tr>\n",
       "      <th id=\"T_2460b_level0_row0\" class=\"row_heading level0 row0\" >pearson</th>\n",
       "      <td id=\"T_2460b_row0_col0\" class=\"data row0 col0\" >73</td>\n",
       "      <td id=\"T_2460b_row0_col1\" class=\"data row0 col1\" >0.024000</td>\n",
       "      <td id=\"T_2460b_row0_col2\" class=\"data row0 col2\" >[-0.21  0.26]</td>\n",
       "      <td id=\"T_2460b_row0_col3\" class=\"data row0 col3\" >0.845000</td>\n",
       "    </tr>\n",
       "  </tbody>\n",
       "</table>\n"
      ],
      "text/plain": [
       "<pandas.io.formats.style.Styler at 0x7fab8598fa30>"
      ]
     },
     "execution_count": 29,
     "metadata": {},
     "output_type": "execute_result"
    }
   ],
   "source": [
    "pretty_df(\n",
    "    partial_corr(\n",
    "        data=cohort[cohort[\"COHORT\"] == 1],\n",
    "        x=\"MOCA_PERC_CHANGE\",\n",
    "        y=\"SIENA\",\n",
    "        covar=[\"AGE_AT_VISIT\", \"SEX\", \"LEDD\", \"time_diff\"],\n",
    "    ),\n",
    "    subset=\"p-val\",\n",
    ")\n"
   ]
  },
  {
   "attachments": {},
   "cell_type": "markdown",
   "metadata": {},
   "source": [
    "### UPDRS3\n"
   ]
  },
  {
   "cell_type": "code",
   "execution_count": 30,
   "metadata": {},
   "outputs": [
    {
     "data": {
      "text/html": [
       "<style type=\"text/css\">\n",
       "</style>\n",
       "<table id=\"T_0c16d\">\n",
       "  <thead>\n",
       "    <tr>\n",
       "      <th class=\"blank level0\" >&nbsp;</th>\n",
       "      <th id=\"T_0c16d_level0_col0\" class=\"col_heading level0 col0\" >n</th>\n",
       "      <th id=\"T_0c16d_level0_col1\" class=\"col_heading level0 col1\" >r</th>\n",
       "      <th id=\"T_0c16d_level0_col2\" class=\"col_heading level0 col2\" >CI95%</th>\n",
       "      <th id=\"T_0c16d_level0_col3\" class=\"col_heading level0 col3\" >p-val</th>\n",
       "    </tr>\n",
       "  </thead>\n",
       "  <tbody>\n",
       "    <tr>\n",
       "      <th id=\"T_0c16d_level0_row0\" class=\"row_heading level0 row0\" >pearson</th>\n",
       "      <td id=\"T_0c16d_row0_col0\" class=\"data row0 col0\" >73</td>\n",
       "      <td id=\"T_0c16d_row0_col1\" class=\"data row0 col1\" >0.142000</td>\n",
       "      <td id=\"T_0c16d_row0_col2\" class=\"data row0 col2\" >[-0.1   0.37]</td>\n",
       "      <td id=\"T_0c16d_row0_col3\" class=\"data row0 col3\" >0.243000</td>\n",
       "    </tr>\n",
       "  </tbody>\n",
       "</table>\n"
      ],
      "text/plain": [
       "<pandas.io.formats.style.Styler at 0x7fab8598c7f0>"
      ]
     },
     "execution_count": 30,
     "metadata": {},
     "output_type": "execute_result"
    }
   ],
   "source": [
    "pretty_df(\n",
    "    partial_corr(\n",
    "        data=cohort[cohort[\"COHORT\"] == 1],\n",
    "        x=\"NP3TOT\",\n",
    "        y=\"SIENA\",\n",
    "        covar=[\"AGE_AT_VISIT\", \"SEX\", \"LEDD\", \"time_diff\"],\n",
    "    ),\n",
    "    subset=\"p-val\",\n",
    ")\n"
   ]
  },
  {
   "cell_type": "code",
   "execution_count": 31,
   "metadata": {},
   "outputs": [
    {
     "data": {
      "text/html": [
       "<style type=\"text/css\">\n",
       "</style>\n",
       "<table id=\"T_42897\">\n",
       "  <thead>\n",
       "    <tr>\n",
       "      <th class=\"blank level0\" >&nbsp;</th>\n",
       "      <th id=\"T_42897_level0_col0\" class=\"col_heading level0 col0\" >n</th>\n",
       "      <th id=\"T_42897_level0_col1\" class=\"col_heading level0 col1\" >r</th>\n",
       "      <th id=\"T_42897_level0_col2\" class=\"col_heading level0 col2\" >CI95%</th>\n",
       "      <th id=\"T_42897_level0_col3\" class=\"col_heading level0 col3\" >p-val</th>\n",
       "    </tr>\n",
       "  </thead>\n",
       "  <tbody>\n",
       "    <tr>\n",
       "      <th id=\"T_42897_level0_row0\" class=\"row_heading level0 row0\" >pearson</th>\n",
       "      <td id=\"T_42897_row0_col0\" class=\"data row0 col0\" >74</td>\n",
       "      <td id=\"T_42897_row0_col1\" class=\"data row0 col1\" >0.180000</td>\n",
       "      <td id=\"T_42897_row0_col2\" class=\"data row0 col2\" >[-0.06  0.4 ]</td>\n",
       "      <td id=\"T_42897_row0_col3\" class=\"data row0 col3\" >0.135000</td>\n",
       "    </tr>\n",
       "  </tbody>\n",
       "</table>\n"
      ],
      "text/plain": [
       "<pandas.io.formats.style.Styler at 0x7fab859ada80>"
      ]
     },
     "execution_count": 31,
     "metadata": {},
     "output_type": "execute_result"
    }
   ],
   "source": [
    "pretty_df(\n",
    "    partial_corr(\n",
    "        data=cohort[cohort[\"COHORT\"] == 1],\n",
    "        x=\"NP3TOT_NX\",\n",
    "        y=\"SIENA\",\n",
    "        covar=[\"AGE_AT_VISIT\", \"SEX\", \"LEDD\", \"time_diff\"],\n",
    "    ),\n",
    "    subset=\"p-val\",\n",
    ")\n"
   ]
  },
  {
   "cell_type": "code",
   "execution_count": 32,
   "metadata": {},
   "outputs": [
    {
     "data": {
      "text/html": [
       "<style type=\"text/css\">\n",
       "</style>\n",
       "<table id=\"T_22bc8\">\n",
       "  <thead>\n",
       "    <tr>\n",
       "      <th class=\"blank level0\" >&nbsp;</th>\n",
       "      <th id=\"T_22bc8_level0_col0\" class=\"col_heading level0 col0\" >n</th>\n",
       "      <th id=\"T_22bc8_level0_col1\" class=\"col_heading level0 col1\" >r</th>\n",
       "      <th id=\"T_22bc8_level0_col2\" class=\"col_heading level0 col2\" >CI95%</th>\n",
       "      <th id=\"T_22bc8_level0_col3\" class=\"col_heading level0 col3\" >p-val</th>\n",
       "    </tr>\n",
       "  </thead>\n",
       "  <tbody>\n",
       "    <tr>\n",
       "      <th id=\"T_22bc8_level0_row0\" class=\"row_heading level0 row0\" >pearson</th>\n",
       "      <td id=\"T_22bc8_row0_col0\" class=\"data row0 col0\" >73</td>\n",
       "      <td id=\"T_22bc8_row0_col1\" class=\"data row0 col1\" >-0.014000</td>\n",
       "      <td id=\"T_22bc8_row0_col2\" class=\"data row0 col2\" >[-0.25  0.22]</td>\n",
       "      <td id=\"T_22bc8_row0_col3\" class=\"data row0 col3\" >0.908000</td>\n",
       "    </tr>\n",
       "  </tbody>\n",
       "</table>\n"
      ],
      "text/plain": [
       "<pandas.io.formats.style.Styler at 0x7fab859d5ed0>"
      ]
     },
     "execution_count": 32,
     "metadata": {},
     "output_type": "execute_result"
    }
   ],
   "source": [
    "pretty_df(\n",
    "    partial_corr(\n",
    "        data=cohort[cohort[\"COHORT\"] == 1],\n",
    "        x=\"UPDRS3_PERC_CHANGE\",\n",
    "        y=\"SIENA\",\n",
    "        covar=[\"AGE_AT_VISIT\", \"SEX\", \"LEDD\", \"time_diff\"],\n",
    "    ),\n",
    "    subset=\"p-val\",\n",
    ")\n"
   ]
  },
  {
   "attachments": {},
   "cell_type": "markdown",
   "metadata": {},
   "source": [
    "## Ventricular enlargement\n"
   ]
  },
  {
   "cell_type": "code",
   "execution_count": 33,
   "metadata": {},
   "outputs": [
    {
     "data": {
      "text/html": [
       "<style type=\"text/css\">\n",
       "#T_6788d_row1_col4, #T_6788d_row1_col6, #T_6788d_row2_col6, #T_6788d_row2_col7, #T_6788d_row3_col7, #T_6788d_row4_col1, #T_6788d_row4_col5, #T_6788d_row5_col4, #T_6788d_row5_col7, #T_6788d_row6_col1, #T_6788d_row6_col2, #T_6788d_row7_col2, #T_6788d_row7_col3, #T_6788d_row7_col5 {\n",
       "  color: red;\n",
       "}\n",
       "</style>\n",
       "<table id=\"T_6788d\">\n",
       "  <thead>\n",
       "    <tr>\n",
       "      <th class=\"blank level0\" >&nbsp;</th>\n",
       "      <th id=\"T_6788d_level0_col0\" class=\"col_heading level0 col0\" >VIENA</th>\n",
       "      <th id=\"T_6788d_level0_col1\" class=\"col_heading level0 col1\" >MCATOT</th>\n",
       "      <th id=\"T_6788d_level0_col2\" class=\"col_heading level0 col2\" >MCATOT_NX</th>\n",
       "      <th id=\"T_6788d_level0_col3\" class=\"col_heading level0 col3\" >MOCA_PERC_CHANGE</th>\n",
       "      <th id=\"T_6788d_level0_col4\" class=\"col_heading level0 col4\" >AGE_AT_VISIT</th>\n",
       "      <th id=\"T_6788d_level0_col5\" class=\"col_heading level0 col5\" >SEX</th>\n",
       "      <th id=\"T_6788d_level0_col6\" class=\"col_heading level0 col6\" >LEDD</th>\n",
       "      <th id=\"T_6788d_level0_col7\" class=\"col_heading level0 col7\" >time_diff</th>\n",
       "    </tr>\n",
       "  </thead>\n",
       "  <tbody>\n",
       "    <tr>\n",
       "      <th id=\"T_6788d_level0_row0\" class=\"row_heading level0 row0\" >VIENA</th>\n",
       "      <td id=\"T_6788d_row0_col0\" class=\"data row0 col0\" >1.000000</td>\n",
       "      <td id=\"T_6788d_row0_col1\" class=\"data row0 col1\" >0.170000</td>\n",
       "      <td id=\"T_6788d_row0_col2\" class=\"data row0 col2\" >0.188000</td>\n",
       "      <td id=\"T_6788d_row0_col3\" class=\"data row0 col3\" >0.107000</td>\n",
       "      <td id=\"T_6788d_row0_col4\" class=\"data row0 col4\" >0.090000</td>\n",
       "      <td id=\"T_6788d_row0_col5\" class=\"data row0 col5\" >0.271000</td>\n",
       "      <td id=\"T_6788d_row0_col6\" class=\"data row0 col6\" >0.193000</td>\n",
       "      <td id=\"T_6788d_row0_col7\" class=\"data row0 col7\" >0.122000</td>\n",
       "    </tr>\n",
       "    <tr>\n",
       "      <th id=\"T_6788d_level0_row1\" class=\"row_heading level0 row1\" >MCATOT</th>\n",
       "      <td id=\"T_6788d_row1_col0\" class=\"data row1 col0\" >0.170000</td>\n",
       "      <td id=\"T_6788d_row1_col1\" class=\"data row1 col1\" >1.000000</td>\n",
       "      <td id=\"T_6788d_row1_col2\" class=\"data row1 col2\" >0.953000</td>\n",
       "      <td id=\"T_6788d_row1_col3\" class=\"data row1 col3\" >0.936000</td>\n",
       "      <td id=\"T_6788d_row1_col4\" class=\"data row1 col4\" >0.021000</td>\n",
       "      <td id=\"T_6788d_row1_col5\" class=\"data row1 col5\" >0.254000</td>\n",
       "      <td id=\"T_6788d_row1_col6\" class=\"data row1 col6\" >0.015000</td>\n",
       "      <td id=\"T_6788d_row1_col7\" class=\"data row1 col7\" >0.055000</td>\n",
       "    </tr>\n",
       "    <tr>\n",
       "      <th id=\"T_6788d_level0_row2\" class=\"row_heading level0 row2\" >MCATOT_NX</th>\n",
       "      <td id=\"T_6788d_row2_col0\" class=\"data row2 col0\" >0.188000</td>\n",
       "      <td id=\"T_6788d_row2_col1\" class=\"data row2 col1\" >0.953000</td>\n",
       "      <td id=\"T_6788d_row2_col2\" class=\"data row2 col2\" >1.000000</td>\n",
       "      <td id=\"T_6788d_row2_col3\" class=\"data row2 col3\" >0.937000</td>\n",
       "      <td id=\"T_6788d_row2_col4\" class=\"data row2 col4\" >0.134000</td>\n",
       "      <td id=\"T_6788d_row2_col5\" class=\"data row2 col5\" >0.168000</td>\n",
       "      <td id=\"T_6788d_row2_col6\" class=\"data row2 col6\" >0.003000</td>\n",
       "      <td id=\"T_6788d_row2_col7\" class=\"data row2 col7\" >0.003000</td>\n",
       "    </tr>\n",
       "    <tr>\n",
       "      <th id=\"T_6788d_level0_row3\" class=\"row_heading level0 row3\" >MOCA_PERC_CHANGE</th>\n",
       "      <td id=\"T_6788d_row3_col0\" class=\"data row3 col0\" >0.107000</td>\n",
       "      <td id=\"T_6788d_row3_col1\" class=\"data row3 col1\" >0.936000</td>\n",
       "      <td id=\"T_6788d_row3_col2\" class=\"data row3 col2\" >0.937000</td>\n",
       "      <td id=\"T_6788d_row3_col3\" class=\"data row3 col3\" >1.000000</td>\n",
       "      <td id=\"T_6788d_row3_col4\" class=\"data row3 col4\" >0.120000</td>\n",
       "      <td id=\"T_6788d_row3_col5\" class=\"data row3 col5\" >0.117000</td>\n",
       "      <td id=\"T_6788d_row3_col6\" class=\"data row3 col6\" >0.061000</td>\n",
       "      <td id=\"T_6788d_row3_col7\" class=\"data row3 col7\" >0.014000</td>\n",
       "    </tr>\n",
       "    <tr>\n",
       "      <th id=\"T_6788d_level0_row4\" class=\"row_heading level0 row4\" >AGE_AT_VISIT</th>\n",
       "      <td id=\"T_6788d_row4_col0\" class=\"data row4 col0\" >0.090000</td>\n",
       "      <td id=\"T_6788d_row4_col1\" class=\"data row4 col1\" >0.021000</td>\n",
       "      <td id=\"T_6788d_row4_col2\" class=\"data row4 col2\" >0.134000</td>\n",
       "      <td id=\"T_6788d_row4_col3\" class=\"data row4 col3\" >0.120000</td>\n",
       "      <td id=\"T_6788d_row4_col4\" class=\"data row4 col4\" >1.000000</td>\n",
       "      <td id=\"T_6788d_row4_col5\" class=\"data row4 col5\" >0.012000</td>\n",
       "      <td id=\"T_6788d_row4_col6\" class=\"data row4 col6\" >0.154000</td>\n",
       "      <td id=\"T_6788d_row4_col7\" class=\"data row4 col7\" >0.085000</td>\n",
       "    </tr>\n",
       "    <tr>\n",
       "      <th id=\"T_6788d_level0_row5\" class=\"row_heading level0 row5\" >SEX</th>\n",
       "      <td id=\"T_6788d_row5_col0\" class=\"data row5 col0\" >0.271000</td>\n",
       "      <td id=\"T_6788d_row5_col1\" class=\"data row5 col1\" >0.254000</td>\n",
       "      <td id=\"T_6788d_row5_col2\" class=\"data row5 col2\" >0.168000</td>\n",
       "      <td id=\"T_6788d_row5_col3\" class=\"data row5 col3\" >0.117000</td>\n",
       "      <td id=\"T_6788d_row5_col4\" class=\"data row5 col4\" >0.012000</td>\n",
       "      <td id=\"T_6788d_row5_col5\" class=\"data row5 col5\" >1.000000</td>\n",
       "      <td id=\"T_6788d_row5_col6\" class=\"data row5 col6\" >0.273000</td>\n",
       "      <td id=\"T_6788d_row5_col7\" class=\"data row5 col7\" >0.008000</td>\n",
       "    </tr>\n",
       "    <tr>\n",
       "      <th id=\"T_6788d_level0_row6\" class=\"row_heading level0 row6\" >LEDD</th>\n",
       "      <td id=\"T_6788d_row6_col0\" class=\"data row6 col0\" >0.193000</td>\n",
       "      <td id=\"T_6788d_row6_col1\" class=\"data row6 col1\" >0.015000</td>\n",
       "      <td id=\"T_6788d_row6_col2\" class=\"data row6 col2\" >0.003000</td>\n",
       "      <td id=\"T_6788d_row6_col3\" class=\"data row6 col3\" >0.061000</td>\n",
       "      <td id=\"T_6788d_row6_col4\" class=\"data row6 col4\" >0.154000</td>\n",
       "      <td id=\"T_6788d_row6_col5\" class=\"data row6 col5\" >0.273000</td>\n",
       "      <td id=\"T_6788d_row6_col6\" class=\"data row6 col6\" >1.000000</td>\n",
       "      <td id=\"T_6788d_row6_col7\" class=\"data row6 col7\" >0.260000</td>\n",
       "    </tr>\n",
       "    <tr>\n",
       "      <th id=\"T_6788d_level0_row7\" class=\"row_heading level0 row7\" >time_diff</th>\n",
       "      <td id=\"T_6788d_row7_col0\" class=\"data row7 col0\" >0.122000</td>\n",
       "      <td id=\"T_6788d_row7_col1\" class=\"data row7 col1\" >0.055000</td>\n",
       "      <td id=\"T_6788d_row7_col2\" class=\"data row7 col2\" >0.003000</td>\n",
       "      <td id=\"T_6788d_row7_col3\" class=\"data row7 col3\" >0.014000</td>\n",
       "      <td id=\"T_6788d_row7_col4\" class=\"data row7 col4\" >0.085000</td>\n",
       "      <td id=\"T_6788d_row7_col5\" class=\"data row7 col5\" >0.008000</td>\n",
       "      <td id=\"T_6788d_row7_col6\" class=\"data row7 col6\" >0.260000</td>\n",
       "      <td id=\"T_6788d_row7_col7\" class=\"data row7 col7\" >1.000000</td>\n",
       "    </tr>\n",
       "  </tbody>\n",
       "</table>\n"
      ],
      "text/plain": [
       "<pandas.io.formats.style.Styler at 0x7fab85acbd00>"
      ]
     },
     "execution_count": 33,
     "metadata": {},
     "output_type": "execute_result"
    }
   ],
   "source": [
    "pretty_df(\n",
    "    cohort[cohort[\"COHORT\"] == 1][\n",
    "        [\n",
    "            \"VIENA\",\n",
    "            \"MCATOT\",\n",
    "            \"MCATOT_NX\",\n",
    "            \"MOCA_PERC_CHANGE\",\n",
    "            \"AGE_AT_VISIT\",\n",
    "            \"SEX\",\n",
    "            \"LEDD\",\n",
    "            \"time_diff\",\n",
    "        ]\n",
    "    ]\n",
    "    .pcorr()\n",
    "    .abs()\n",
    ")\n"
   ]
  },
  {
   "attachments": {},
   "cell_type": "markdown",
   "metadata": {},
   "source": [
    "The cell colored in red have significant correlation $(p < 0.05)$\n"
   ]
  },
  {
   "attachments": {},
   "cell_type": "markdown",
   "metadata": {},
   "source": [
    "### MoCA\n"
   ]
  },
  {
   "cell_type": "code",
   "execution_count": 34,
   "metadata": {},
   "outputs": [
    {
     "data": {
      "text/html": [
       "<style type=\"text/css\">\n",
       "</style>\n",
       "<table id=\"T_4f5aa\">\n",
       "  <thead>\n",
       "    <tr>\n",
       "      <th class=\"blank level0\" >&nbsp;</th>\n",
       "      <th id=\"T_4f5aa_level0_col0\" class=\"col_heading level0 col0\" >n</th>\n",
       "      <th id=\"T_4f5aa_level0_col1\" class=\"col_heading level0 col1\" >r</th>\n",
       "      <th id=\"T_4f5aa_level0_col2\" class=\"col_heading level0 col2\" >CI95%</th>\n",
       "      <th id=\"T_4f5aa_level0_col3\" class=\"col_heading level0 col3\" >p-val</th>\n",
       "    </tr>\n",
       "  </thead>\n",
       "  <tbody>\n",
       "    <tr>\n",
       "      <th id=\"T_4f5aa_level0_row0\" class=\"row_heading level0 row0\" >pearson</th>\n",
       "      <td id=\"T_4f5aa_row0_col0\" class=\"data row0 col0\" >73</td>\n",
       "      <td id=\"T_4f5aa_row0_col1\" class=\"data row0 col1\" >0.062000</td>\n",
       "      <td id=\"T_4f5aa_row0_col2\" class=\"data row0 col2\" >[-0.18  0.29]</td>\n",
       "      <td id=\"T_4f5aa_row0_col3\" class=\"data row0 col3\" >0.615000</td>\n",
       "    </tr>\n",
       "  </tbody>\n",
       "</table>\n"
      ],
      "text/plain": [
       "<pandas.io.formats.style.Styler at 0x7fab859d4970>"
      ]
     },
     "execution_count": 34,
     "metadata": {},
     "output_type": "execute_result"
    }
   ],
   "source": [
    "pretty_df(\n",
    "    partial_corr(\n",
    "        data=cohort[cohort[\"COHORT\"] == 1],\n",
    "        x=\"MCATOT\",\n",
    "        y=\"VIENA\",\n",
    "        covar=[\"AGE_AT_VISIT\", \"SEX\", \"LEDD\", \"time_diff\"],\n",
    "    ),\n",
    "    subset=\"p-val\",\n",
    ")\n"
   ]
  },
  {
   "cell_type": "code",
   "execution_count": 35,
   "metadata": {},
   "outputs": [
    {
     "data": {
      "text/html": [
       "<style type=\"text/css\">\n",
       "</style>\n",
       "<table id=\"T_94429\">\n",
       "  <thead>\n",
       "    <tr>\n",
       "      <th class=\"blank level0\" >&nbsp;</th>\n",
       "      <th id=\"T_94429_level0_col0\" class=\"col_heading level0 col0\" >n</th>\n",
       "      <th id=\"T_94429_level0_col1\" class=\"col_heading level0 col1\" >r</th>\n",
       "      <th id=\"T_94429_level0_col2\" class=\"col_heading level0 col2\" >CI95%</th>\n",
       "      <th id=\"T_94429_level0_col3\" class=\"col_heading level0 col3\" >p-val</th>\n",
       "    </tr>\n",
       "  </thead>\n",
       "  <tbody>\n",
       "    <tr>\n",
       "      <th id=\"T_94429_level0_row0\" class=\"row_heading level0 row0\" >pearson</th>\n",
       "      <td id=\"T_94429_row0_col0\" class=\"data row0 col0\" >74</td>\n",
       "      <td id=\"T_94429_row0_col1\" class=\"data row0 col1\" >-0.167000</td>\n",
       "      <td id=\"T_94429_row0_col2\" class=\"data row0 col2\" >[-0.39  0.07]</td>\n",
       "      <td id=\"T_94429_row0_col3\" class=\"data row0 col3\" >0.167000</td>\n",
       "    </tr>\n",
       "  </tbody>\n",
       "</table>\n"
      ],
      "text/plain": [
       "<pandas.io.formats.style.Styler at 0x7fab859aefb0>"
      ]
     },
     "execution_count": 35,
     "metadata": {},
     "output_type": "execute_result"
    }
   ],
   "source": [
    "pretty_df(\n",
    "    partial_corr(\n",
    "        data=cohort[cohort[\"COHORT\"] == 1],\n",
    "        x=\"MCATOT_NX\",\n",
    "        y=\"VIENA\",\n",
    "        covar=[\"AGE_AT_VISIT\", \"SEX\", \"LEDD\", \"time_diff\"],\n",
    "    ),\n",
    "    subset=\"p-val\",\n",
    ")\n"
   ]
  },
  {
   "cell_type": "code",
   "execution_count": 36,
   "metadata": {},
   "outputs": [
    {
     "data": {
      "text/html": [
       "<style type=\"text/css\">\n",
       "</style>\n",
       "<table id=\"T_d11a4\">\n",
       "  <thead>\n",
       "    <tr>\n",
       "      <th class=\"blank level0\" >&nbsp;</th>\n",
       "      <th id=\"T_d11a4_level0_col0\" class=\"col_heading level0 col0\" >n</th>\n",
       "      <th id=\"T_d11a4_level0_col1\" class=\"col_heading level0 col1\" >r</th>\n",
       "      <th id=\"T_d11a4_level0_col2\" class=\"col_heading level0 col2\" >CI95%</th>\n",
       "      <th id=\"T_d11a4_level0_col3\" class=\"col_heading level0 col3\" >p-val</th>\n",
       "    </tr>\n",
       "  </thead>\n",
       "  <tbody>\n",
       "    <tr>\n",
       "      <th id=\"T_d11a4_level0_row0\" class=\"row_heading level0 row0\" >pearson</th>\n",
       "      <td id=\"T_d11a4_row0_col0\" class=\"data row0 col0\" >73</td>\n",
       "      <td id=\"T_d11a4_row0_col1\" class=\"data row0 col1\" >-0.208000</td>\n",
       "      <td id=\"T_d11a4_row0_col2\" class=\"data row0 col2\" >[-0.42  0.03]</td>\n",
       "      <td id=\"T_d11a4_row0_col3\" class=\"data row0 col3\" >0.087000</td>\n",
       "    </tr>\n",
       "  </tbody>\n",
       "</table>\n"
      ],
      "text/plain": [
       "<pandas.io.formats.style.Styler at 0x7fab859adf00>"
      ]
     },
     "execution_count": 36,
     "metadata": {},
     "output_type": "execute_result"
    }
   ],
   "source": [
    "pretty_df(\n",
    "    partial_corr(\n",
    "        data=cohort[cohort[\"COHORT\"] == 1],\n",
    "        x=\"MOCA_PERC_CHANGE\",\n",
    "        y=\"VIENA\",\n",
    "        covar=[\"AGE_AT_VISIT\", \"SEX\", \"LEDD\", \"time_diff\"],\n",
    "    ),\n",
    "    subset=\"p-val\",\n",
    ")\n"
   ]
  },
  {
   "attachments": {},
   "cell_type": "markdown",
   "metadata": {},
   "source": [
    "### UPDRS3\n"
   ]
  },
  {
   "cell_type": "code",
   "execution_count": 37,
   "metadata": {},
   "outputs": [
    {
     "data": {
      "text/html": [
       "<style type=\"text/css\">\n",
       "</style>\n",
       "<table id=\"T_6221a\">\n",
       "  <thead>\n",
       "    <tr>\n",
       "      <th class=\"blank level0\" >&nbsp;</th>\n",
       "      <th id=\"T_6221a_level0_col0\" class=\"col_heading level0 col0\" >n</th>\n",
       "      <th id=\"T_6221a_level0_col1\" class=\"col_heading level0 col1\" >r</th>\n",
       "      <th id=\"T_6221a_level0_col2\" class=\"col_heading level0 col2\" >CI95%</th>\n",
       "      <th id=\"T_6221a_level0_col3\" class=\"col_heading level0 col3\" >p-val</th>\n",
       "    </tr>\n",
       "  </thead>\n",
       "  <tbody>\n",
       "    <tr>\n",
       "      <th id=\"T_6221a_level0_row0\" class=\"row_heading level0 row0\" >pearson</th>\n",
       "      <td id=\"T_6221a_row0_col0\" class=\"data row0 col0\" >73</td>\n",
       "      <td id=\"T_6221a_row0_col1\" class=\"data row0 col1\" >0.020000</td>\n",
       "      <td id=\"T_6221a_row0_col2\" class=\"data row0 col2\" >[-0.22  0.26]</td>\n",
       "      <td id=\"T_6221a_row0_col3\" class=\"data row0 col3\" >0.869000</td>\n",
       "    </tr>\n",
       "  </tbody>\n",
       "</table>\n"
      ],
      "text/plain": [
       "<pandas.io.formats.style.Styler at 0x7fab859adab0>"
      ]
     },
     "execution_count": 37,
     "metadata": {},
     "output_type": "execute_result"
    }
   ],
   "source": [
    "pretty_df(\n",
    "    partial_corr(\n",
    "        data=cohort[cohort[\"COHORT\"] == 1],\n",
    "        x=\"NP3TOT\",\n",
    "        y=\"VIENA\",\n",
    "        covar=[\"AGE_AT_VISIT\", \"SEX\", \"LEDD\", \"time_diff\"],\n",
    "    ),\n",
    "    subset=\"p-val\",\n",
    ")\n"
   ]
  },
  {
   "cell_type": "code",
   "execution_count": 38,
   "metadata": {},
   "outputs": [
    {
     "data": {
      "text/html": [
       "<style type=\"text/css\">\n",
       "</style>\n",
       "<table id=\"T_0953d\">\n",
       "  <thead>\n",
       "    <tr>\n",
       "      <th class=\"blank level0\" >&nbsp;</th>\n",
       "      <th id=\"T_0953d_level0_col0\" class=\"col_heading level0 col0\" >n</th>\n",
       "      <th id=\"T_0953d_level0_col1\" class=\"col_heading level0 col1\" >r</th>\n",
       "      <th id=\"T_0953d_level0_col2\" class=\"col_heading level0 col2\" >CI95%</th>\n",
       "      <th id=\"T_0953d_level0_col3\" class=\"col_heading level0 col3\" >p-val</th>\n",
       "    </tr>\n",
       "  </thead>\n",
       "  <tbody>\n",
       "    <tr>\n",
       "      <th id=\"T_0953d_level0_row0\" class=\"row_heading level0 row0\" >pearson</th>\n",
       "      <td id=\"T_0953d_row0_col0\" class=\"data row0 col0\" >74</td>\n",
       "      <td id=\"T_0953d_row0_col1\" class=\"data row0 col1\" >0.029000</td>\n",
       "      <td id=\"T_0953d_row0_col2\" class=\"data row0 col2\" >[-0.21  0.26]</td>\n",
       "      <td id=\"T_0953d_row0_col3\" class=\"data row0 col3\" >0.809000</td>\n",
       "    </tr>\n",
       "  </tbody>\n",
       "</table>\n"
      ],
      "text/plain": [
       "<pandas.io.formats.style.Styler at 0x7fab859af8e0>"
      ]
     },
     "execution_count": 38,
     "metadata": {},
     "output_type": "execute_result"
    }
   ],
   "source": [
    "pretty_df(\n",
    "    partial_corr(\n",
    "        data=cohort[cohort[\"COHORT\"] == 1],\n",
    "        x=\"NP3TOT_NX\",\n",
    "        y=\"VIENA\",\n",
    "        covar=[\"AGE_AT_VISIT\", \"SEX\", \"LEDD\", \"time_diff\"],\n",
    "    ),\n",
    "    subset=\"p-val\",\n",
    ")\n"
   ]
  },
  {
   "cell_type": "code",
   "execution_count": 39,
   "metadata": {},
   "outputs": [
    {
     "data": {
      "text/html": [
       "<style type=\"text/css\">\n",
       "</style>\n",
       "<table id=\"T_8466f\">\n",
       "  <thead>\n",
       "    <tr>\n",
       "      <th class=\"blank level0\" >&nbsp;</th>\n",
       "      <th id=\"T_8466f_level0_col0\" class=\"col_heading level0 col0\" >n</th>\n",
       "      <th id=\"T_8466f_level0_col1\" class=\"col_heading level0 col1\" >r</th>\n",
       "      <th id=\"T_8466f_level0_col2\" class=\"col_heading level0 col2\" >CI95%</th>\n",
       "      <th id=\"T_8466f_level0_col3\" class=\"col_heading level0 col3\" >p-val</th>\n",
       "    </tr>\n",
       "  </thead>\n",
       "  <tbody>\n",
       "    <tr>\n",
       "      <th id=\"T_8466f_level0_row0\" class=\"row_heading level0 row0\" >pearson</th>\n",
       "      <td id=\"T_8466f_row0_col0\" class=\"data row0 col0\" >73</td>\n",
       "      <td id=\"T_8466f_row0_col1\" class=\"data row0 col1\" >-0.021000</td>\n",
       "      <td id=\"T_8466f_row0_col2\" class=\"data row0 col2\" >[-0.26  0.22]</td>\n",
       "      <td id=\"T_8466f_row0_col3\" class=\"data row0 col3\" >0.867000</td>\n",
       "    </tr>\n",
       "  </tbody>\n",
       "</table>\n"
      ],
      "text/plain": [
       "<pandas.io.formats.style.Styler at 0x7fab858525f0>"
      ]
     },
     "execution_count": 39,
     "metadata": {},
     "output_type": "execute_result"
    }
   ],
   "source": [
    "pretty_df(\n",
    "    partial_corr(\n",
    "        data=cohort[cohort[\"COHORT\"] == 1],\n",
    "        x=\"UPDRS3_PERC_CHANGE\",\n",
    "        y=\"VIENA\",\n",
    "        covar=[\"AGE_AT_VISIT\", \"SEX\", \"LEDD\", \"time_diff\"],\n",
    "    ),\n",
    "    subset=\"p-val\",\n",
    ")\n"
   ]
  },
  {
   "cell_type": "code",
   "execution_count": null,
   "metadata": {},
   "outputs": [],
   "source": []
  }
 ],
 "metadata": {
  "kernelspec": {
   "display_name": "mak-etal",
   "language": "python",
   "name": "python3"
  },
  "language_info": {
   "codemirror_mode": {
    "name": "ipython",
    "version": 3
   },
   "file_extension": ".py",
   "mimetype": "text/x-python",
   "name": "python",
   "nbconvert_exporter": "python",
   "pygments_lexer": "ipython3",
   "version": "3.10.8"
  },
  "orig_nbformat": 4
 },
 "nbformat": 4,
 "nbformat_minor": 2
}
