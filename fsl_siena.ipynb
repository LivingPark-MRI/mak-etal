{
 "cells": [
  {
   "cell_type": "code",
   "execution_count": null,
   "metadata": {},
   "outputs": [],
   "source": [
    "import pandas as pd\n",
    "\n",
    "import livingpark_utils.dataset as dataset\n",
    "\n",
    "\n",
    "cohort_file = \"mak-etal-2017-7934773459255573745.csv\"\n",
    "cohort = pd.read_csv(cohort_file)\n",
    "\n",
    "cohort[\"filename\"] = cohort.apply(\n",
    "    lambda row: dataset.ppmi.find_nifti_file_in_cache(row[\"PATNO\"], row[\"EVENT_ID\"], row[\"Description\"]),\n",
    "    axis=1,\n",
    ")\n",
    "print(f\"Missing T1 nifti files: {cohort[cohort['filename'].isnull()].size}\")"
   ]
  },
  {
   "cell_type": "code",
   "execution_count": null,
   "metadata": {},
   "outputs": [],
   "source": [
    "from pathlib import Path\n",
    "import re\n",
    "\n",
    "\n",
    "def filter_cached_patnos(df, pipeline, use_cache=True):\n",
    "    exitcodes = Path(\".exitcodes\")\n",
    "    \n",
    "    if use_cache and exitcodes.exists():\n",
    "        regex = re.compile(r\"(?P<pipeline>.*)\\.(?P<patno>\\d*)\\.(?P<state>.*)\")\n",
    "        cached_patnos = [\n",
    "            int(m[\"patno\"]) \n",
    "            for filename in exitcodes.iterdir() \n",
    "            if (m := regex.search(filename.name)) and m[\"pipeline\"] == pipeline\n",
    "        ]\n",
    "        return df[~df[\"PATNO\"].isin(cached_patnos)].reset_index()\n",
    "    \n",
    "    return df"
   ]
  },
  {
   "cell_type": "code",
   "execution_count": null,
   "metadata": {},
   "outputs": [],
   "source": [
    "import json\n",
    "from pathlib import Path\n",
    "\n",
    "# We drop duplicated patno as FSL SIENA computes a longitudinal metric between both visits.\n",
    "fsl_data = cohort.drop_duplicates(subset=\"PATNO\")[[\"PATNO\", \"filename\"]].merge(\n",
    "    cohort.drop_duplicates(subset=\"PATNO\", keep=\"last\")[[\"PATNO\", \"filename\"]],\n",
    "    on=[\"PATNO\"],\n",
    "    suffixes=(None, \"_2\")\n",
    ")\n",
    "\n",
    "fsl_data = filter_cached_patnos(fsl_data, \"fsl_siena\")\n",
    "\n",
    "json_data = fsl_data[[\"PATNO\", \"filename\", \"filename_2\"]].to_json()\n",
    "meta = json.loads(json_data)\n",
    "\n",
    "with Path(\"fsl_siena.json\").open(\"w\") as fout:\n",
    "    json.dump(meta, fout, indent=4)"
   ]
  },
  {
   "cell_type": "code",
   "execution_count": null,
   "metadata": {},
   "outputs": [],
   "source": [
    "%%writefile fsl_siena.py\n",
    "import os\n",
    "import json\n",
    "from pathlib import Path\n",
    "import sys\n",
    "\n",
    "import boutiques\n",
    "from boutiques.descriptor2func import function\n",
    "\n",
    "\n",
    "zenodo_id = \"zenodo.7435009\"\n",
    "fsl_siena = function(zenodo_id)\n",
    "\n",
    "task_id = str(os.environ[\"SLURM_ARRAY_TASK_ID\"])\n",
    "with open(\"fsl_siena.json\") as fin:\n",
    "    slurm_jobs = json.load(fin)\n",
    "\n",
    "output_dir = Path(\"outputs\", \"fsl_siena\", str(slurm_jobs[\"PATNO\"][task_id])).resolve()\n",
    "output_dir.parent.mkdir(mode=0o755, parents=True, exist_ok=True)\n",
    "\n",
    "output = fsl_siena(\n",
    "    \"--imagepath\",\n",
    "    \"fsl-6.0.4.sif\",\n",
    "    input1=slurm_jobs[\"filename\"][task_id],\n",
    "    input2=slurm_jobs[\"filename_2\"][task_id],\n",
    "    output_dir=output_dir.as_posix(),\n",
    "    viena=True,\n",
    ")\n",
    "\n",
    "exitcode = output.exit_code\n",
    "print(output.stdout)\n",
    "print(output.stderr, file=sys.stderr)\n",
    "\n",
    "# Write successful computations\n",
    "if exitcode == 0:\n",
    "    patno = slurm_jobs['PATNO'][task_id]\n",
    "    exitcode_file = Path(\".exitcodes\", f\"fsl_siena.{patno}.success\").resolve()\n",
    "    exitcode_file.parent.mkdir(mode=0o755, exist_ok=True)\n",
    "    Path.touch(exitcode_file, mode=0o644, exist_ok=True)"
   ]
  },
  {
   "cell_type": "code",
   "execution_count": null,
   "metadata": {},
   "outputs": [],
   "source": [
    "%%writefile fsl_siena.slurm\n",
    "#!/bin/sh\n",
    "\n",
    "#SBATCH -J fsl_siena\n",
    "#SBATCH --nodes=1\n",
    "#SBATCH --mem=8G\n",
    "#SBATCH --cpus-per-task=2\n",
    "# Outputs ----------------------------------\n",
    "#SBATCH -o log/%x-%A-%a.out\n",
    "#SBATCH -e log/%x-%A-%a.err\n",
    "# ------------------------------------------\n",
    "\n",
    "module load singularity\n",
    "source .venv/bin/activate\n",
    "python fsl_siena.py"
   ]
  },
  {
   "cell_type": "code",
   "execution_count": null,
   "metadata": {},
   "outputs": [],
   "source": [
    "Path(\"log\").mkdir(mode=0o755, exist_ok=True)"
   ]
  },
  {
   "cell_type": "code",
   "execution_count": null,
   "metadata": {},
   "outputs": [],
   "source": [
    "! sbatch --array=0-$(( $(jq \".PATNO | length\" fsl_siena.json) - 1 ))%60 --account=rrg-glatard fsl_siena.slurm"
   ]
  },
  {
   "cell_type": "code",
   "execution_count": null,
   "metadata": {},
   "outputs": [],
   "source": []
  }
 ],
 "metadata": {
  "kernelspec": {
   "display_name": "Python 3 (ipykernel)",
   "language": "python",
   "name": "python3"
  },
  "language_info": {
   "codemirror_mode": {
    "name": "ipython",
    "version": 3
   },
   "file_extension": ".py",
   "mimetype": "text/x-python",
   "name": "python",
   "nbconvert_exporter": "python",
   "pygments_lexer": "ipython3",
   "version": "3.10.2"
  }
 },
 "nbformat": 4,
 "nbformat_minor": 4
}
