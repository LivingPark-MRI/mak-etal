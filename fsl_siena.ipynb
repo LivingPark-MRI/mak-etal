{
 "cells": [
  {
   "cell_type": "code",
   "execution_count": 1,
   "metadata": {},
   "outputs": [
    {
     "name": "stdout",
     "output_type": "stream",
     "text": [
      "Missing T1 nifti files: 0\n"
     ]
    }
   ],
   "source": [
    "import pandas as pd\n",
    "\n",
    "from livingpark_utils.dataset.ppmi import find_nifti_file_in_cache\n",
    "\n",
    "\n",
    "cohort_file = \"mak-etal-2017-mixed-2630194534343638755.csv\"\n",
    "cohort = pd.read_csv(cohort_file)\n",
    "\n",
    "cohort[\"filename\"] = cohort.apply(\n",
    "    lambda row: find_nifti_file_in_cache(\n",
    "        row[\"PATNO\"], row[\"EVENT_ID\"], row[\"Description\"], debug=False\n",
    "    ),\n",
    "    axis=1,\n",
    ")\n",
    "print(f\"Missing T1 nifti files: {cohort[cohort['filename'] == ''].__len__()}\")\n"
   ]
  },
  {
   "attachments": {},
   "cell_type": "markdown",
   "metadata": {},
   "source": [
    "# Failed DICOM to NIfTI conversion\n"
   ]
  },
  {
   "attachments": {},
   "cell_type": "markdown",
   "metadata": {},
   "source": [
    "Some images failed the automatic conversion, when using `livingpark_utils`.\n",
    "We fixed those images manually using `dcm2niix` then mapped them using the code below\n"
   ]
  },
  {
   "cell_type": "code",
   "execution_count": 2,
   "metadata": {},
   "outputs": [],
   "source": [
    "# Uncomment to run the DICOM to NIfTI conversion manually\n",
    "# ! for f in $(find PPMI -mindepth 4 -type d); do dcm2niix $f &; done\n"
   ]
  },
  {
   "cell_type": "code",
   "execution_count": 3,
   "metadata": {},
   "outputs": [],
   "source": [
    "import os.path\n",
    "from pathlib import Path\n",
    "from livingpark_utils.dataset.ppmi import clean_protocol_description\n",
    "from livingpark_utils.download.ppmi import find_dicom\n",
    "\n",
    "\n",
    "def fix_conversion(\n",
    "    sub_id,\n",
    "    event_id,\n",
    "    desc,\n",
    "):\n",
    "    p = find_dicom(sub_id, event_id, desc)[0].parent\n",
    "\n",
    "    if (l := list(p.glob(\"*.nii\"))) != []:\n",
    "        nifti_file: Path = l[0]\n",
    "\n",
    "    in_file = (\n",
    "        Path(\"inputs\")\n",
    "        / f\"sub-{sub_id}\"\n",
    "        / f\"ses-{event_id}\"\n",
    "        / \"anat\"\n",
    "        / f\"PPMI_{sub_id}_{clean_protocol_description(desc)}.nii.gz\"\n",
    "    )\n",
    "    out_file = (\n",
    "        Path(\"outputs\")\n",
    "        / \"pre_processing\"\n",
    "        / f\"sub-{sub_id}\"\n",
    "        / f\"ses-{event_id}\"\n",
    "        / \"anat\"\n",
    "        / f\"PPMI_{sub_id}_{clean_protocol_description(desc)}.nii.gz\"\n",
    "    )\n",
    "\n",
    "    nifti_file.rename(in_file)\n",
    "\n",
    "    in_file.parent.mkdir(parents=True, exist_ok=True, mode=0o755)\n",
    "    out_file.parent.mkdir(parents=True, exist_ok=True, mode=0o755)\n",
    "\n",
    "    relative_path = os.path.relpath(in_file, start=out_file)\n",
    "\n",
    "    if out_file.is_symlink():\n",
    "        out_file.unlink()\n",
    "    out_file.symlink_to(relative_path)\n"
   ]
  },
  {
   "cell_type": "code",
   "execution_count": 4,
   "metadata": {},
   "outputs": [],
   "source": [
    "%%capture\n",
    "\n",
    "cohort[cohort['filename'] == ''][[\"PATNO\", \"EVENT_ID\", \"Description\"]].apply(\n",
    "    lambda row: \n",
    "    fix_conversion(row[\"PATNO\"], row[\"EVENT_ID\"], row[\"Description\"]),\n",
    "    axis=1\n",
    ")"
   ]
  },
  {
   "cell_type": "code",
   "execution_count": 5,
   "metadata": {},
   "outputs": [
    {
     "name": "stdout",
     "output_type": "stream",
     "text": [
      "Missing T1 nifti files: 0\n"
     ]
    }
   ],
   "source": [
    "cohort[\"filename\"] = cohort.apply(\n",
    "    lambda row: find_nifti_file_in_cache(\n",
    "        row[\"PATNO\"], row[\"EVENT_ID\"], row[\"Description\"], debug=False\n",
    "    ),\n",
    "    axis=1,\n",
    ")\n",
    "print(f\"Missing T1 nifti files: {cohort[cohort['filename'] == ''].__len__()}\")\n"
   ]
  },
  {
   "attachments": {},
   "cell_type": "markdown",
   "metadata": {},
   "source": [
    "# Pre-processing\n"
   ]
  },
  {
   "cell_type": "code",
   "execution_count": 6,
   "metadata": {},
   "outputs": [],
   "source": [
    "from pathlib import Path\n",
    "import re\n",
    "\n",
    "\n",
    "def filter_cached_patnos(df, pipeline, use_cache=True):\n",
    "    exitcodes = Path(\".exitcodes\")\n",
    "\n",
    "    if use_cache and exitcodes.exists():\n",
    "        regex = re.compile(r\"(?P<pipeline>.*)\\.(?P<patno>\\d*)\\.(?P<state>.*)\")\n",
    "        cached_patnos = [\n",
    "            int(m[\"patno\"])\n",
    "            for filename in exitcodes.iterdir()\n",
    "            if (m := regex.search(filename.name)) and m[\"pipeline\"] == pipeline\n",
    "        ]\n",
    "        return df[~df[\"PATNO\"].isin(cached_patnos)].reset_index()\n",
    "\n",
    "    return df\n"
   ]
  },
  {
   "cell_type": "code",
   "execution_count": 7,
   "metadata": {},
   "outputs": [],
   "source": [
    "import json\n",
    "from pathlib import Path\n",
    "\n",
    "# We drop duplicated patno as FSL SIENA computes a longitudinal metric between both visits.\n",
    "fsl_data = cohort.drop_duplicates(subset=\"PATNO\")[[\"PATNO\", \"filename\"]].merge(\n",
    "    cohort.drop_duplicates(subset=\"PATNO\", keep=\"last\")[[\"PATNO\", \"filename\"]],\n",
    "    on=[\"PATNO\"],\n",
    "    suffixes=(None, \"_2\"),\n",
    ")\n",
    "\n",
    "fsl_data = filter_cached_patnos(fsl_data, \"fsl_siena\")\n",
    "\n",
    "json_data = fsl_data[[\"PATNO\", \"filename\", \"filename_2\"]].to_json()\n",
    "meta = json.loads(json_data)\n",
    "\n",
    "with Path(\"fsl_siena.json\").open(\"w\") as fout:\n",
    "    json.dump(meta, fout, indent=4)\n"
   ]
  },
  {
   "cell_type": "code",
   "execution_count": 8,
   "metadata": {},
   "outputs": [
    {
     "name": "stdout",
     "output_type": "stream",
     "text": [
      "Overwriting fsl_siena.py\n"
     ]
    }
   ],
   "source": [
    "%%writefile fsl_siena.py\n",
    "import json\n",
    "from pathlib import Path\n",
    "import sys\n",
    "\n",
    "from boutiques.descriptor2func import function\n",
    "\n",
    "\n",
    "zenodo_id = \"zenodo.7435009\"\n",
    "fsl_siena = function(zenodo_id)\n",
    "\n",
    "task_id = sys.argv[1]\n",
    "with open(\"fsl_siena.json\") as fin:\n",
    "    jobs = json.load(fin)\n",
    "\n",
    "output_dir = Path(\"outputs\", \"fsl_siena\", str(jobs[\"PATNO\"][task_id])).resolve()\n",
    "output_dir.parent.mkdir(mode=0o755, parents=True, exist_ok=True)\n",
    "\n",
    "output = fsl_siena(\n",
    "    \"--imagepath\",\n",
    "    \"fsl-6.0.4.sif\",\n",
    "    input1=jobs[\"filename\"][task_id],\n",
    "    input2=jobs[\"filename_2\"][task_id],\n",
    "    output_dir=output_dir.as_posix(),\n",
    "    viena=True,\n",
    ")\n",
    "\n",
    "exitcode = output.exit_code\n",
    "print(output.stdout)\n",
    "print(output.stderr, file=sys.stderr)\n",
    "\n",
    "# Write successful computations\n",
    "if exitcode == 0:\n",
    "    patno = jobs['PATNO'][task_id]\n",
    "    exitcode_file = Path(\".exitcodes\", f\"fsl_siena.{patno}.success\").resolve()\n",
    "    exitcode_file.parent.mkdir(mode=0o755, exist_ok=True)\n",
    "    Path.touch(exitcode_file, mode=0o644, exist_ok=True)"
   ]
  },
  {
   "cell_type": "markdown",
   "metadata": {},
   "source": [
    "## Slurm\n"
   ]
  },
  {
   "cell_type": "code",
   "execution_count": 9,
   "metadata": {},
   "outputs": [
    {
     "name": "stdout",
     "output_type": "stream",
     "text": [
      "Overwriting fsl_siena.slurm\n"
     ]
    }
   ],
   "source": [
    "%%writefile fsl_siena.slurm\n",
    "#!/bin/sh\n",
    "\n",
    "#SBATCH -J fsl_siena\n",
    "#SBATCH --nodes=1\n",
    "#SBATCH --mem=8G\n",
    "#SBATCH --cpus-per-task=2\n",
    "# Outputs ----------------------------------\n",
    "#SBATCH -o log/%x-%A-%a.out\n",
    "#SBATCH -e log/%x-%A-%a.err\n",
    "# ------------------------------------------\n",
    "\n",
    "module load singularity\n",
    "source .venv/bin/activate\n",
    "python fsl_siena.py ${SLURM_ARRAY_TASK_ID}"
   ]
  },
  {
   "cell_type": "code",
   "execution_count": 10,
   "metadata": {},
   "outputs": [],
   "source": [
    "# Path(\"log\").mkdir(mode=0o755, exist_ok=True)\n"
   ]
  },
  {
   "cell_type": "code",
   "execution_count": 11,
   "metadata": {},
   "outputs": [],
   "source": [
    "# ! sbatch --array=0-$(( $(jq \".PATNO | length\" fsl_siena.json) - 1 ))%60 --account=rrg-glatard fsl_siena.slurm\n"
   ]
  },
  {
   "cell_type": "markdown",
   "metadata": {},
   "source": [
    "## Local\n"
   ]
  },
  {
   "cell_type": "code",
   "execution_count": 12,
   "metadata": {},
   "outputs": [
    {
     "data": {
      "application/vnd.jupyter.widget-view+json": {
       "model_id": "87c41b506f924106bbb3259bd30fff26",
       "version_major": 2,
       "version_minor": 0
      },
      "text/plain": [
       "0it [00:00, ?it/s]"
      ]
     },
     "metadata": {},
     "output_type": "display_data"
    }
   ],
   "source": [
    "import json\n",
    "import os\n",
    "from tqdm.contrib.concurrent import thread_map\n",
    "\n",
    "\n",
    "with Path(\"fsl_siena.json\").open() as fin:\n",
    "    jobs = json.load(fin)\n",
    "\n",
    "processes = [f\"python fsl_siena.py {i}\" for i in range(len(jobs[\"PATNO\"]))]\n",
    "r = thread_map(os.system, processes)\n"
   ]
  },
  {
   "cell_type": "markdown",
   "metadata": {},
   "source": []
  }
 ],
 "metadata": {
  "kernelspec": {
   "display_name": "Python 3 (ipykernel)",
   "language": "python",
   "name": "python3"
  },
  "language_info": {
   "codemirror_mode": {
    "name": "ipython",
    "version": 3
   },
   "file_extension": ".py",
   "mimetype": "text/x-python",
   "name": "python",
   "nbconvert_exporter": "python",
   "pygments_lexer": "ipython3",
   "version": "3.10.8"
  }
 },
 "nbformat": 4,
 "nbformat_minor": 4
}
