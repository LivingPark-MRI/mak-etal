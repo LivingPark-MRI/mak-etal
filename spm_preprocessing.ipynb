{
 "cells": [
  {
   "cell_type": "code",
   "execution_count": null,
   "metadata": {},
   "outputs": [],
   "source": [
    "import livingpark_utils\n",
    "import pandas as pd\n",
    "\n",
    "\n",
    "utils = livingpark_utils.LivingParkUtils()\n",
    "\n",
    "cohort = pd.read_csv(\"mak-etal-2017-7934773459255573745.csv\")\n",
    "\n",
    "###\n",
    "from pathlib import Path\n",
    "from livingpark_utils.dataset import ppmi\n",
    "cohort[\"nifti_cache\"] = cohort.apply(\n",
    "            lambda row: ppmi.find_nifti_file_in_cache(\n",
    "                row[\"PATNO\"],\n",
    "                row[\"EVENT_ID\"],\n",
    "                row[\"Description\"],\n",
    "                base_dir=Path(\"inputs\").as_posix(),\n",
    "            ),\n",
    "            axis=1,\n",
    "        )\n",
    "\n",
    "#### TEST only\n",
    "cohort = cohort[cohort[\"nifti_cache\"] != \"\"].drop(columns=[\"nifti_cache\"]).reset_index()\n",
    "####\n",
    "\n",
    "baseline = cohort[cohort[\"MRI_ID\"].str.endswith(\"_Baseline\")].sort_values(\n",
    "            by=[\"PATNO\"]\n",
    "        )\n",
    "follow_up = cohort[cohort[\"MRI_ID\"].str.endswith(\"_Follow-up\")].sort_values(\n",
    "    by=[\"PATNO\"]\n",
    ")"
   ]
  },
  {
   "cell_type": "code",
   "execution_count": null,
   "metadata": {},
   "outputs": [],
   "source": [
    "from livingpark_utils.pipeline.spm import SPM\n",
    "\n",
    "spm = SPM(code_dir=utils.code_dir, cache=utils.data_cache_path)\n",
    "spm.pairwise_registration(cohort, time_diff=1, force=False)"
   ]
  },
  {
   "cell_type": "code",
   "execution_count": null,
   "metadata": {},
   "outputs": [],
   "source": [
    "baseline.apply(\n",
    "    lambda subject:\n",
    "    spm.spatial_normalization(subject, align_img_prefix=\"avg_\", write_img_prefix=\"dv_\"),\n",
    "    axis=1\n",
    ")"
   ]
  },
  {
   "cell_type": "code",
   "execution_count": null,
   "metadata": {},
   "outputs": [],
   "source": [
    "spm.spatial_smoothing(baseline, img_prefix=\"wdv_\")"
   ]
  },
  {
   "cell_type": "code",
   "execution_count": null,
   "metadata": {},
   "outputs": [],
   "source": []
  }
 ],
 "metadata": {
  "kernelspec": {
   "display_name": "mak-etal",
   "language": "python",
   "name": "python3"
  },
  "language_info": {
   "codemirror_mode": {
    "name": "ipython",
    "version": 3
   },
   "file_extension": ".py",
   "mimetype": "text/x-python",
   "name": "python",
   "nbconvert_exporter": "python",
   "pygments_lexer": "ipython3",
   "version": "3.10.8"
  },
  "orig_nbformat": 4,
  "vscode": {
   "interpreter": {
    "hash": "368a3cd448bc5650c9aefc40ab13ff221d17c2de7383c27166631020c7dfeefa"
   }
  }
 },
 "nbformat": 4,
 "nbformat_minor": 2
}
